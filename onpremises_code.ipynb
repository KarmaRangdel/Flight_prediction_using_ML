{
  "cells": [
    {
      "cell_type": "markdown",
      "metadata": {
        "id": "m3tVHeLY3w8w"
      },
      "source": [
        "# Problem: Predicting Airplane Delays\n",
        "\n",
        "The goals of this notebook are:\n",
        "- Process and create a dataset from downloaded ZIP files\n",
        "- Exploratory data analysis (EDA)\n",
        "- Establish a baseline model and improve it\n",
        "\n",
        "## Introduction to business scenario\n",
        "You work for a travel booking website that is working to improve the customer experience for flights that were delayed. The company wants to create a feature to let customers know if the flight will be delayed due to weather when the customers are booking the flight to or from the busiest airports for domestic travel in the US.\n",
        "\n",
        "You are tasked with solving part of this problem by leveraging machine learning to identify whether the flight will be delayed due to weather. You have been given access to the a dataset of on-time performance of domestic flights operated by large air carriers. You can use this data to train a machine learning model to predict if the flight is going to be delayed for the busiest airports.\n",
        "\n",
        "### Dataset\n",
        "The provided dataset contains scheduled and actual departure and arrival times reported by certified US air carriers that account for at least 1 percent of domestic scheduled passenger revenues. The data was collected by the Office of Airline Information, Bureau of Transportation Statistics (BTS). The dataset contains date, time, origin, destination, airline, distance, and delay status of flights for flights between 2014 and 2018.\n",
        "The data are in 60 compressed files, where each file contains a CSV for the flight details in a month for the five years (from 2014 - 2018). The data can be downloaded from this [link](https://ucstaff-my.sharepoint.com/:f:/g/personal/ibrahim_radwan_canberra_edu_au/EhWeqeQsh-9Mr1fneZc9_0sBOBzEdXngvxFJtAlIa-eAgA?e=8ukWwa). Please download the data files and place them on a relative path. Dataset(s) used in this assignment were compiled by the Office of Airline Information, Bureau of Transportation Statistics (BTS), Airline On-Time Performance Data, available with the following [link](https://www.transtats.bts.gov/Fields.asp?gnoyr_VQ=FGJ)."
      ]
    },
    {
      "cell_type": "markdown",
      "metadata": {
        "id": "CTiOucm43w84"
      },
      "source": [
        "# Step 1: Problem formulation and data collection\n",
        "\n",
        "Start this project off by writing a few sentences below that summarize the business problem and the business goal you're trying to achieve in this scenario. Include a business metric you would like your team to aspire toward. With that information defined, clearly write out the machine learning problem statement. Finally, add a comment or two about the type of machine learning this represents.\n",
        "\n",
        "\n",
        "### 1. Determine if and why ML is an appropriate solution to deploy."
      ]
    },
    {
      "cell_type": "markdown",
      "metadata": {
        "id": "9rxKcBmJXIia"
      },
      "source": [
        "# Write your answer here and turn the cell type into markdown\n",
        "```\n",
        "\n",
        "**Why ML is appropriate**\n",
        "\n",
        "\n",
        "*   ML is appropriate because it can identify hidden patterns and insights from\n",
        "complex historical data.\n",
        "*   We need to develope an automated system for immidiate prediction in booking time\n",
        "*   It can process thousands of flights booking simultaneously so it is scalable also.\n",
        "\n",
        "* We can continuely improve model because we can update models on new flights data as well.\n",
        "\n",
        "* Cost and Time saving\n",
        "\n",
        "\n",
        "\n",
        "\n",
        "```\n"
      ]
    },
    {
      "cell_type": "markdown",
      "metadata": {
        "id": "vDVL1X6s3w86"
      },
      "source": [
        "### 2. Formulate the business problem, success metrics, and desired ML output."
      ]
    },
    {
      "cell_type": "markdown",
      "metadata": {
        "id": "S_FDU3oAZd69"
      },
      "source": [
        "# Write your answer here and turn the cell type into markdown\n",
        "```\n",
        "\n",
        "** Business Problem **\n",
        "Aim is to develope a binary classification model\n",
        "that can predict whether a scheduled\n",
        "flights will experience\n",
        "weather related delays based on\n",
        "historical flights data , airline information,\n",
        "temporal factor and route characteristics.\n",
        "\n",
        "\n",
        "** Success Metrics **\n",
        "- ML Metrics\n",
        "We will evcaluate model using accuracy scores, f1-score, precision, recall, roc curve and confusion metrics.\n",
        "\n",
        "- Business Metrics\n",
        "It will reduce customer service calls about delays, improved booking conversion rate and customer satisfaction.\n",
        "\n",
        "** Desired ML output **\n",
        "It is probablity score (0,1) indicating likelyhood of flight delay for each flight booking uisng binary classification models based on optimal threshhold.\n",
        "\n",
        "```"
      ]
    },
    {
      "cell_type": "markdown",
      "metadata": {
        "id": "cMSK7-ZU3w87"
      },
      "source": [
        "### 3. Identify the type of ML problem you’re dealing with."
      ]
    },
    {
      "cell_type": "markdown",
      "metadata": {
        "id": "SBKjqy3makos"
      },
      "source": [
        "```\n",
        "# Write your answer here and turn the cell type into markdown\n",
        "This is binary classification problem in which our target is to predict delays in flight. O shows no delay and 1 shows delay.\n",
        "\n",
        "```"
      ]
    },
    {
      "cell_type": "markdown",
      "metadata": {},
      "source": [
        "**Why ML is appropriate**\n",
        "\n",
        "\n",
        "*   ML is appropriate because it can identify hidden patterns and insights from\n",
        "complex historical data.\n",
        "*   We need to develope an automated system for immidiate prediction in booking time\n",
        "*   It can process thousands of flights booking simultaneously so it is scalable also.\n",
        "\n",
        "* We can continuely improve model because we can update models on new flights data as well.\n",
        "\n",
        "* Cost and Time saving\n",
        "\n"
      ]
    },
    {
      "cell_type": "markdown",
      "metadata": {},
      "source": [
        "\n",
        "** Business Problem **\n",
        "Aim is to develope a binary classification model\n",
        "that can predict whether a scheduled\n",
        "flights will experience\n",
        "weather related delays based on\n",
        "historical flights data , airline information,\n",
        "temporal factor and route characteristics.\n",
        "\n",
        "\n",
        "** Success Metrics **\n",
        "- ML Metrics\n",
        "We will evcaluate model using accuracy scores, f1-score, precision, recall, roc curve and confusion metrics.\n",
        "\n",
        "- Business Metrics\n",
        "It will reduce customer service calls about delays, improved booking conversion rate and customer satisfaction.\n",
        "\n",
        "** Desired ML output **\n",
        "It is probablity score (0,1) indicating likelyhood of flight delay for each flight booking uisng binary classification models based on optimal threshhold.\n"
      ]
    },
    {
      "cell_type": "markdown",
      "metadata": {
        "id": "QkPmzU513w87"
      },
      "source": [
        "### Setup\n",
        "\n",
        "Now that we have decided where to focus our energy, let's set things up so you can start working on solving the problem."
      ]
    },
    {
      "cell_type": "code",
      "execution_count": 6,
      "metadata": {
        "colab": {
          "base_uri": "https://localhost:8080/"
        },
        "id": "i7PP9ztt3_P7",
        "outputId": "8b885095-7f9c-4cb8-de55-1d1ea5fe3c06"
      },
      "outputs": [
        {
          "name": "stdout",
          "output_type": "stream",
          "text": [
            "Requirement already satisfied: pathlib2 in /usr/local/lib/python3.12/dist-packages (2.3.7.post1)\n",
            "Requirement already satisfied: six in /usr/local/lib/python3.12/dist-packages (from pathlib2) (1.17.0)\n"
          ]
        }
      ],
      "source": [
        "pip install pathlib2"
      ]
    },
    {
      "cell_type": "code",
      "execution_count": 7,
      "metadata": {
        "id": "zEAZkxN93w88"
      },
      "outputs": [],
      "source": [
        "import os\n",
        "from pathlib2 import Path\n",
        "from zipfile import ZipFile\n",
        "import time\n",
        "import zipfile\n",
        "import pandas as pd\n",
        "import numpy as np\n",
        "import subprocess\n",
        "\n",
        "import matplotlib.pyplot as plt\n",
        "import seaborn as sns\n",
        "\n",
        "sns.set()\n",
        "\n",
        "import warnings\n",
        "warnings.filterwarnings('ignore')\n",
        "\n",
        "%matplotlib inline\n",
        "\n",
        "# <please add any other library or function you are aiming to import here>\n"
      ]
    },
    {
      "cell_type": "markdown",
      "metadata": {
        "id": "jMLh7bMG3w88"
      },
      "source": [
        "# Step 2: Data preprocessing and visualization  \n",
        "In this data preprocessing phase, you should take the opportunity to explore and visualize your data to better understand it. First, import the necessary libraries and read the data into a Pandas dataframe. After that, explore your data. Look for the shape of the dataset and explore your columns and the types of columns you're working with (numerical, categorical). Consider performing basic statistics on the features to get a sense of feature means and ranges. Take a close look at your target column and determine its distribution.\n",
        "\n",
        "### Specific questions to consider\n",
        "1. What can you deduce from the basic statistics you ran on the features?\n",
        "\n",
        "2. What can you deduce from the distributions of the target classes?\n",
        "\n",
        "3. Is there anything else you deduced from exploring the data?"
      ]
    },
    {
      "cell_type": "markdown",
      "metadata": {
        "id": "J4iKxm543w88"
      },
      "source": [
        "Start by bringing in the dataset from an Amazon S3 public bucket to this notebook environment."
      ]
    },
    {
      "cell_type": "code",
      "execution_count": 8,
      "metadata": {
        "id": "5ijIbIif3w88"
      },
      "outputs": [],
      "source": [
        "# download the files\n",
        "\n",
        "# <note: make them all relative, absolute path is not accepted>\n",
        "zip_path = '/content/data_compressed.zip'   #\n",
        "base_path = '/content/'\n",
        "csv_base_path = '/content/csv_data/'\n",
        "\n",
        "# create output directory\n",
        "!mkdir -p {csv_base_path}"
      ]
    },
    {
      "cell_type": "markdown",
      "metadata": {
        "id": "qMLQknk43w89"
      },
      "source": [
        "#### Extract CSV files from ZIP files"
      ]
    },
    {
      "cell_type": "code",
      "execution_count": 9,
      "metadata": {
        "colab": {
          "base_uri": "https://localhost:8080/"
        },
        "id": "ItRqWE853w89",
        "outputId": "138c31a2-b3ef-49bc-f1e7-329cfcee9bac",
        "scrolled": true
      },
      "outputs": [
        {
          "name": "stdout",
          "output_type": "stream",
          "text": [
            "Extracted 60 files:\n",
            "['data_compressed/On_Time_Reporting_Carrier_On_Time_Performance_1987_present_2014_1.zip', 'data_compressed/On_Time_Reporting_Carrier_On_Time_Performance_1987_present_2014_10.zip', 'data_compressed/On_Time_Reporting_Carrier_On_Time_Performance_1987_present_2014_11.zip', 'data_compressed/On_Time_Reporting_Carrier_On_Time_Performance_1987_present_2014_12.zip', 'data_compressed/On_Time_Reporting_Carrier_On_Time_Performance_1987_present_2014_2.zip', 'data_compressed/On_Time_Reporting_Carrier_On_Time_Performance_1987_present_2014_3.zip', 'data_compressed/On_Time_Reporting_Carrier_On_Time_Performance_1987_present_2014_4.zip', 'data_compressed/On_Time_Reporting_Carrier_On_Time_Performance_1987_present_2014_5.zip', 'data_compressed/On_Time_Reporting_Carrier_On_Time_Performance_1987_present_2014_6.zip', 'data_compressed/On_Time_Reporting_Carrier_On_Time_Performance_1987_present_2014_7.zip']\n",
            "Extracted nested zip: /content/csv_data/data_compressed/On_Time_Reporting_Carrier_On_Time_Performance_1987_present_2014_1.zip\n",
            "Extracted nested zip: /content/csv_data/data_compressed/On_Time_Reporting_Carrier_On_Time_Performance_1987_present_2014_10.zip\n",
            "Extracted nested zip: /content/csv_data/data_compressed/On_Time_Reporting_Carrier_On_Time_Performance_1987_present_2014_11.zip\n",
            "Extracted nested zip: /content/csv_data/data_compressed/On_Time_Reporting_Carrier_On_Time_Performance_1987_present_2014_12.zip\n",
            "Extracted nested zip: /content/csv_data/data_compressed/On_Time_Reporting_Carrier_On_Time_Performance_1987_present_2014_2.zip\n",
            "Extracted nested zip: /content/csv_data/data_compressed/On_Time_Reporting_Carrier_On_Time_Performance_1987_present_2014_3.zip\n",
            "Extracted nested zip: /content/csv_data/data_compressed/On_Time_Reporting_Carrier_On_Time_Performance_1987_present_2014_4.zip\n",
            "Extracted nested zip: /content/csv_data/data_compressed/On_Time_Reporting_Carrier_On_Time_Performance_1987_present_2014_5.zip\n",
            "Extracted nested zip: /content/csv_data/data_compressed/On_Time_Reporting_Carrier_On_Time_Performance_1987_present_2014_6.zip\n",
            "Extracted nested zip: /content/csv_data/data_compressed/On_Time_Reporting_Carrier_On_Time_Performance_1987_present_2014_7.zip\n",
            "Extracted nested zip: /content/csv_data/data_compressed/On_Time_Reporting_Carrier_On_Time_Performance_1987_present_2014_8.zip\n",
            "Extracted nested zip: /content/csv_data/data_compressed/On_Time_Reporting_Carrier_On_Time_Performance_1987_present_2014_9.zip\n",
            "Extracted nested zip: /content/csv_data/data_compressed/On_Time_Reporting_Carrier_On_Time_Performance_1987_present_2015_1.zip\n",
            "Extracted nested zip: /content/csv_data/data_compressed/On_Time_Reporting_Carrier_On_Time_Performance_1987_present_2015_10.zip\n",
            "Extracted nested zip: /content/csv_data/data_compressed/On_Time_Reporting_Carrier_On_Time_Performance_1987_present_2015_11.zip\n",
            "Extracted nested zip: /content/csv_data/data_compressed/On_Time_Reporting_Carrier_On_Time_Performance_1987_present_2015_12.zip\n",
            "Extracted nested zip: /content/csv_data/data_compressed/On_Time_Reporting_Carrier_On_Time_Performance_1987_present_2015_2.zip\n",
            "Extracted nested zip: /content/csv_data/data_compressed/On_Time_Reporting_Carrier_On_Time_Performance_1987_present_2015_3.zip\n",
            "Extracted nested zip: /content/csv_data/data_compressed/On_Time_Reporting_Carrier_On_Time_Performance_1987_present_2015_4.zip\n",
            "Extracted nested zip: /content/csv_data/data_compressed/On_Time_Reporting_Carrier_On_Time_Performance_1987_present_2015_5.zip\n",
            "Extracted nested zip: /content/csv_data/data_compressed/On_Time_Reporting_Carrier_On_Time_Performance_1987_present_2015_6.zip\n",
            "Extracted nested zip: /content/csv_data/data_compressed/On_Time_Reporting_Carrier_On_Time_Performance_1987_present_2015_7.zip\n",
            "Extracted nested zip: /content/csv_data/data_compressed/On_Time_Reporting_Carrier_On_Time_Performance_1987_present_2015_8.zip\n",
            "Extracted nested zip: /content/csv_data/data_compressed/On_Time_Reporting_Carrier_On_Time_Performance_1987_present_2015_9.zip\n",
            "Extracted nested zip: /content/csv_data/data_compressed/On_Time_Reporting_Carrier_On_Time_Performance_1987_present_2016_1.zip\n",
            "Extracted nested zip: /content/csv_data/data_compressed/On_Time_Reporting_Carrier_On_Time_Performance_1987_present_2016_10.zip\n",
            "Extracted nested zip: /content/csv_data/data_compressed/On_Time_Reporting_Carrier_On_Time_Performance_1987_present_2016_11.zip\n",
            "Extracted nested zip: /content/csv_data/data_compressed/On_Time_Reporting_Carrier_On_Time_Performance_1987_present_2016_12.zip\n",
            "Extracted nested zip: /content/csv_data/data_compressed/On_Time_Reporting_Carrier_On_Time_Performance_1987_present_2016_2.zip\n",
            "Extracted nested zip: /content/csv_data/data_compressed/On_Time_Reporting_Carrier_On_Time_Performance_1987_present_2016_3.zip\n",
            "Extracted nested zip: /content/csv_data/data_compressed/On_Time_Reporting_Carrier_On_Time_Performance_1987_present_2016_4.zip\n",
            "Extracted nested zip: /content/csv_data/data_compressed/On_Time_Reporting_Carrier_On_Time_Performance_1987_present_2016_5.zip\n",
            "Extracted nested zip: /content/csv_data/data_compressed/On_Time_Reporting_Carrier_On_Time_Performance_1987_present_2016_6.zip\n",
            "Extracted nested zip: /content/csv_data/data_compressed/On_Time_Reporting_Carrier_On_Time_Performance_1987_present_2016_7.zip\n",
            "Extracted nested zip: /content/csv_data/data_compressed/On_Time_Reporting_Carrier_On_Time_Performance_1987_present_2016_8.zip\n",
            "Extracted nested zip: /content/csv_data/data_compressed/On_Time_Reporting_Carrier_On_Time_Performance_1987_present_2016_9.zip\n",
            "Extracted nested zip: /content/csv_data/data_compressed/On_Time_Reporting_Carrier_On_Time_Performance_1987_present_2017_1.zip\n",
            "Extracted nested zip: /content/csv_data/data_compressed/On_Time_Reporting_Carrier_On_Time_Performance_1987_present_2017_10.zip\n",
            "Extracted nested zip: /content/csv_data/data_compressed/On_Time_Reporting_Carrier_On_Time_Performance_1987_present_2017_11.zip\n",
            "Extracted nested zip: /content/csv_data/data_compressed/On_Time_Reporting_Carrier_On_Time_Performance_1987_present_2017_12.zip\n",
            "Extracted nested zip: /content/csv_data/data_compressed/On_Time_Reporting_Carrier_On_Time_Performance_1987_present_2017_2.zip\n",
            "Extracted nested zip: /content/csv_data/data_compressed/On_Time_Reporting_Carrier_On_Time_Performance_1987_present_2017_3.zip\n",
            "Extracted nested zip: /content/csv_data/data_compressed/On_Time_Reporting_Carrier_On_Time_Performance_1987_present_2017_4.zip\n",
            "Extracted nested zip: /content/csv_data/data_compressed/On_Time_Reporting_Carrier_On_Time_Performance_1987_present_2017_5.zip\n",
            "Extracted nested zip: /content/csv_data/data_compressed/On_Time_Reporting_Carrier_On_Time_Performance_1987_present_2017_6.zip\n",
            "Extracted nested zip: /content/csv_data/data_compressed/On_Time_Reporting_Carrier_On_Time_Performance_1987_present_2017_7.zip\n",
            "Extracted nested zip: /content/csv_data/data_compressed/On_Time_Reporting_Carrier_On_Time_Performance_1987_present_2017_8.zip\n",
            "Extracted nested zip: /content/csv_data/data_compressed/On_Time_Reporting_Carrier_On_Time_Performance_1987_present_2017_9.zip\n",
            "Extracted nested zip: /content/csv_data/data_compressed/On_Time_Reporting_Carrier_On_Time_Performance_1987_present_2018_1.zip\n",
            "Extracted nested zip: /content/csv_data/data_compressed/On_Time_Reporting_Carrier_On_Time_Performance_1987_present_2018_10.zip\n",
            "Extracted nested zip: /content/csv_data/data_compressed/On_Time_Reporting_Carrier_On_Time_Performance_1987_present_2018_11.zip\n",
            "Extracted nested zip: /content/csv_data/data_compressed/On_Time_Reporting_Carrier_On_Time_Performance_1987_present_2018_12.zip\n",
            "Extracted nested zip: /content/csv_data/data_compressed/On_Time_Reporting_Carrier_On_Time_Performance_1987_present_2018_2.zip\n",
            "Extracted nested zip: /content/csv_data/data_compressed/On_Time_Reporting_Carrier_On_Time_Performance_1987_present_2018_3.zip\n",
            "Extracted nested zip: /content/csv_data/data_compressed/On_Time_Reporting_Carrier_On_Time_Performance_1987_present_2018_4.zip\n",
            "Extracted nested zip: /content/csv_data/data_compressed/On_Time_Reporting_Carrier_On_Time_Performance_1987_present_2018_5.zip\n",
            "Extracted nested zip: /content/csv_data/data_compressed/On_Time_Reporting_Carrier_On_Time_Performance_1987_present_2018_6.zip\n",
            "Extracted nested zip: /content/csv_data/data_compressed/On_Time_Reporting_Carrier_On_Time_Performance_1987_present_2018_7.zip\n",
            "Extracted nested zip: /content/csv_data/data_compressed/On_Time_Reporting_Carrier_On_Time_Performance_1987_present_2018_8.zip\n",
            "Extracted nested zip: /content/csv_data/data_compressed/On_Time_Reporting_Carrier_On_Time_Performance_1987_present_2018_9.zip\n"
          ]
        }
      ],
      "source": [
        "\n",
        "with zipfile.ZipFile(zip_path, 'r') as zip_ref:\n",
        "    zip_ref.extractall(csv_base_path)\n",
        "    zip_files = zip_ref.namelist()\n",
        "\n",
        "print(f\"Extracted {len(zip_files)} files:\")\n",
        "print(zip_files[:10])\n",
        "\n",
        "def zip2csv(zip_file_name, output_dir):\n",
        "    try:\n",
        "        with zipfile.ZipFile(zip_file_name, 'r') as z:\n",
        "            z.extractall(output_dir)\n",
        "        print(f\"Extracted nested zip: {zip_file_name}\")\n",
        "    except Exception as e:\n",
        "        print(f\"Failed to extract {zip_file_name}: {e}\")\n",
        "for file in zip_files:\n",
        "    if file.endswith('.zip'):\n",
        "        nested_zip_path = os.path.join(csv_base_path, file)\n",
        "        zip2csv(nested_zip_path, csv_base_path)"
      ]
    },
    {
      "cell_type": "code",
      "execution_count": null,
      "metadata": {
        "id": "Ft4M5Eea3w89"
      },
      "outputs": [],
      "source": [
        "# How many csv files have we extracted? write a code to answer it.\n",
        "# Extracted 60 files and code is in previous cell"
      ]
    },
    {
      "cell_type": "markdown",
      "metadata": {
        "id": "ItL9ErLo3w89"
      },
      "source": [
        "Before loading the CSV file, read the HTML file from the extracted folder. This HTML file includes the background and more information on the features included in the dataset."
      ]
    },
    {
      "cell_type": "code",
      "execution_count": 11,
      "metadata": {
        "colab": {
          "base_uri": "https://localhost:8080/",
          "height": 1000
        },
        "id": "i5HNy-hJ3w8-",
        "outputId": "65c9714c-169e-4321-f4ef-b7c7c31e72d0"
      },
      "outputs": [
        {
          "data": {
            "text/html": [
              "<HTML>\n",
              "<HEAD>\n",
              "\t<TITLE> readme.html </TITLE>\n",
              "</HEAD>\n",
              "<BODY>\n",
              "\t<TABLE><TR><TD COLSPAN=2><H4>BACKGROUND</H4></TD></TR>\n",
              "\t<TR><TD COLSPAN=2>The data contained in the compressed file has been extracted from the \n",
              "\tReporting Carrier On-Time Performance (1987-present) data table of the \"On-Time\" database from the TranStats data library. \n",
              "\tThe time period is indicated in the name of the compressed file; \n",
              "\tfor example, XXX_XXXXX_2001_1 contains data of the first month of the year 2001. </TD></TR>\n",
              "\t<TR><TD COLSPAN=2>&nbsp;</TD></TR>\n",
              "\t<TR><TD COLSPAN=2><H4>RECORD LAYOUT</H4></TD></TR>\n",
              "\t<TR><TD COLSPAN=2>Below are fields in the order that they appear on the records:</TD></TR>\n",
              "\t<TR><TD>Year</TD><TD>Year</TD></TR>\n",
              "\t<TR><TD>Quarter</TD><TD>Quarter (1-4)</TD></TR>\n",
              "\t<TR><TD>Month</TD><TD>Month</TD></TR>\n",
              "\t<TR><TD>DayofMonth</TD><TD>Day of Month</TD></TR>\n",
              "\t<TR><TD>DayOfWeek</TD><TD>Day of Week</TD></TR>\n",
              "\t<TR><TD>FlightDate</TD><TD>Flight Date (yyyymmdd)</TD></TR>\n",
              "\t<TR><TD>Reporting_Airline</TD><TD>Unique Carrier Code. When the same code has been used by multiple carriers, a numeric suffix is used for earlier users, for example, PA, PA(1), PA(2). Use this field for analysis across a range of years.</TD></TR>\n",
              "\t<TR><TD>DOT_ID_Reporting_Airline</TD><TD>An identification number assigned by US DOT to identify a unique airline (carrier). A unique airline (carrier) is defined as one holding and reporting under the same DOT certificate regardless of its Code, Name, or holding company/corporation.</TD></TR>\n",
              "\t<TR><TD>IATA_CODE_Reporting_Airline</TD><TD>Code assigned by IATA and commonly used to identify a carrier. As the same code may have been assigned to different carriers over time, the code is not always unique. For analysis, use the Unique Carrier Code.</TD></TR>\n",
              "\t<TR><TD>Tail_Number</TD><TD>Tail Number</TD></TR>\n",
              "\t<TR><TD>Flight_Number_Reporting_Airline</TD><TD>Flight Number</TD></TR>\n",
              "\t<TR><TD>OriginAirportID</TD><TD>Origin Airport, Airport ID. An identification number assigned by US DOT to identify a unique airport.  Use this field for airport analysis across a range of years because an airport can change its airport code and airport codes can be reused.</TD></TR>\n",
              "\t<TR><TD>OriginAirportSeqID</TD><TD>Origin Airport, Airport Sequence ID. An identification number assigned by US DOT to identify a unique airport at a given point of time.  Airport attributes, such as airport name or coordinates, may change over time.</TD></TR>\n",
              "\t<TR><TD>OriginCityMarketID</TD><TD>Origin Airport, City Market ID. City Market ID is an identification number assigned by US DOT to identify a city market.  Use this field to consolidate airports serving the same city market.</TD></TR>\n",
              "\t<TR><TD>Origin</TD><TD>Origin Airport</TD></TR>\n",
              "\t<TR><TD>OriginCityName</TD><TD>Origin Airport, City Name</TD></TR>\n",
              "\t<TR><TD>OriginState</TD><TD>Origin Airport, State Code</TD></TR>\n",
              "\t<TR><TD>OriginStateFips</TD><TD>Origin Airport, State Fips</TD></TR>\n",
              "\t<TR><TD>OriginStateName</TD><TD>Origin Airport, State Name</TD></TR>\n",
              "\t<TR><TD>OriginWac</TD><TD>Origin Airport, World Area Code</TD></TR>\n",
              "\t<TR><TD>DestAirportID</TD><TD>Destination Airport, Airport ID. An identification number assigned by US DOT to identify a unique airport.  Use this field for airport analysis across a range of years because an airport can change its airport code and airport codes can be reused.</TD></TR>\n",
              "\t<TR><TD>DestAirportSeqID</TD><TD>Destination Airport, Airport Sequence ID. An identification number assigned by US DOT to identify a unique airport at a given point of time.  Airport attributes, such as airport name or coordinates, may change over time.</TD></TR>\n",
              "\t<TR><TD>DestCityMarketID</TD><TD>Destination Airport, City Market ID. City Market ID is an identification number assigned by US DOT to identify a city market.  Use this field to consolidate airports serving the same city market.</TD></TR>\n",
              "\t<TR><TD>Dest</TD><TD>Destination Airport</TD></TR>\n",
              "\t<TR><TD>DestCityName</TD><TD>Destination Airport, City Name</TD></TR>\n",
              "\t<TR><TD>DestState</TD><TD>Destination Airport, State Code</TD></TR>\n",
              "\t<TR><TD>DestStateFips</TD><TD>Destination Airport, State Fips</TD></TR>\n",
              "\t<TR><TD>DestStateName</TD><TD>Destination Airport, State Name</TD></TR>\n",
              "\t<TR><TD>DestWac</TD><TD>Destination Airport, World Area Code</TD></TR>\n",
              "\t<TR><TD>CRSDepTime</TD><TD>CRS Departure Time (local time: hhmm)</TD></TR>\n",
              "\t<TR><TD>DepTime</TD><TD>Actual Departure Time (local time: hhmm)</TD></TR>\n",
              "\t<TR><TD>DepDelay</TD><TD>Difference in minutes between scheduled and actual departure time. Early departures show negative numbers.</TD></TR>\n",
              "\t<TR><TD>DepDelayMinutes</TD><TD>Difference in minutes between scheduled and actual departure time. Early departures set to 0.</TD></TR>\n",
              "\t<TR><TD>DepDel15</TD><TD>Departure Delay Indicator, 15 Minutes or More (1=Yes)</TD></TR>\n",
              "\t<TR><TD>DepartureDelayGroups</TD><TD>Departure Delay intervals, every (15 minutes from <-15 to >180)</TD></TR>\n",
              "\t<TR><TD>DepTimeBlk</TD><TD>CRS Departure Time Block, Hourly Intervals</TD></TR>\n",
              "\t<TR><TD>TaxiOut</TD><TD>Taxi Out Time, in Minutes</TD></TR>\n",
              "\t<TR><TD>WheelsOff</TD><TD>Wheels Off Time (local time: hhmm)</TD></TR>\n",
              "\t<TR><TD>WheelsOn</TD><TD>Wheels On Time (local time: hhmm)</TD></TR>\n",
              "\t<TR><TD>TaxiIn</TD><TD>Taxi In Time, in Minutes</TD></TR>\n",
              "\t<TR><TD>CRSArrTime</TD><TD>CRS Arrival Time (local time: hhmm)</TD></TR>\n",
              "\t<TR><TD>ArrTime</TD><TD>Actual Arrival Time (local time: hhmm)</TD></TR>\n",
              "\t<TR><TD>ArrDelay</TD><TD>Difference in minutes between scheduled and actual arrival time. Early arrivals show negative numbers.</TD></TR>\n",
              "\t<TR><TD>ArrDelayMinutes</TD><TD>Difference in minutes between scheduled and actual arrival time. Early arrivals set to 0.</TD></TR>\n",
              "\t<TR><TD>ArrDel15</TD><TD>Arrival Delay Indicator, 15 Minutes or More (1=Yes)</TD></TR>\n",
              "\t<TR><TD>ArrivalDelayGroups</TD><TD>Arrival Delay intervals, every (15-minutes from <-15 to >180)</TD></TR>\n",
              "\t<TR><TD>ArrTimeBlk</TD><TD>CRS Arrival Time Block, Hourly Intervals</TD></TR>\n",
              "\t<TR><TD>Cancelled</TD><TD>Cancelled Flight Indicator (1=Yes)</TD></TR>\n",
              "\t<TR><TD>CancellationCode</TD><TD>Specifies The Reason For Cancellation</TD></TR>\n",
              "\t<TR><TD>Diverted</TD><TD>Diverted Flight Indicator (1=Yes)</TD></TR>\n",
              "\t<TR><TD>CRSElapsedTime</TD><TD>CRS Elapsed Time of Flight, in Minutes</TD></TR>\n",
              "\t<TR><TD>ActualElapsedTime</TD><TD>Elapsed Time of Flight, in Minutes</TD></TR>\n",
              "\t<TR><TD>AirTime</TD><TD>Flight Time, in Minutes</TD></TR>\n",
              "\t<TR><TD>Flights</TD><TD>Number of Flights</TD></TR>\n",
              "\t<TR><TD>Distance</TD><TD>Distance between airports (miles)</TD></TR>\n",
              "\t<TR><TD>DistanceGroup</TD><TD>Distance Intervals, every 250 Miles, for Flight Segment</TD></TR>\n",
              "\t<TR><TD>CarrierDelay</TD><TD>Carrier Delay, in Minutes</TD></TR>\n",
              "\t<TR><TD>WeatherDelay</TD><TD>Weather Delay, in Minutes</TD></TR>\n",
              "\t<TR><TD>NASDelay</TD><TD>National Air System Delay, in Minutes</TD></TR>\n",
              "\t<TR><TD>SecurityDelay</TD><TD>Security Delay, in Minutes</TD></TR>\n",
              "\t<TR><TD>LateAircraftDelay</TD><TD>Late Aircraft Delay, in Minutes</TD></TR>\n",
              "\t<TR><TD>FirstDepTime</TD><TD>First Gate Departure Time at Origin Airport</TD></TR>\n",
              "\t<TR><TD>TotalAddGTime</TD><TD>Total Ground Time Away from Gate for Gate Return or Cancelled Flight</TD></TR>\n",
              "\t<TR><TD>LongestAddGTime</TD><TD>Longest Time Away from Gate for Gate Return or Cancelled Flight</TD></TR>\n",
              "\t<TR><TD>DivAirportLandings</TD><TD>Number of Diverted Airport Landings</TD></TR>\n",
              "\t<TR><TD>DivReachedDest</TD><TD>Diverted Flight Reaching Scheduled Destination Indicator (1=Yes)</TD></TR>\n",
              "\t<TR><TD>DivActualElapsedTime</TD><TD>Elapsed Time of Diverted Flight Reaching Scheduled Destination, in Minutes.  The ActualElapsedTime column remains NULL for all diverted flights.</TD></TR>\n",
              "\t<TR><TD>DivArrDelay</TD><TD>Difference in minutes between scheduled and actual arrival time for a diverted flight reaching scheduled destination.  The ArrDelay column remains NULL for all diverted flights.</TD></TR>\n",
              "\t<TR><TD>DivDistance</TD><TD>Distance between scheduled destination and final diverted airport (miles).  Value will be 0 for diverted flight reaching scheduled destination.</TD></TR>\n",
              "\t<TR><TD>Div1Airport</TD><TD>Diverted Airport Code1</TD></TR>\n",
              "\t<TR><TD>Div1AirportID</TD><TD>Airport ID of Diverted Airport 1. Airport ID is a Unique Key for an Airport</TD></TR>\n",
              "\t<TR><TD>Div1AirportSeqID</TD><TD>Airport Sequence ID of Diverted Airport 1. Unique Key for Time Specific Information for an Airport</TD></TR>\n",
              "\t<TR><TD>Div1WheelsOn</TD><TD>Wheels On Time (local time: hhmm) at Diverted Airport Code1</TD></TR>\n",
              "\t<TR><TD>Div1TotalGTime</TD><TD>Total Ground Time Away from Gate at Diverted Airport Code1</TD></TR>\n",
              "\t<TR><TD>Div1LongestGTime</TD><TD>Longest Ground Time Away from Gate at Diverted Airport Code1</TD></TR>\n",
              "\t<TR><TD>Div1WheelsOff</TD><TD>Wheels Off Time (local time: hhmm) at Diverted Airport Code1</TD></TR>\n",
              "\t<TR><TD>Div1TailNum</TD><TD>Aircraft Tail Number for Diverted Airport Code1</TD></TR>\n",
              "\t<TR><TD>Div2Airport</TD><TD>Diverted Airport Code2</TD></TR>\n",
              "\t<TR><TD>Div2AirportID</TD><TD>Airport ID of Diverted Airport 2. Airport ID is a Unique Key for an Airport</TD></TR>\n",
              "\t<TR><TD>Div2AirportSeqID</TD><TD>Airport Sequence ID of Diverted Airport 2. Unique Key for Time Specific Information for an Airport</TD></TR>\n",
              "\t<TR><TD>Div2WheelsOn</TD><TD>Wheels On Time (local time: hhmm) at Diverted Airport Code2</TD></TR>\n",
              "\t<TR><TD>Div2TotalGTime</TD><TD>Total Ground Time Away from Gate at Diverted Airport Code2</TD></TR>\n",
              "\t<TR><TD>Div2LongestGTime</TD><TD>Longest Ground Time Away from Gate at Diverted Airport Code2</TD></TR>\n",
              "\t<TR><TD>Div2WheelsOff</TD><TD>Wheels Off Time (local time: hhmm) at Diverted Airport Code2</TD></TR>\n",
              "\t<TR><TD>Div2TailNum</TD><TD>Aircraft Tail Number for Diverted Airport Code2</TD></TR>\n",
              "\t<TR><TD>Div3Airport</TD><TD>Diverted Airport Code3</TD></TR>\n",
              "\t<TR><TD>Div3AirportID</TD><TD>Airport ID of Diverted Airport 3. Airport ID is a Unique Key for an Airport</TD></TR>\n",
              "\t<TR><TD>Div3AirportSeqID</TD><TD>Airport Sequence ID of Diverted Airport 3. Unique Key for Time Specific Information for an Airport</TD></TR>\n",
              "\t<TR><TD>Div3WheelsOn</TD><TD>Wheels On Time (local time: hhmm) at Diverted Airport Code3</TD></TR>\n",
              "\t<TR><TD>Div3TotalGTime</TD><TD>Total Ground Time Away from Gate at Diverted Airport Code3</TD></TR>\n",
              "\t<TR><TD>Div3LongestGTime</TD><TD>Longest Ground Time Away from Gate at Diverted Airport Code3</TD></TR>\n",
              "\t<TR><TD>Div3WheelsOff</TD><TD>Wheels Off Time (local time: hhmm) at Diverted Airport Code3</TD></TR>\n",
              "\t<TR><TD>Div3TailNum</TD><TD>Aircraft Tail Number for Diverted Airport Code3</TD></TR>\n",
              "\t<TR><TD>Div4Airport</TD><TD>Diverted Airport Code4</TD></TR>\n",
              "\t<TR><TD>Div4AirportID</TD><TD>Airport ID of Diverted Airport 4. Airport ID is a Unique Key for an Airport</TD></TR>\n",
              "\t<TR><TD>Div4AirportSeqID</TD><TD>Airport Sequence ID of Diverted Airport 4. Unique Key for Time Specific Information for an Airport</TD></TR>\n",
              "\t<TR><TD>Div4WheelsOn</TD><TD>Wheels On Time (local time: hhmm) at Diverted Airport Code4</TD></TR>\n",
              "\t<TR><TD>Div4TotalGTime</TD><TD>Total Ground Time Away from Gate at Diverted Airport Code4</TD></TR>\n",
              "\t<TR><TD>Div4LongestGTime</TD><TD>Longest Ground Time Away from Gate at Diverted Airport Code4</TD></TR>\n",
              "\t<TR><TD>Div4WheelsOff</TD><TD>Wheels Off Time (local time: hhmm) at Diverted Airport Code4</TD></TR>\n",
              "\t<TR><TD>Div4TailNum</TD><TD>Aircraft Tail Number for Diverted Airport Code4</TD></TR>\n",
              "\t<TR><TD>Div5Airport</TD><TD>Diverted Airport Code5</TD></TR>\n",
              "\t<TR><TD>Div5AirportID</TD><TD>Airport ID of Diverted Airport 5. Airport ID is a Unique Key for an Airport</TD></TR>\n",
              "\t<TR><TD>Div5AirportSeqID</TD><TD>Airport Sequence ID of Diverted Airport 5. Unique Key for Time Specific Information for an Airport</TD></TR>\n",
              "\t<TR><TD>Div5WheelsOn</TD><TD>Wheels On Time (local time: hhmm) at Diverted Airport Code5</TD></TR>\n",
              "\t<TR><TD>Div5TotalGTime</TD><TD>Total Ground Time Away from Gate at Diverted Airport Code5</TD></TR>\n",
              "\t<TR><TD>Div5LongestGTime</TD><TD>Longest Ground Time Away from Gate at Diverted Airport Code5</TD></TR>\n",
              "\t<TR><TD>Div5WheelsOff</TD><TD>Wheels Off Time (local time: hhmm) at Diverted Airport Code5</TD></TR>\n",
              "\t<TR><TD>Div5TailNum</TD><TD>Aircraft Tail Number for Diverted Airport Code5</TD></TR>\n",
              "\t</TABLE>\n",
              "</BODY>\n",
              "</HTML>\n"
            ],
            "text/plain": [
              "<IPython.core.display.HTML object>"
            ]
          },
          "metadata": {},
          "output_type": "display_data"
        }
      ],
      "source": [
        "from IPython.display import HTML, display\n",
        "\n",
        "file_path = \"/content/csv_data/readme.html\"\n",
        "with open(file_path, 'r') as file:\n",
        "    html_content = file.read()\n",
        "    display(HTML(html_content))"
      ]
    },
    {
      "cell_type": "markdown",
      "metadata": {
        "id": "-SN9dder3w8-"
      },
      "source": [
        "#### Load sample CSV\n",
        "\n",
        "Before combining all the CSV files, get a sense of the data from a single CSV file. Using Pandas, read the `On_Time_Reporting_Carrier_On_Time_Performance_(1987_present)_2018_9.csv` file first. You can use the Python built-in `read_csv` function ([documentation](https://pandas.pydata.org/pandas-docs/stable/reference/api/pandas.read_csv.html))."
      ]
    },
    {
      "cell_type": "code",
      "execution_count": 12,
      "metadata": {
        "id": "qCcl4Lic3w8_"
      },
      "outputs": [],
      "source": [
        "df_temp = pd.read_csv(\"/content/csv_data/On_Time_Reporting_Carrier_On_Time_Performance_(1987_present)_2018_9.csv\") # **ENTER YOUR CODE HERE**"
      ]
    },
    {
      "cell_type": "markdown",
      "metadata": {
        "id": "cuFcAWba3w8_"
      },
      "source": [
        "**Question**: Print the row and column length in the dataset, and print the column names."
      ]
    },
    {
      "cell_type": "code",
      "execution_count": 13,
      "metadata": {
        "colab": {
          "base_uri": "https://localhost:8080/"
        },
        "id": "xxFZj__03w8_",
        "outputId": "3ed829cb-5332-4eb9-fd34-9543a90b9435"
      },
      "outputs": [
        {
          "name": "stdout",
          "output_type": "stream",
          "text": [
            "Rows and columns in one csv file is (585749, 110)\n"
          ]
        }
      ],
      "source": [
        "df_shape = df_temp.shape # **ENTER YOUR CODE HERE**\n",
        "print(f'Rows and columns in one csv file is {df_shape}')"
      ]
    },
    {
      "cell_type": "markdown",
      "metadata": {
        "id": "f4jBbMfD3w8_"
      },
      "source": [
        "**Question**: Print the first 10 rows of the dataset.  "
      ]
    },
    {
      "cell_type": "code",
      "execution_count": 14,
      "metadata": {
        "colab": {
          "base_uri": "https://localhost:8080/",
          "height": 429
        },
        "id": "3fvdOxGj3w8_",
        "outputId": "5f2968d8-8f46-4845-878c-a43429c82851"
      },
      "outputs": [
        {
          "data": {
            "application/vnd.google.colaboratory.intrinsic+json": {
              "type": "dataframe",
              "variable_name": "df_temp"
            },
            "text/html": [
              "\n",
              "  <div id=\"df-b24b47a6-d6c8-41b6-8381-78a7ac363747\" class=\"colab-df-container\">\n",
              "    <div>\n",
              "<style scoped>\n",
              "    .dataframe tbody tr th:only-of-type {\n",
              "        vertical-align: middle;\n",
              "    }\n",
              "\n",
              "    .dataframe tbody tr th {\n",
              "        vertical-align: top;\n",
              "    }\n",
              "\n",
              "    .dataframe thead th {\n",
              "        text-align: right;\n",
              "    }\n",
              "</style>\n",
              "<table border=\"1\" class=\"dataframe\">\n",
              "  <thead>\n",
              "    <tr style=\"text-align: right;\">\n",
              "      <th></th>\n",
              "      <th>Year</th>\n",
              "      <th>Quarter</th>\n",
              "      <th>Month</th>\n",
              "      <th>DayofMonth</th>\n",
              "      <th>DayOfWeek</th>\n",
              "      <th>FlightDate</th>\n",
              "      <th>Reporting_Airline</th>\n",
              "      <th>DOT_ID_Reporting_Airline</th>\n",
              "      <th>IATA_CODE_Reporting_Airline</th>\n",
              "      <th>Tail_Number</th>\n",
              "      <th>...</th>\n",
              "      <th>Div4TailNum</th>\n",
              "      <th>Div5Airport</th>\n",
              "      <th>Div5AirportID</th>\n",
              "      <th>Div5AirportSeqID</th>\n",
              "      <th>Div5WheelsOn</th>\n",
              "      <th>Div5TotalGTime</th>\n",
              "      <th>Div5LongestGTime</th>\n",
              "      <th>Div5WheelsOff</th>\n",
              "      <th>Div5TailNum</th>\n",
              "      <th>Unnamed: 109</th>\n",
              "    </tr>\n",
              "  </thead>\n",
              "  <tbody>\n",
              "    <tr>\n",
              "      <th>0</th>\n",
              "      <td>2018</td>\n",
              "      <td>3</td>\n",
              "      <td>9</td>\n",
              "      <td>3</td>\n",
              "      <td>1</td>\n",
              "      <td>2018-09-03</td>\n",
              "      <td>9E</td>\n",
              "      <td>20363</td>\n",
              "      <td>9E</td>\n",
              "      <td>N908XJ</td>\n",
              "      <td>...</td>\n",
              "      <td>NaN</td>\n",
              "      <td>NaN</td>\n",
              "      <td>NaN</td>\n",
              "      <td>NaN</td>\n",
              "      <td>NaN</td>\n",
              "      <td>NaN</td>\n",
              "      <td>NaN</td>\n",
              "      <td>NaN</td>\n",
              "      <td>NaN</td>\n",
              "      <td>NaN</td>\n",
              "    </tr>\n",
              "    <tr>\n",
              "      <th>1</th>\n",
              "      <td>2018</td>\n",
              "      <td>3</td>\n",
              "      <td>9</td>\n",
              "      <td>9</td>\n",
              "      <td>7</td>\n",
              "      <td>2018-09-09</td>\n",
              "      <td>9E</td>\n",
              "      <td>20363</td>\n",
              "      <td>9E</td>\n",
              "      <td>N315PQ</td>\n",
              "      <td>...</td>\n",
              "      <td>NaN</td>\n",
              "      <td>NaN</td>\n",
              "      <td>NaN</td>\n",
              "      <td>NaN</td>\n",
              "      <td>NaN</td>\n",
              "      <td>NaN</td>\n",
              "      <td>NaN</td>\n",
              "      <td>NaN</td>\n",
              "      <td>NaN</td>\n",
              "      <td>NaN</td>\n",
              "    </tr>\n",
              "    <tr>\n",
              "      <th>2</th>\n",
              "      <td>2018</td>\n",
              "      <td>3</td>\n",
              "      <td>9</td>\n",
              "      <td>10</td>\n",
              "      <td>1</td>\n",
              "      <td>2018-09-10</td>\n",
              "      <td>9E</td>\n",
              "      <td>20363</td>\n",
              "      <td>9E</td>\n",
              "      <td>N582CA</td>\n",
              "      <td>...</td>\n",
              "      <td>NaN</td>\n",
              "      <td>NaN</td>\n",
              "      <td>NaN</td>\n",
              "      <td>NaN</td>\n",
              "      <td>NaN</td>\n",
              "      <td>NaN</td>\n",
              "      <td>NaN</td>\n",
              "      <td>NaN</td>\n",
              "      <td>NaN</td>\n",
              "      <td>NaN</td>\n",
              "    </tr>\n",
              "    <tr>\n",
              "      <th>3</th>\n",
              "      <td>2018</td>\n",
              "      <td>3</td>\n",
              "      <td>9</td>\n",
              "      <td>13</td>\n",
              "      <td>4</td>\n",
              "      <td>2018-09-13</td>\n",
              "      <td>9E</td>\n",
              "      <td>20363</td>\n",
              "      <td>9E</td>\n",
              "      <td>N292PQ</td>\n",
              "      <td>...</td>\n",
              "      <td>NaN</td>\n",
              "      <td>NaN</td>\n",
              "      <td>NaN</td>\n",
              "      <td>NaN</td>\n",
              "      <td>NaN</td>\n",
              "      <td>NaN</td>\n",
              "      <td>NaN</td>\n",
              "      <td>NaN</td>\n",
              "      <td>NaN</td>\n",
              "      <td>NaN</td>\n",
              "    </tr>\n",
              "    <tr>\n",
              "      <th>4</th>\n",
              "      <td>2018</td>\n",
              "      <td>3</td>\n",
              "      <td>9</td>\n",
              "      <td>14</td>\n",
              "      <td>5</td>\n",
              "      <td>2018-09-14</td>\n",
              "      <td>9E</td>\n",
              "      <td>20363</td>\n",
              "      <td>9E</td>\n",
              "      <td>N600LR</td>\n",
              "      <td>...</td>\n",
              "      <td>NaN</td>\n",
              "      <td>NaN</td>\n",
              "      <td>NaN</td>\n",
              "      <td>NaN</td>\n",
              "      <td>NaN</td>\n",
              "      <td>NaN</td>\n",
              "      <td>NaN</td>\n",
              "      <td>NaN</td>\n",
              "      <td>NaN</td>\n",
              "      <td>NaN</td>\n",
              "    </tr>\n",
              "    <tr>\n",
              "      <th>5</th>\n",
              "      <td>2018</td>\n",
              "      <td>3</td>\n",
              "      <td>9</td>\n",
              "      <td>16</td>\n",
              "      <td>7</td>\n",
              "      <td>2018-09-16</td>\n",
              "      <td>9E</td>\n",
              "      <td>20363</td>\n",
              "      <td>9E</td>\n",
              "      <td>N316PQ</td>\n",
              "      <td>...</td>\n",
              "      <td>NaN</td>\n",
              "      <td>NaN</td>\n",
              "      <td>NaN</td>\n",
              "      <td>NaN</td>\n",
              "      <td>NaN</td>\n",
              "      <td>NaN</td>\n",
              "      <td>NaN</td>\n",
              "      <td>NaN</td>\n",
              "      <td>NaN</td>\n",
              "      <td>NaN</td>\n",
              "    </tr>\n",
              "    <tr>\n",
              "      <th>6</th>\n",
              "      <td>2018</td>\n",
              "      <td>3</td>\n",
              "      <td>9</td>\n",
              "      <td>17</td>\n",
              "      <td>1</td>\n",
              "      <td>2018-09-17</td>\n",
              "      <td>9E</td>\n",
              "      <td>20363</td>\n",
              "      <td>9E</td>\n",
              "      <td>N916XJ</td>\n",
              "      <td>...</td>\n",
              "      <td>NaN</td>\n",
              "      <td>NaN</td>\n",
              "      <td>NaN</td>\n",
              "      <td>NaN</td>\n",
              "      <td>NaN</td>\n",
              "      <td>NaN</td>\n",
              "      <td>NaN</td>\n",
              "      <td>NaN</td>\n",
              "      <td>NaN</td>\n",
              "      <td>NaN</td>\n",
              "    </tr>\n",
              "    <tr>\n",
              "      <th>7</th>\n",
              "      <td>2018</td>\n",
              "      <td>3</td>\n",
              "      <td>9</td>\n",
              "      <td>20</td>\n",
              "      <td>4</td>\n",
              "      <td>2018-09-20</td>\n",
              "      <td>9E</td>\n",
              "      <td>20363</td>\n",
              "      <td>9E</td>\n",
              "      <td>N371CA</td>\n",
              "      <td>...</td>\n",
              "      <td>NaN</td>\n",
              "      <td>NaN</td>\n",
              "      <td>NaN</td>\n",
              "      <td>NaN</td>\n",
              "      <td>NaN</td>\n",
              "      <td>NaN</td>\n",
              "      <td>NaN</td>\n",
              "      <td>NaN</td>\n",
              "      <td>NaN</td>\n",
              "      <td>NaN</td>\n",
              "    </tr>\n",
              "    <tr>\n",
              "      <th>8</th>\n",
              "      <td>2018</td>\n",
              "      <td>3</td>\n",
              "      <td>9</td>\n",
              "      <td>21</td>\n",
              "      <td>5</td>\n",
              "      <td>2018-09-21</td>\n",
              "      <td>9E</td>\n",
              "      <td>20363</td>\n",
              "      <td>9E</td>\n",
              "      <td>N601LR</td>\n",
              "      <td>...</td>\n",
              "      <td>NaN</td>\n",
              "      <td>NaN</td>\n",
              "      <td>NaN</td>\n",
              "      <td>NaN</td>\n",
              "      <td>NaN</td>\n",
              "      <td>NaN</td>\n",
              "      <td>NaN</td>\n",
              "      <td>NaN</td>\n",
              "      <td>NaN</td>\n",
              "      <td>NaN</td>\n",
              "    </tr>\n",
              "    <tr>\n",
              "      <th>9</th>\n",
              "      <td>2018</td>\n",
              "      <td>3</td>\n",
              "      <td>9</td>\n",
              "      <td>23</td>\n",
              "      <td>7</td>\n",
              "      <td>2018-09-23</td>\n",
              "      <td>9E</td>\n",
              "      <td>20363</td>\n",
              "      <td>9E</td>\n",
              "      <td>N906XJ</td>\n",
              "      <td>...</td>\n",
              "      <td>NaN</td>\n",
              "      <td>NaN</td>\n",
              "      <td>NaN</td>\n",
              "      <td>NaN</td>\n",
              "      <td>NaN</td>\n",
              "      <td>NaN</td>\n",
              "      <td>NaN</td>\n",
              "      <td>NaN</td>\n",
              "      <td>NaN</td>\n",
              "      <td>NaN</td>\n",
              "    </tr>\n",
              "  </tbody>\n",
              "</table>\n",
              "<p>10 rows × 110 columns</p>\n",
              "</div>\n",
              "    <div class=\"colab-df-buttons\">\n",
              "\n",
              "  <div class=\"colab-df-container\">\n",
              "    <button class=\"colab-df-convert\" onclick=\"convertToInteractive('df-b24b47a6-d6c8-41b6-8381-78a7ac363747')\"\n",
              "            title=\"Convert this dataframe to an interactive table.\"\n",
              "            style=\"display:none;\">\n",
              "\n",
              "  <svg xmlns=\"http://www.w3.org/2000/svg\" height=\"24px\" viewBox=\"0 -960 960 960\">\n",
              "    <path d=\"M120-120v-720h720v720H120Zm60-500h600v-160H180v160Zm220 220h160v-160H400v160Zm0 220h160v-160H400v160ZM180-400h160v-160H180v160Zm440 0h160v-160H620v160ZM180-180h160v-160H180v160Zm440 0h160v-160H620v160Z\"/>\n",
              "  </svg>\n",
              "    </button>\n",
              "\n",
              "  <style>\n",
              "    .colab-df-container {\n",
              "      display:flex;\n",
              "      gap: 12px;\n",
              "    }\n",
              "\n",
              "    .colab-df-convert {\n",
              "      background-color: #E8F0FE;\n",
              "      border: none;\n",
              "      border-radius: 50%;\n",
              "      cursor: pointer;\n",
              "      display: none;\n",
              "      fill: #1967D2;\n",
              "      height: 32px;\n",
              "      padding: 0 0 0 0;\n",
              "      width: 32px;\n",
              "    }\n",
              "\n",
              "    .colab-df-convert:hover {\n",
              "      background-color: #E2EBFA;\n",
              "      box-shadow: 0px 1px 2px rgba(60, 64, 67, 0.3), 0px 1px 3px 1px rgba(60, 64, 67, 0.15);\n",
              "      fill: #174EA6;\n",
              "    }\n",
              "\n",
              "    .colab-df-buttons div {\n",
              "      margin-bottom: 4px;\n",
              "    }\n",
              "\n",
              "    [theme=dark] .colab-df-convert {\n",
              "      background-color: #3B4455;\n",
              "      fill: #D2E3FC;\n",
              "    }\n",
              "\n",
              "    [theme=dark] .colab-df-convert:hover {\n",
              "      background-color: #434B5C;\n",
              "      box-shadow: 0px 1px 3px 1px rgba(0, 0, 0, 0.15);\n",
              "      filter: drop-shadow(0px 1px 2px rgba(0, 0, 0, 0.3));\n",
              "      fill: #FFFFFF;\n",
              "    }\n",
              "  </style>\n",
              "\n",
              "    <script>\n",
              "      const buttonEl =\n",
              "        document.querySelector('#df-b24b47a6-d6c8-41b6-8381-78a7ac363747 button.colab-df-convert');\n",
              "      buttonEl.style.display =\n",
              "        google.colab.kernel.accessAllowed ? 'block' : 'none';\n",
              "\n",
              "      async function convertToInteractive(key) {\n",
              "        const element = document.querySelector('#df-b24b47a6-d6c8-41b6-8381-78a7ac363747');\n",
              "        const dataTable =\n",
              "          await google.colab.kernel.invokeFunction('convertToInteractive',\n",
              "                                                    [key], {});\n",
              "        if (!dataTable) return;\n",
              "\n",
              "        const docLinkHtml = 'Like what you see? Visit the ' +\n",
              "          '<a target=\"_blank\" href=https://colab.research.google.com/notebooks/data_table.ipynb>data table notebook</a>'\n",
              "          + ' to learn more about interactive tables.';\n",
              "        element.innerHTML = '';\n",
              "        dataTable['output_type'] = 'display_data';\n",
              "        await google.colab.output.renderOutput(dataTable, element);\n",
              "        const docLink = document.createElement('div');\n",
              "        docLink.innerHTML = docLinkHtml;\n",
              "        element.appendChild(docLink);\n",
              "      }\n",
              "    </script>\n",
              "  </div>\n",
              "\n",
              "\n",
              "    <div id=\"df-eb630b31-8026-44d2-a881-11380ab62bde\">\n",
              "      <button class=\"colab-df-quickchart\" onclick=\"quickchart('df-eb630b31-8026-44d2-a881-11380ab62bde')\"\n",
              "                title=\"Suggest charts\"\n",
              "                style=\"display:none;\">\n",
              "\n",
              "<svg xmlns=\"http://www.w3.org/2000/svg\" height=\"24px\"viewBox=\"0 0 24 24\"\n",
              "     width=\"24px\">\n",
              "    <g>\n",
              "        <path d=\"M19 3H5c-1.1 0-2 .9-2 2v14c0 1.1.9 2 2 2h14c1.1 0 2-.9 2-2V5c0-1.1-.9-2-2-2zM9 17H7v-7h2v7zm4 0h-2V7h2v10zm4 0h-2v-4h2v4z\"/>\n",
              "    </g>\n",
              "</svg>\n",
              "      </button>\n",
              "\n",
              "<style>\n",
              "  .colab-df-quickchart {\n",
              "      --bg-color: #E8F0FE;\n",
              "      --fill-color: #1967D2;\n",
              "      --hover-bg-color: #E2EBFA;\n",
              "      --hover-fill-color: #174EA6;\n",
              "      --disabled-fill-color: #AAA;\n",
              "      --disabled-bg-color: #DDD;\n",
              "  }\n",
              "\n",
              "  [theme=dark] .colab-df-quickchart {\n",
              "      --bg-color: #3B4455;\n",
              "      --fill-color: #D2E3FC;\n",
              "      --hover-bg-color: #434B5C;\n",
              "      --hover-fill-color: #FFFFFF;\n",
              "      --disabled-bg-color: #3B4455;\n",
              "      --disabled-fill-color: #666;\n",
              "  }\n",
              "\n",
              "  .colab-df-quickchart {\n",
              "    background-color: var(--bg-color);\n",
              "    border: none;\n",
              "    border-radius: 50%;\n",
              "    cursor: pointer;\n",
              "    display: none;\n",
              "    fill: var(--fill-color);\n",
              "    height: 32px;\n",
              "    padding: 0;\n",
              "    width: 32px;\n",
              "  }\n",
              "\n",
              "  .colab-df-quickchart:hover {\n",
              "    background-color: var(--hover-bg-color);\n",
              "    box-shadow: 0 1px 2px rgba(60, 64, 67, 0.3), 0 1px 3px 1px rgba(60, 64, 67, 0.15);\n",
              "    fill: var(--button-hover-fill-color);\n",
              "  }\n",
              "\n",
              "  .colab-df-quickchart-complete:disabled,\n",
              "  .colab-df-quickchart-complete:disabled:hover {\n",
              "    background-color: var(--disabled-bg-color);\n",
              "    fill: var(--disabled-fill-color);\n",
              "    box-shadow: none;\n",
              "  }\n",
              "\n",
              "  .colab-df-spinner {\n",
              "    border: 2px solid var(--fill-color);\n",
              "    border-color: transparent;\n",
              "    border-bottom-color: var(--fill-color);\n",
              "    animation:\n",
              "      spin 1s steps(1) infinite;\n",
              "  }\n",
              "\n",
              "  @keyframes spin {\n",
              "    0% {\n",
              "      border-color: transparent;\n",
              "      border-bottom-color: var(--fill-color);\n",
              "      border-left-color: var(--fill-color);\n",
              "    }\n",
              "    20% {\n",
              "      border-color: transparent;\n",
              "      border-left-color: var(--fill-color);\n",
              "      border-top-color: var(--fill-color);\n",
              "    }\n",
              "    30% {\n",
              "      border-color: transparent;\n",
              "      border-left-color: var(--fill-color);\n",
              "      border-top-color: var(--fill-color);\n",
              "      border-right-color: var(--fill-color);\n",
              "    }\n",
              "    40% {\n",
              "      border-color: transparent;\n",
              "      border-right-color: var(--fill-color);\n",
              "      border-top-color: var(--fill-color);\n",
              "    }\n",
              "    60% {\n",
              "      border-color: transparent;\n",
              "      border-right-color: var(--fill-color);\n",
              "    }\n",
              "    80% {\n",
              "      border-color: transparent;\n",
              "      border-right-color: var(--fill-color);\n",
              "      border-bottom-color: var(--fill-color);\n",
              "    }\n",
              "    90% {\n",
              "      border-color: transparent;\n",
              "      border-bottom-color: var(--fill-color);\n",
              "    }\n",
              "  }\n",
              "</style>\n",
              "\n",
              "      <script>\n",
              "        async function quickchart(key) {\n",
              "          const quickchartButtonEl =\n",
              "            document.querySelector('#' + key + ' button');\n",
              "          quickchartButtonEl.disabled = true;  // To prevent multiple clicks.\n",
              "          quickchartButtonEl.classList.add('colab-df-spinner');\n",
              "          try {\n",
              "            const charts = await google.colab.kernel.invokeFunction(\n",
              "                'suggestCharts', [key], {});\n",
              "          } catch (error) {\n",
              "            console.error('Error during call to suggestCharts:', error);\n",
              "          }\n",
              "          quickchartButtonEl.classList.remove('colab-df-spinner');\n",
              "          quickchartButtonEl.classList.add('colab-df-quickchart-complete');\n",
              "        }\n",
              "        (() => {\n",
              "          let quickchartButtonEl =\n",
              "            document.querySelector('#df-eb630b31-8026-44d2-a881-11380ab62bde button');\n",
              "          quickchartButtonEl.style.display =\n",
              "            google.colab.kernel.accessAllowed ? 'block' : 'none';\n",
              "        })();\n",
              "      </script>\n",
              "    </div>\n",
              "\n",
              "    </div>\n",
              "  </div>\n"
            ],
            "text/plain": [
              "   Year  Quarter  Month  DayofMonth  DayOfWeek  FlightDate Reporting_Airline  \\\n",
              "0  2018        3      9           3          1  2018-09-03                9E   \n",
              "1  2018        3      9           9          7  2018-09-09                9E   \n",
              "2  2018        3      9          10          1  2018-09-10                9E   \n",
              "3  2018        3      9          13          4  2018-09-13                9E   \n",
              "4  2018        3      9          14          5  2018-09-14                9E   \n",
              "5  2018        3      9          16          7  2018-09-16                9E   \n",
              "6  2018        3      9          17          1  2018-09-17                9E   \n",
              "7  2018        3      9          20          4  2018-09-20                9E   \n",
              "8  2018        3      9          21          5  2018-09-21                9E   \n",
              "9  2018        3      9          23          7  2018-09-23                9E   \n",
              "\n",
              "   DOT_ID_Reporting_Airline IATA_CODE_Reporting_Airline Tail_Number  ...  \\\n",
              "0                     20363                          9E      N908XJ  ...   \n",
              "1                     20363                          9E      N315PQ  ...   \n",
              "2                     20363                          9E      N582CA  ...   \n",
              "3                     20363                          9E      N292PQ  ...   \n",
              "4                     20363                          9E      N600LR  ...   \n",
              "5                     20363                          9E      N316PQ  ...   \n",
              "6                     20363                          9E      N916XJ  ...   \n",
              "7                     20363                          9E      N371CA  ...   \n",
              "8                     20363                          9E      N601LR  ...   \n",
              "9                     20363                          9E      N906XJ  ...   \n",
              "\n",
              "   Div4TailNum  Div5Airport  Div5AirportID  Div5AirportSeqID Div5WheelsOn  \\\n",
              "0          NaN          NaN            NaN               NaN          NaN   \n",
              "1          NaN          NaN            NaN               NaN          NaN   \n",
              "2          NaN          NaN            NaN               NaN          NaN   \n",
              "3          NaN          NaN            NaN               NaN          NaN   \n",
              "4          NaN          NaN            NaN               NaN          NaN   \n",
              "5          NaN          NaN            NaN               NaN          NaN   \n",
              "6          NaN          NaN            NaN               NaN          NaN   \n",
              "7          NaN          NaN            NaN               NaN          NaN   \n",
              "8          NaN          NaN            NaN               NaN          NaN   \n",
              "9          NaN          NaN            NaN               NaN          NaN   \n",
              "\n",
              "  Div5TotalGTime Div5LongestGTime  Div5WheelsOff Div5TailNum  Unnamed: 109  \n",
              "0            NaN              NaN            NaN         NaN           NaN  \n",
              "1            NaN              NaN            NaN         NaN           NaN  \n",
              "2            NaN              NaN            NaN         NaN           NaN  \n",
              "3            NaN              NaN            NaN         NaN           NaN  \n",
              "4            NaN              NaN            NaN         NaN           NaN  \n",
              "5            NaN              NaN            NaN         NaN           NaN  \n",
              "6            NaN              NaN            NaN         NaN           NaN  \n",
              "7            NaN              NaN            NaN         NaN           NaN  \n",
              "8            NaN              NaN            NaN         NaN           NaN  \n",
              "9            NaN              NaN            NaN         NaN           NaN  \n",
              "\n",
              "[10 rows x 110 columns]"
            ]
          },
          "execution_count": 14,
          "metadata": {},
          "output_type": "execute_result"
        }
      ],
      "source": [
        "# Enter your code here\n",
        "df_temp.head(10)"
      ]
    },
    {
      "cell_type": "markdown",
      "metadata": {
        "id": "PYGi7rzl3w8_"
      },
      "source": [
        "**Question**: Print all the columns in the dataset. Use `<dataframe>.columns` to view the column names."
      ]
    },
    {
      "cell_type": "code",
      "execution_count": 15,
      "metadata": {
        "colab": {
          "base_uri": "https://localhost:8080/"
        },
        "id": "iQHA9D2h3w8_",
        "outputId": "0310e9c7-9091-4c14-fb0b-2c67224b1e15"
      },
      "outputs": [
        {
          "name": "stdout",
          "output_type": "stream",
          "text": [
            "The column names are :\n",
            "#########\n",
            "Year\n",
            "Quarter\n",
            "Month\n",
            "DayofMonth\n",
            "DayOfWeek\n",
            "FlightDate\n",
            "Reporting_Airline\n",
            "DOT_ID_Reporting_Airline\n",
            "IATA_CODE_Reporting_Airline\n",
            "Tail_Number\n",
            "Flight_Number_Reporting_Airline\n",
            "OriginAirportID\n",
            "OriginAirportSeqID\n",
            "OriginCityMarketID\n",
            "Origin\n",
            "OriginCityName\n",
            "OriginState\n",
            "OriginStateFips\n",
            "OriginStateName\n",
            "OriginWac\n",
            "DestAirportID\n",
            "DestAirportSeqID\n",
            "DestCityMarketID\n",
            "Dest\n",
            "DestCityName\n",
            "DestState\n",
            "DestStateFips\n",
            "DestStateName\n",
            "DestWac\n",
            "CRSDepTime\n",
            "DepTime\n",
            "DepDelay\n",
            "DepDelayMinutes\n",
            "DepDel15\n",
            "DepartureDelayGroups\n",
            "DepTimeBlk\n",
            "TaxiOut\n",
            "WheelsOff\n",
            "WheelsOn\n",
            "TaxiIn\n",
            "CRSArrTime\n",
            "ArrTime\n",
            "ArrDelay\n",
            "ArrDelayMinutes\n",
            "ArrDel15\n",
            "ArrivalDelayGroups\n",
            "ArrTimeBlk\n",
            "Cancelled\n",
            "CancellationCode\n",
            "Diverted\n",
            "CRSElapsedTime\n",
            "ActualElapsedTime\n",
            "AirTime\n",
            "Flights\n",
            "Distance\n",
            "DistanceGroup\n",
            "CarrierDelay\n",
            "WeatherDelay\n",
            "NASDelay\n",
            "SecurityDelay\n",
            "LateAircraftDelay\n",
            "FirstDepTime\n",
            "TotalAddGTime\n",
            "LongestAddGTime\n",
            "DivAirportLandings\n",
            "DivReachedDest\n",
            "DivActualElapsedTime\n",
            "DivArrDelay\n",
            "DivDistance\n",
            "Div1Airport\n",
            "Div1AirportID\n",
            "Div1AirportSeqID\n",
            "Div1WheelsOn\n",
            "Div1TotalGTime\n",
            "Div1LongestGTime\n",
            "Div1WheelsOff\n",
            "Div1TailNum\n",
            "Div2Airport\n",
            "Div2AirportID\n",
            "Div2AirportSeqID\n",
            "Div2WheelsOn\n",
            "Div2TotalGTime\n",
            "Div2LongestGTime\n",
            "Div2WheelsOff\n",
            "Div2TailNum\n",
            "Div3Airport\n",
            "Div3AirportID\n",
            "Div3AirportSeqID\n",
            "Div3WheelsOn\n",
            "Div3TotalGTime\n",
            "Div3LongestGTime\n",
            "Div3WheelsOff\n",
            "Div3TailNum\n",
            "Div4Airport\n",
            "Div4AirportID\n",
            "Div4AirportSeqID\n",
            "Div4WheelsOn\n",
            "Div4TotalGTime\n",
            "Div4LongestGTime\n",
            "Div4WheelsOff\n",
            "Div4TailNum\n",
            "Div5Airport\n",
            "Div5AirportID\n",
            "Div5AirportSeqID\n",
            "Div5WheelsOn\n",
            "Div5TotalGTime\n",
            "Div5LongestGTime\n",
            "Div5WheelsOff\n",
            "Div5TailNum\n",
            "Unnamed: 109\n"
          ]
        }
      ],
      "source": [
        "print(f'The column names are :')\n",
        "print('#########')\n",
        "for col in df_temp.columns:# **ENTER YOUR CODE HERE**\n",
        "    print(col)"
      ]
    },
    {
      "cell_type": "markdown",
      "metadata": {
        "id": "nEnkDJU73w8_"
      },
      "source": [
        "**Question**: Print all the columns in the dataset that contain the word 'Del'. This will help you see how many columns have delay data in them.\n",
        "\n",
        "**Hint**: You can use a Python list comprehension to include values that pass certain `if` statement criteria.\n",
        "\n",
        "For example: `[x for x in [1,2,3,4,5] if x > 2]`  \n",
        "\n",
        "**Hint**: You can use the `in` keyword ([documentation](https://www.w3schools.com/python/ref_keyword_in.asp)) to check if the value is in a list or not.\n",
        "\n",
        "For example: `5 in [1,2,3,4,5]`"
      ]
    },
    {
      "cell_type": "code",
      "execution_count": 16,
      "metadata": {
        "colab": {
          "base_uri": "https://localhost:8080/"
        },
        "id": "cjGgQpme3w8_",
        "outputId": "b7b7075d-25da-49ea-e12a-d7e59711de45"
      },
      "outputs": [
        {
          "name": "stdout",
          "output_type": "stream",
          "text": [
            "The columns having 'Del' are : \n",
            "DepDelay\n",
            "DepDelayMinutes\n",
            "DepDel15\n",
            "DepartureDelayGroups\n",
            "ArrDelay\n",
            "ArrDelayMinutes\n",
            "ArrDel15\n",
            "ArrivalDelayGroups\n",
            "CarrierDelay\n",
            "WeatherDelay\n",
            "NASDelay\n",
            "SecurityDelay\n",
            "LateAircraftDelay\n",
            "DivArrDelay\n"
          ]
        }
      ],
      "source": [
        "del_cols = [col for col in df_temp.columns if 'Del' in col]\n",
        "\n",
        "print(\"The columns having 'Del' are : \")\n",
        "\n",
        "for col in del_cols:\n",
        "    print(col)"
      ]
    },
    {
      "cell_type": "markdown",
      "metadata": {
        "id": "5K6C-VlV3w9A"
      },
      "source": [
        "Here are some more questions to help you find out more about your dataset.\n",
        "\n",
        "**Questions**   \n",
        "1. How many rows and columns does the dataset have?   \n",
        "2. How many years are included in the dataset?   \n",
        "3. What is the date range for the dataset?   \n",
        "4. Which airlines are included in the dataset?   \n",
        "5. Which origin and destination airports are covered?"
      ]
    },
    {
      "cell_type": "code",
      "execution_count": 17,
      "metadata": {
        "colab": {
          "base_uri": "https://localhost:8080/"
        },
        "id": "LjrzWLrg3w9A",
        "outputId": "77353a1d-508f-4233-8785-f9ca3673f84b"
      },
      "outputs": [
        {
          "name": "stdout",
          "output_type": "stream",
          "text": [
            "The #rows and #columns are  585749  and  110\n",
            "The years in this dataset are:  [np.int64(2018)]\n",
            "The months covered in this dataset are:  [np.int64(9)]\n",
            "The date range for data is : 2018-09-01  to  2018-09-30\n",
            "The airlines covered in this dataset are:  ['9E', 'B6', 'WN', 'YV', 'YX', 'EV', 'AA', 'AS', 'DL', 'HA', 'UA', 'F9', 'G4', 'MQ', 'NK', 'OH', 'OO']\n",
            "The Origin airports covered are:  ['DFW', 'LGA', 'MSN', 'MSP', 'ATL', 'BDL', 'VLD', 'JFK', 'RDU', 'CHS', 'DTW', 'GRB', 'PVD', 'SHV', 'FNT', 'PIT', 'RIC', 'RST', 'RSW', 'CVG', 'LIT', 'ORD', 'JAX', 'TRI', 'BOS', 'CWA', 'DCA', 'CHO', 'AVP', 'IND', 'GRR', 'BTR', 'MEM', 'TUL', 'CLE', 'STL', 'BTV', 'OMA', 'MGM', 'TVC', 'SAV', 'GSP', 'EWR', 'OAJ', 'BNA', 'MCI', 'TLH', 'ROC', 'LEX', 'PWM', 'BUF', 'AGS', 'CLT', 'GSO', 'BWI', 'SAT', 'PHL', 'TYS', 'ACK', 'DSM', 'GNV', 'AVL', 'BGR', 'MHT', 'ILM', 'MOT', 'IAH', 'SBN', 'SYR', 'ORF', 'MKE', 'XNA', 'MSY', 'PBI', 'ABE', 'HPN', 'EVV', 'ALB', 'LNK', 'AUS', 'PHF', 'CHA', 'GTR', 'BMI', 'BQK', 'CID', 'CAK', 'ATW', 'ABY', 'CAE', 'SRQ', 'MLI', 'BHM', 'IAD', 'CSG', 'CMH', 'MCO', 'MBS', 'FLL', 'SDF', 'TPA', 'MVY', 'LAS', 'LGB', 'SFO', 'SAN', 'LAX', 'RNO', 'PDX', 'ANC', 'ABQ', 'SLC', 'DEN', 'PHX', 'OAK', 'SMF', 'SJU', 'SEA', 'HOU', 'STX', 'BUR', 'SWF', 'SJC', 'DAB', 'BQN', 'PSE', 'ORH', 'HYA', 'STT', 'ONT', 'HRL', 'ICT', 'ISP', 'LBB', 'MAF', 'MDW', 'OKC', 'PNS', 'SNA', 'TUS', 'AMA', 'BOI', 'CRP', 'DAL', 'ECP', 'ELP', 'GEG', 'LFT', 'MFE', 'MDT', 'JAN', 'COS', 'MOB', 'VPS', 'MTJ', 'DRO', 'GPT', 'BFL', 'MRY', 'SBA', 'PSP', 'FSD', 'BRO', 'RAP', 'COU', 'STS', 'PIA', 'FAT', 'SBP', 'FSM', 'HSV', 'BIS', 'DAY', 'BZN', 'MIA', 'EYW', 'MYR', 'HHH', 'GJT', 'FAR', 'SGF', 'HOB', 'CLL', 'LRD', 'AEX', 'ERI', 'MLU', 'LCH', 'ROA', 'LAW', 'MHK', 'GRK', 'SAF', 'GRI', 'JLN', 'ROW', 'FWA', 'CRW', 'LAN', 'OGG', 'HNL', 'KOA', 'EGE', 'LIH', 'MLB', 'JAC', 'FAI', 'RDM', 'ADQ', 'BET', 'BRW', 'SCC', 'KTN', 'YAK', 'CDV', 'JNU', 'SIT', 'PSG', 'WRG', 'OME', 'OTZ', 'ADK', 'FCA', 'FAY', 'PSC', 'BIL', 'MSO', 'ITO', 'PPG', 'MFR', 'EUG', 'GUM', 'SPN', 'DLH', 'TTN', 'BKG', 'SFB', 'PIE', 'PGD', 'AZA', 'SMX', 'RFD', 'SCK', 'OWB', 'HTS', 'BLV', 'IAG', 'USA', 'GFK', 'BLI', 'ELM', 'PBG', 'LCK', 'GTF', 'OGD', 'IDA', 'PVU', 'TOL', 'PSM', 'CKB', 'HGR', 'SPI', 'STC', 'ACT', 'TYR', 'ABI', 'AZO', 'CMI', 'BPT', 'GCK', 'MQT', 'ALO', 'TXK', 'SPS', 'SWO', 'DBQ', 'SUX', 'SJT', 'GGG', 'LSE', 'LBE', 'ACY', 'LYH', 'PGV', 'HVN', 'EWN', 'DHN', 'PIH', 'IMT', 'WYS', 'CPR', 'SCE', 'HLN', 'SUN', 'ISN', 'CMX', 'EAU', 'LWB', 'SHD', 'LBF', 'HYS', 'SLN', 'EAR', 'VEL', 'CNY', 'GCC', 'RKS', 'PUB', 'LBL', 'MKG', 'PAH', 'CGI', 'UIN', 'BFF', 'DVL', 'JMS', 'LAR', 'SGU', 'PRC', 'ASE', 'RDD', 'ACV', 'OTH', 'COD', 'LWS', 'ABR', 'APN', 'ESC', 'PLN', 'BJI', 'BRD', 'BTM', 'CDC', 'CIU', 'EKO', 'TWF', 'HIB', 'BGM', 'RHI', 'ITH', 'INL', 'FLG', 'YUM', 'MEI', 'PIB', 'HDN']\n",
            "The Destination airports covered are:  ['CVG', 'PWM', 'RDU', 'MSP', 'MSN', 'SHV', 'CLT', 'PIT', 'RIC', 'IAH', 'ATL', 'JFK', 'DCA', 'DTW', 'LGA', 'TYS', 'PVD', 'FNT', 'LIT', 'BUF', 'ORD', 'TRI', 'IND', 'BGR', 'AVP', 'BWI', 'LEX', 'BDL', 'GRR', 'CWA', 'TUL', 'MEM', 'AGS', 'EWR', 'MGM', 'PHL', 'SYR', 'OMA', 'STL', 'TVC', 'ORF', 'CLE', 'ABY', 'BOS', 'OAJ', 'TLH', 'BTR', 'SAT', 'JAX', 'BNA', 'CHO', 'VLD', 'ROC', 'DFW', 'GNV', 'ACK', 'PBI', 'CHS', 'GRB', 'MOT', 'MKE', 'DSM', 'ILM', 'GSO', 'MCI', 'SBN', 'BTV', 'MVY', 'XNA', 'RST', 'EVV', 'HPN', 'RSW', 'MDT', 'ROA', 'GSP', 'MCO', 'CSG', 'SAV', 'PHF', 'ALB', 'CHA', 'ABE', 'BMI', 'MSY', 'IAD', 'GTR', 'CID', 'CAK', 'ATW', 'AUS', 'BQK', 'MLI', 'CAE', 'CMH', 'AVL', 'MBS', 'FLL', 'SDF', 'TPA', 'LNK', 'SRQ', 'MHT', 'BHM', 'LAS', 'SFO', 'SAN', 'RNO', 'LGB', 'ANC', 'PDX', 'SJU', 'ABQ', 'SLC', 'DEN', 'LAX', 'PHX', 'OAK', 'SMF', 'SEA', 'STX', 'BUR', 'DAB', 'SJC', 'SWF', 'HOU', 'BQN', 'PSE', 'ORH', 'HYA', 'STT', 'ONT', 'DAL', 'ECP', 'ELP', 'HRL', 'MAF', 'MDW', 'OKC', 'PNS', 'SNA', 'AMA', 'BOI', 'GEG', 'ICT', 'LBB', 'TUS', 'ISP', 'CRP', 'MFE', 'LFT', 'VPS', 'JAN', 'COS', 'MOB', 'DRO', 'GPT', 'BFL', 'COU', 'SBP', 'MTJ', 'SBA', 'PSP', 'FSD', 'FSM', 'BRO', 'PIA', 'STS', 'FAT', 'RAP', 'MRY', 'HSV', 'BIS', 'DAY', 'BZN', 'MIA', 'EYW', 'MYR', 'HHH', 'GJT', 'FAR', 'MLU', 'LRD', 'CLL', 'LCH', 'FWA', 'GRK', 'SGF', 'HOB', 'LAW', 'MHK', 'SAF', 'JLN', 'ROW', 'GRI', 'AEX', 'CRW', 'LAN', 'ERI', 'HNL', 'KOA', 'OGG', 'EGE', 'LIH', 'JAC', 'MLB', 'RDM', 'BET', 'ADQ', 'BRW', 'SCC', 'FAI', 'JNU', 'CDV', 'YAK', 'SIT', 'KTN', 'WRG', 'PSG', 'OME', 'OTZ', 'ADK', 'FCA', 'BIL', 'PSC', 'FAY', 'MSO', 'ITO', 'PPG', 'MFR', 'DLH', 'EUG', 'GUM', 'SPN', 'TTN', 'BKG', 'AZA', 'SFB', 'LCK', 'BLI', 'SCK', 'PIE', 'RFD', 'PVU', 'PBG', 'BLV', 'PGD', 'SPI', 'USA', 'TOL', 'IDA', 'ELM', 'HTS', 'HGR', 'SMX', 'OGD', 'GFK', 'STC', 'GTF', 'IAG', 'CKB', 'OWB', 'PSM', 'ABI', 'TYR', 'ALO', 'SUX', 'AZO', 'ACT', 'CMI', 'BPT', 'TXK', 'SWO', 'SPS', 'DBQ', 'SJT', 'GGG', 'LSE', 'MQT', 'GCK', 'LBE', 'ACY', 'LYH', 'PGV', 'HVN', 'EWN', 'DHN', 'PIH', 'WYS', 'SCE', 'IMT', 'HLN', 'ASE', 'SUN', 'ISN', 'EAR', 'SGU', 'VEL', 'SHD', 'LWB', 'MKG', 'SLN', 'HYS', 'BFF', 'PUB', 'LBL', 'CMX', 'EAU', 'PAH', 'UIN', 'RKS', 'CGI', 'CNY', 'JMS', 'DVL', 'LAR', 'GCC', 'LBF', 'PRC', 'RDD', 'ACV', 'OTH', 'COD', 'LWS', 'ABR', 'APN', 'PLN', 'BJI', 'CPR', 'BRD', 'BTM', 'CDC', 'CIU', 'ESC', 'EKO', 'ITH', 'HIB', 'BGM', 'TWF', 'RHI', 'INL', 'FLG', 'YUM', 'MEI', 'PIB', 'HDN']\n"
          ]
        }
      ],
      "source": [
        "# to answer above questions, complete the following code\n",
        "print(\"The #rows and #columns are \", df_temp.shape[0], \" and \", df_temp.shape[1])\n",
        "print(\"The years in this dataset are: \", sorted(df_temp['Year'].unique()))\n",
        "print(\"The months covered in this dataset are: \", sorted(df_temp['Month'].unique()))\n",
        "print(\"The date range for data is :\", df_temp['FlightDate'].min(), \" to \", df_temp['FlightDate'].max())\n",
        "print(\"The airlines covered in this dataset are: \", list(df_temp['Reporting_Airline'].unique()))\n",
        "print(\"The Origin airports covered are: \", list(df_temp['Origin'].unique()))\n",
        "print(\"The Destination airports covered are: \", list(df_temp['Dest'].unique()))"
      ]
    },
    {
      "cell_type": "markdown",
      "metadata": {
        "id": "INy7Xn2O3w9A"
      },
      "source": [
        "**Question**: What is the count of all the origin and destination airports?\n",
        "\n",
        "**Hint**: You can use the Pandas `values_count` function ([documentation](https://pandas.pydata.org/pandas-docs/stable/reference/api/pandas.Series.value_counts.html)) to find out the values for each airport using the columns `Origin` and `Dest`."
      ]
    },
    {
      "cell_type": "code",
      "execution_count": 18,
      "metadata": {
        "colab": {
          "base_uri": "https://localhost:8080/",
          "height": 423
        },
        "id": "QX6mH_Go3w9A",
        "outputId": "64ab24cb-831a-4481-c7bf-a442cb976ba1"
      },
      "outputs": [
        {
          "data": {
            "application/vnd.google.colaboratory.intrinsic+json": {
              "summary": "{\n  \"name\": \"counts\",\n  \"rows\": 346,\n  \"fields\": [\n    {\n      \"column\": \"Origin\",\n      \"properties\": {\n        \"dtype\": \"number\",\n        \"std\": 4006,\n        \"min\": 4,\n        \"max\": 31525,\n        \"num_unique_values\": 260,\n        \"samples\": [\n          437,\n          75,\n          618\n        ],\n        \"semantic_type\": \"\",\n        \"description\": \"\"\n      }\n    },\n    {\n      \"column\": \"Destination\",\n      \"properties\": {\n        \"dtype\": \"number\",\n        \"std\": 4006,\n        \"min\": 4,\n        \"max\": 31521,\n        \"num_unique_values\": 257,\n        \"samples\": [\n          743,\n          2101,\n          536\n        ],\n        \"semantic_type\": \"\",\n        \"description\": \"\"\n      }\n    }\n  ]\n}",
              "type": "dataframe",
              "variable_name": "counts"
            },
            "text/html": [
              "\n",
              "  <div id=\"df-fe6eb626-b6c5-439a-8aa4-de30af64074d\" class=\"colab-df-container\">\n",
              "    <div>\n",
              "<style scoped>\n",
              "    .dataframe tbody tr th:only-of-type {\n",
              "        vertical-align: middle;\n",
              "    }\n",
              "\n",
              "    .dataframe tbody tr th {\n",
              "        vertical-align: top;\n",
              "    }\n",
              "\n",
              "    .dataframe thead th {\n",
              "        text-align: right;\n",
              "    }\n",
              "</style>\n",
              "<table border=\"1\" class=\"dataframe\">\n",
              "  <thead>\n",
              "    <tr style=\"text-align: right;\">\n",
              "      <th></th>\n",
              "      <th>Origin</th>\n",
              "      <th>Destination</th>\n",
              "    </tr>\n",
              "  </thead>\n",
              "  <tbody>\n",
              "    <tr>\n",
              "      <th>ABE</th>\n",
              "      <td>303</td>\n",
              "      <td>303</td>\n",
              "    </tr>\n",
              "    <tr>\n",
              "      <th>ABI</th>\n",
              "      <td>169</td>\n",
              "      <td>169</td>\n",
              "    </tr>\n",
              "    <tr>\n",
              "      <th>ABQ</th>\n",
              "      <td>2077</td>\n",
              "      <td>2076</td>\n",
              "    </tr>\n",
              "    <tr>\n",
              "      <th>ABR</th>\n",
              "      <td>60</td>\n",
              "      <td>60</td>\n",
              "    </tr>\n",
              "    <tr>\n",
              "      <th>ABY</th>\n",
              "      <td>79</td>\n",
              "      <td>79</td>\n",
              "    </tr>\n",
              "    <tr>\n",
              "      <th>...</th>\n",
              "      <td>...</td>\n",
              "      <td>...</td>\n",
              "    </tr>\n",
              "    <tr>\n",
              "      <th>WRG</th>\n",
              "      <td>60</td>\n",
              "      <td>60</td>\n",
              "    </tr>\n",
              "    <tr>\n",
              "      <th>WYS</th>\n",
              "      <td>52</td>\n",
              "      <td>52</td>\n",
              "    </tr>\n",
              "    <tr>\n",
              "      <th>XNA</th>\n",
              "      <td>1004</td>\n",
              "      <td>1004</td>\n",
              "    </tr>\n",
              "    <tr>\n",
              "      <th>YAK</th>\n",
              "      <td>60</td>\n",
              "      <td>60</td>\n",
              "    </tr>\n",
              "    <tr>\n",
              "      <th>YUM</th>\n",
              "      <td>96</td>\n",
              "      <td>96</td>\n",
              "    </tr>\n",
              "  </tbody>\n",
              "</table>\n",
              "<p>346 rows × 2 columns</p>\n",
              "</div>\n",
              "    <div class=\"colab-df-buttons\">\n",
              "\n",
              "  <div class=\"colab-df-container\">\n",
              "    <button class=\"colab-df-convert\" onclick=\"convertToInteractive('df-fe6eb626-b6c5-439a-8aa4-de30af64074d')\"\n",
              "            title=\"Convert this dataframe to an interactive table.\"\n",
              "            style=\"display:none;\">\n",
              "\n",
              "  <svg xmlns=\"http://www.w3.org/2000/svg\" height=\"24px\" viewBox=\"0 -960 960 960\">\n",
              "    <path d=\"M120-120v-720h720v720H120Zm60-500h600v-160H180v160Zm220 220h160v-160H400v160Zm0 220h160v-160H400v160ZM180-400h160v-160H180v160Zm440 0h160v-160H620v160ZM180-180h160v-160H180v160Zm440 0h160v-160H620v160Z\"/>\n",
              "  </svg>\n",
              "    </button>\n",
              "\n",
              "  <style>\n",
              "    .colab-df-container {\n",
              "      display:flex;\n",
              "      gap: 12px;\n",
              "    }\n",
              "\n",
              "    .colab-df-convert {\n",
              "      background-color: #E8F0FE;\n",
              "      border: none;\n",
              "      border-radius: 50%;\n",
              "      cursor: pointer;\n",
              "      display: none;\n",
              "      fill: #1967D2;\n",
              "      height: 32px;\n",
              "      padding: 0 0 0 0;\n",
              "      width: 32px;\n",
              "    }\n",
              "\n",
              "    .colab-df-convert:hover {\n",
              "      background-color: #E2EBFA;\n",
              "      box-shadow: 0px 1px 2px rgba(60, 64, 67, 0.3), 0px 1px 3px 1px rgba(60, 64, 67, 0.15);\n",
              "      fill: #174EA6;\n",
              "    }\n",
              "\n",
              "    .colab-df-buttons div {\n",
              "      margin-bottom: 4px;\n",
              "    }\n",
              "\n",
              "    [theme=dark] .colab-df-convert {\n",
              "      background-color: #3B4455;\n",
              "      fill: #D2E3FC;\n",
              "    }\n",
              "\n",
              "    [theme=dark] .colab-df-convert:hover {\n",
              "      background-color: #434B5C;\n",
              "      box-shadow: 0px 1px 3px 1px rgba(0, 0, 0, 0.15);\n",
              "      filter: drop-shadow(0px 1px 2px rgba(0, 0, 0, 0.3));\n",
              "      fill: #FFFFFF;\n",
              "    }\n",
              "  </style>\n",
              "\n",
              "    <script>\n",
              "      const buttonEl =\n",
              "        document.querySelector('#df-fe6eb626-b6c5-439a-8aa4-de30af64074d button.colab-df-convert');\n",
              "      buttonEl.style.display =\n",
              "        google.colab.kernel.accessAllowed ? 'block' : 'none';\n",
              "\n",
              "      async function convertToInteractive(key) {\n",
              "        const element = document.querySelector('#df-fe6eb626-b6c5-439a-8aa4-de30af64074d');\n",
              "        const dataTable =\n",
              "          await google.colab.kernel.invokeFunction('convertToInteractive',\n",
              "                                                    [key], {});\n",
              "        if (!dataTable) return;\n",
              "\n",
              "        const docLinkHtml = 'Like what you see? Visit the ' +\n",
              "          '<a target=\"_blank\" href=https://colab.research.google.com/notebooks/data_table.ipynb>data table notebook</a>'\n",
              "          + ' to learn more about interactive tables.';\n",
              "        element.innerHTML = '';\n",
              "        dataTable['output_type'] = 'display_data';\n",
              "        await google.colab.output.renderOutput(dataTable, element);\n",
              "        const docLink = document.createElement('div');\n",
              "        docLink.innerHTML = docLinkHtml;\n",
              "        element.appendChild(docLink);\n",
              "      }\n",
              "    </script>\n",
              "  </div>\n",
              "\n",
              "\n",
              "    <div id=\"df-06369b87-0c08-4027-ac57-72df837545bc\">\n",
              "      <button class=\"colab-df-quickchart\" onclick=\"quickchart('df-06369b87-0c08-4027-ac57-72df837545bc')\"\n",
              "                title=\"Suggest charts\"\n",
              "                style=\"display:none;\">\n",
              "\n",
              "<svg xmlns=\"http://www.w3.org/2000/svg\" height=\"24px\"viewBox=\"0 0 24 24\"\n",
              "     width=\"24px\">\n",
              "    <g>\n",
              "        <path d=\"M19 3H5c-1.1 0-2 .9-2 2v14c0 1.1.9 2 2 2h14c1.1 0 2-.9 2-2V5c0-1.1-.9-2-2-2zM9 17H7v-7h2v7zm4 0h-2V7h2v10zm4 0h-2v-4h2v4z\"/>\n",
              "    </g>\n",
              "</svg>\n",
              "      </button>\n",
              "\n",
              "<style>\n",
              "  .colab-df-quickchart {\n",
              "      --bg-color: #E8F0FE;\n",
              "      --fill-color: #1967D2;\n",
              "      --hover-bg-color: #E2EBFA;\n",
              "      --hover-fill-color: #174EA6;\n",
              "      --disabled-fill-color: #AAA;\n",
              "      --disabled-bg-color: #DDD;\n",
              "  }\n",
              "\n",
              "  [theme=dark] .colab-df-quickchart {\n",
              "      --bg-color: #3B4455;\n",
              "      --fill-color: #D2E3FC;\n",
              "      --hover-bg-color: #434B5C;\n",
              "      --hover-fill-color: #FFFFFF;\n",
              "      --disabled-bg-color: #3B4455;\n",
              "      --disabled-fill-color: #666;\n",
              "  }\n",
              "\n",
              "  .colab-df-quickchart {\n",
              "    background-color: var(--bg-color);\n",
              "    border: none;\n",
              "    border-radius: 50%;\n",
              "    cursor: pointer;\n",
              "    display: none;\n",
              "    fill: var(--fill-color);\n",
              "    height: 32px;\n",
              "    padding: 0;\n",
              "    width: 32px;\n",
              "  }\n",
              "\n",
              "  .colab-df-quickchart:hover {\n",
              "    background-color: var(--hover-bg-color);\n",
              "    box-shadow: 0 1px 2px rgba(60, 64, 67, 0.3), 0 1px 3px 1px rgba(60, 64, 67, 0.15);\n",
              "    fill: var(--button-hover-fill-color);\n",
              "  }\n",
              "\n",
              "  .colab-df-quickchart-complete:disabled,\n",
              "  .colab-df-quickchart-complete:disabled:hover {\n",
              "    background-color: var(--disabled-bg-color);\n",
              "    fill: var(--disabled-fill-color);\n",
              "    box-shadow: none;\n",
              "  }\n",
              "\n",
              "  .colab-df-spinner {\n",
              "    border: 2px solid var(--fill-color);\n",
              "    border-color: transparent;\n",
              "    border-bottom-color: var(--fill-color);\n",
              "    animation:\n",
              "      spin 1s steps(1) infinite;\n",
              "  }\n",
              "\n",
              "  @keyframes spin {\n",
              "    0% {\n",
              "      border-color: transparent;\n",
              "      border-bottom-color: var(--fill-color);\n",
              "      border-left-color: var(--fill-color);\n",
              "    }\n",
              "    20% {\n",
              "      border-color: transparent;\n",
              "      border-left-color: var(--fill-color);\n",
              "      border-top-color: var(--fill-color);\n",
              "    }\n",
              "    30% {\n",
              "      border-color: transparent;\n",
              "      border-left-color: var(--fill-color);\n",
              "      border-top-color: var(--fill-color);\n",
              "      border-right-color: var(--fill-color);\n",
              "    }\n",
              "    40% {\n",
              "      border-color: transparent;\n",
              "      border-right-color: var(--fill-color);\n",
              "      border-top-color: var(--fill-color);\n",
              "    }\n",
              "    60% {\n",
              "      border-color: transparent;\n",
              "      border-right-color: var(--fill-color);\n",
              "    }\n",
              "    80% {\n",
              "      border-color: transparent;\n",
              "      border-right-color: var(--fill-color);\n",
              "      border-bottom-color: var(--fill-color);\n",
              "    }\n",
              "    90% {\n",
              "      border-color: transparent;\n",
              "      border-bottom-color: var(--fill-color);\n",
              "    }\n",
              "  }\n",
              "</style>\n",
              "\n",
              "      <script>\n",
              "        async function quickchart(key) {\n",
              "          const quickchartButtonEl =\n",
              "            document.querySelector('#' + key + ' button');\n",
              "          quickchartButtonEl.disabled = true;  // To prevent multiple clicks.\n",
              "          quickchartButtonEl.classList.add('colab-df-spinner');\n",
              "          try {\n",
              "            const charts = await google.colab.kernel.invokeFunction(\n",
              "                'suggestCharts', [key], {});\n",
              "          } catch (error) {\n",
              "            console.error('Error during call to suggestCharts:', error);\n",
              "          }\n",
              "          quickchartButtonEl.classList.remove('colab-df-spinner');\n",
              "          quickchartButtonEl.classList.add('colab-df-quickchart-complete');\n",
              "        }\n",
              "        (() => {\n",
              "          let quickchartButtonEl =\n",
              "            document.querySelector('#df-06369b87-0c08-4027-ac57-72df837545bc button');\n",
              "          quickchartButtonEl.style.display =\n",
              "            google.colab.kernel.accessAllowed ? 'block' : 'none';\n",
              "        })();\n",
              "      </script>\n",
              "    </div>\n",
              "\n",
              "  <div id=\"id_530b0c8e-ff73-41c7-94dc-fd759bac007d\">\n",
              "    <style>\n",
              "      .colab-df-generate {\n",
              "        background-color: #E8F0FE;\n",
              "        border: none;\n",
              "        border-radius: 50%;\n",
              "        cursor: pointer;\n",
              "        display: none;\n",
              "        fill: #1967D2;\n",
              "        height: 32px;\n",
              "        padding: 0 0 0 0;\n",
              "        width: 32px;\n",
              "      }\n",
              "\n",
              "      .colab-df-generate:hover {\n",
              "        background-color: #E2EBFA;\n",
              "        box-shadow: 0px 1px 2px rgba(60, 64, 67, 0.3), 0px 1px 3px 1px rgba(60, 64, 67, 0.15);\n",
              "        fill: #174EA6;\n",
              "      }\n",
              "\n",
              "      [theme=dark] .colab-df-generate {\n",
              "        background-color: #3B4455;\n",
              "        fill: #D2E3FC;\n",
              "      }\n",
              "\n",
              "      [theme=dark] .colab-df-generate:hover {\n",
              "        background-color: #434B5C;\n",
              "        box-shadow: 0px 1px 3px 1px rgba(0, 0, 0, 0.15);\n",
              "        filter: drop-shadow(0px 1px 2px rgba(0, 0, 0, 0.3));\n",
              "        fill: #FFFFFF;\n",
              "      }\n",
              "    </style>\n",
              "    <button class=\"colab-df-generate\" onclick=\"generateWithVariable('counts')\"\n",
              "            title=\"Generate code using this dataframe.\"\n",
              "            style=\"display:none;\">\n",
              "\n",
              "  <svg xmlns=\"http://www.w3.org/2000/svg\" height=\"24px\"viewBox=\"0 0 24 24\"\n",
              "       width=\"24px\">\n",
              "    <path d=\"M7,19H8.4L18.45,9,17,7.55,7,17.6ZM5,21V16.75L18.45,3.32a2,2,0,0,1,2.83,0l1.4,1.43a1.91,1.91,0,0,1,.58,1.4,1.91,1.91,0,0,1-.58,1.4L9.25,21ZM18.45,9,17,7.55Zm-12,3A5.31,5.31,0,0,0,4.9,8.1,5.31,5.31,0,0,0,1,6.5,5.31,5.31,0,0,0,4.9,4.9,5.31,5.31,0,0,0,6.5,1,5.31,5.31,0,0,0,8.1,4.9,5.31,5.31,0,0,0,12,6.5,5.46,5.46,0,0,0,6.5,12Z\"/>\n",
              "  </svg>\n",
              "    </button>\n",
              "    <script>\n",
              "      (() => {\n",
              "      const buttonEl =\n",
              "        document.querySelector('#id_530b0c8e-ff73-41c7-94dc-fd759bac007d button.colab-df-generate');\n",
              "      buttonEl.style.display =\n",
              "        google.colab.kernel.accessAllowed ? 'block' : 'none';\n",
              "\n",
              "      buttonEl.onclick = () => {\n",
              "        google.colab.notebook.generateWithVariable('counts');\n",
              "      }\n",
              "      })();\n",
              "    </script>\n",
              "  </div>\n",
              "\n",
              "    </div>\n",
              "  </div>\n"
            ],
            "text/plain": [
              "     Origin  Destination\n",
              "ABE     303          303\n",
              "ABI     169          169\n",
              "ABQ    2077         2076\n",
              "ABR      60           60\n",
              "ABY      79           79\n",
              "..      ...          ...\n",
              "WRG      60           60\n",
              "WYS      52           52\n",
              "XNA    1004         1004\n",
              "YAK      60           60\n",
              "YUM      96           96\n",
              "\n",
              "[346 rows x 2 columns]"
            ]
          },
          "execution_count": 18,
          "metadata": {},
          "output_type": "execute_result"
        }
      ],
      "source": [
        "counts = pd.DataFrame({\n",
        "    'Origin': df_temp['Origin'].value_counts(),\n",
        "    'Destination': df_temp['Dest'].value_counts()\n",
        "})\n",
        "counts"
      ]
    },
    {
      "cell_type": "markdown",
      "metadata": {
        "id": "9ravmfXr3w9A"
      },
      "source": [
        "**Question**: Print the top 15 origin and destination airports based on number of flights in the dataset.\n",
        "\n",
        "**Hint**: You can use the Pandas `sort_values` function ([documentation](https://pandas.pydata.org/pandas-docs/stable/reference/api/pandas.DataFrame.sort_values.html))."
      ]
    },
    {
      "cell_type": "code",
      "execution_count": 19,
      "metadata": {
        "colab": {
          "base_uri": "https://localhost:8080/",
          "height": 519
        },
        "id": "LBD2endP3w9A",
        "outputId": "7977d5e9-c3cd-40c4-c6fe-f659ca28cc70"
      },
      "outputs": [
        {
          "data": {
            "application/vnd.google.colaboratory.intrinsic+json": {
              "summary": "{\n  \"name\": \"counts\",\n  \"rows\": 15,\n  \"fields\": [\n    {\n      \"column\": \"Origin\",\n      \"properties\": {\n        \"dtype\": \"number\",\n        \"std\": 6095,\n        \"min\": 11872,\n        \"max\": 31525,\n        \"num_unique_values\": 15,\n        \"samples\": [\n          13349,\n          13126,\n          31525\n        ],\n        \"semantic_type\": \"\",\n        \"description\": \"\"\n      }\n    },\n    {\n      \"column\": \"Destination\",\n      \"properties\": {\n        \"dtype\": \"number\",\n        \"std\": 6092,\n        \"min\": 11877,\n        \"max\": 31521,\n        \"num_unique_values\": 15,\n        \"samples\": [\n          13347,\n          13128,\n          31521\n        ],\n        \"semantic_type\": \"\",\n        \"description\": \"\"\n      }\n    }\n  ]\n}",
              "type": "dataframe"
            },
            "text/html": [
              "\n",
              "  <div id=\"df-d6702319-b41f-4b25-b080-4f2ee2b92ae5\" class=\"colab-df-container\">\n",
              "    <div>\n",
              "<style scoped>\n",
              "    .dataframe tbody tr th:only-of-type {\n",
              "        vertical-align: middle;\n",
              "    }\n",
              "\n",
              "    .dataframe tbody tr th {\n",
              "        vertical-align: top;\n",
              "    }\n",
              "\n",
              "    .dataframe thead th {\n",
              "        text-align: right;\n",
              "    }\n",
              "</style>\n",
              "<table border=\"1\" class=\"dataframe\">\n",
              "  <thead>\n",
              "    <tr style=\"text-align: right;\">\n",
              "      <th></th>\n",
              "      <th>Origin</th>\n",
              "      <th>Destination</th>\n",
              "    </tr>\n",
              "  </thead>\n",
              "  <tbody>\n",
              "    <tr>\n",
              "      <th>ATL</th>\n",
              "      <td>31525</td>\n",
              "      <td>31521</td>\n",
              "    </tr>\n",
              "    <tr>\n",
              "      <th>ORD</th>\n",
              "      <td>28257</td>\n",
              "      <td>28250</td>\n",
              "    </tr>\n",
              "    <tr>\n",
              "      <th>DFW</th>\n",
              "      <td>22802</td>\n",
              "      <td>22795</td>\n",
              "    </tr>\n",
              "    <tr>\n",
              "      <th>DEN</th>\n",
              "      <td>19807</td>\n",
              "      <td>19807</td>\n",
              "    </tr>\n",
              "    <tr>\n",
              "      <th>CLT</th>\n",
              "      <td>19655</td>\n",
              "      <td>19654</td>\n",
              "    </tr>\n",
              "    <tr>\n",
              "      <th>LAX</th>\n",
              "      <td>17875</td>\n",
              "      <td>17873</td>\n",
              "    </tr>\n",
              "    <tr>\n",
              "      <th>SFO</th>\n",
              "      <td>14332</td>\n",
              "      <td>14348</td>\n",
              "    </tr>\n",
              "    <tr>\n",
              "      <th>IAH</th>\n",
              "      <td>14210</td>\n",
              "      <td>14203</td>\n",
              "    </tr>\n",
              "    <tr>\n",
              "      <th>LGA</th>\n",
              "      <td>13850</td>\n",
              "      <td>13850</td>\n",
              "    </tr>\n",
              "    <tr>\n",
              "      <th>MSP</th>\n",
              "      <td>13349</td>\n",
              "      <td>13347</td>\n",
              "    </tr>\n",
              "    <tr>\n",
              "      <th>LAS</th>\n",
              "      <td>13318</td>\n",
              "      <td>13322</td>\n",
              "    </tr>\n",
              "    <tr>\n",
              "      <th>PHX</th>\n",
              "      <td>13126</td>\n",
              "      <td>13128</td>\n",
              "    </tr>\n",
              "    <tr>\n",
              "      <th>DTW</th>\n",
              "      <td>12725</td>\n",
              "      <td>12724</td>\n",
              "    </tr>\n",
              "    <tr>\n",
              "      <th>BOS</th>\n",
              "      <td>12223</td>\n",
              "      <td>12227</td>\n",
              "    </tr>\n",
              "    <tr>\n",
              "      <th>SEA</th>\n",
              "      <td>11872</td>\n",
              "      <td>11877</td>\n",
              "    </tr>\n",
              "  </tbody>\n",
              "</table>\n",
              "</div>\n",
              "    <div class=\"colab-df-buttons\">\n",
              "\n",
              "  <div class=\"colab-df-container\">\n",
              "    <button class=\"colab-df-convert\" onclick=\"convertToInteractive('df-d6702319-b41f-4b25-b080-4f2ee2b92ae5')\"\n",
              "            title=\"Convert this dataframe to an interactive table.\"\n",
              "            style=\"display:none;\">\n",
              "\n",
              "  <svg xmlns=\"http://www.w3.org/2000/svg\" height=\"24px\" viewBox=\"0 -960 960 960\">\n",
              "    <path d=\"M120-120v-720h720v720H120Zm60-500h600v-160H180v160Zm220 220h160v-160H400v160Zm0 220h160v-160H400v160ZM180-400h160v-160H180v160Zm440 0h160v-160H620v160ZM180-180h160v-160H180v160Zm440 0h160v-160H620v160Z\"/>\n",
              "  </svg>\n",
              "    </button>\n",
              "\n",
              "  <style>\n",
              "    .colab-df-container {\n",
              "      display:flex;\n",
              "      gap: 12px;\n",
              "    }\n",
              "\n",
              "    .colab-df-convert {\n",
              "      background-color: #E8F0FE;\n",
              "      border: none;\n",
              "      border-radius: 50%;\n",
              "      cursor: pointer;\n",
              "      display: none;\n",
              "      fill: #1967D2;\n",
              "      height: 32px;\n",
              "      padding: 0 0 0 0;\n",
              "      width: 32px;\n",
              "    }\n",
              "\n",
              "    .colab-df-convert:hover {\n",
              "      background-color: #E2EBFA;\n",
              "      box-shadow: 0px 1px 2px rgba(60, 64, 67, 0.3), 0px 1px 3px 1px rgba(60, 64, 67, 0.15);\n",
              "      fill: #174EA6;\n",
              "    }\n",
              "\n",
              "    .colab-df-buttons div {\n",
              "      margin-bottom: 4px;\n",
              "    }\n",
              "\n",
              "    [theme=dark] .colab-df-convert {\n",
              "      background-color: #3B4455;\n",
              "      fill: #D2E3FC;\n",
              "    }\n",
              "\n",
              "    [theme=dark] .colab-df-convert:hover {\n",
              "      background-color: #434B5C;\n",
              "      box-shadow: 0px 1px 3px 1px rgba(0, 0, 0, 0.15);\n",
              "      filter: drop-shadow(0px 1px 2px rgba(0, 0, 0, 0.3));\n",
              "      fill: #FFFFFF;\n",
              "    }\n",
              "  </style>\n",
              "\n",
              "    <script>\n",
              "      const buttonEl =\n",
              "        document.querySelector('#df-d6702319-b41f-4b25-b080-4f2ee2b92ae5 button.colab-df-convert');\n",
              "      buttonEl.style.display =\n",
              "        google.colab.kernel.accessAllowed ? 'block' : 'none';\n",
              "\n",
              "      async function convertToInteractive(key) {\n",
              "        const element = document.querySelector('#df-d6702319-b41f-4b25-b080-4f2ee2b92ae5');\n",
              "        const dataTable =\n",
              "          await google.colab.kernel.invokeFunction('convertToInteractive',\n",
              "                                                    [key], {});\n",
              "        if (!dataTable) return;\n",
              "\n",
              "        const docLinkHtml = 'Like what you see? Visit the ' +\n",
              "          '<a target=\"_blank\" href=https://colab.research.google.com/notebooks/data_table.ipynb>data table notebook</a>'\n",
              "          + ' to learn more about interactive tables.';\n",
              "        element.innerHTML = '';\n",
              "        dataTable['output_type'] = 'display_data';\n",
              "        await google.colab.output.renderOutput(dataTable, element);\n",
              "        const docLink = document.createElement('div');\n",
              "        docLink.innerHTML = docLinkHtml;\n",
              "        element.appendChild(docLink);\n",
              "      }\n",
              "    </script>\n",
              "  </div>\n",
              "\n",
              "\n",
              "    <div id=\"df-1f517924-368a-47a2-82c8-e9c364f1a5d5\">\n",
              "      <button class=\"colab-df-quickchart\" onclick=\"quickchart('df-1f517924-368a-47a2-82c8-e9c364f1a5d5')\"\n",
              "                title=\"Suggest charts\"\n",
              "                style=\"display:none;\">\n",
              "\n",
              "<svg xmlns=\"http://www.w3.org/2000/svg\" height=\"24px\"viewBox=\"0 0 24 24\"\n",
              "     width=\"24px\">\n",
              "    <g>\n",
              "        <path d=\"M19 3H5c-1.1 0-2 .9-2 2v14c0 1.1.9 2 2 2h14c1.1 0 2-.9 2-2V5c0-1.1-.9-2-2-2zM9 17H7v-7h2v7zm4 0h-2V7h2v10zm4 0h-2v-4h2v4z\"/>\n",
              "    </g>\n",
              "</svg>\n",
              "      </button>\n",
              "\n",
              "<style>\n",
              "  .colab-df-quickchart {\n",
              "      --bg-color: #E8F0FE;\n",
              "      --fill-color: #1967D2;\n",
              "      --hover-bg-color: #E2EBFA;\n",
              "      --hover-fill-color: #174EA6;\n",
              "      --disabled-fill-color: #AAA;\n",
              "      --disabled-bg-color: #DDD;\n",
              "  }\n",
              "\n",
              "  [theme=dark] .colab-df-quickchart {\n",
              "      --bg-color: #3B4455;\n",
              "      --fill-color: #D2E3FC;\n",
              "      --hover-bg-color: #434B5C;\n",
              "      --hover-fill-color: #FFFFFF;\n",
              "      --disabled-bg-color: #3B4455;\n",
              "      --disabled-fill-color: #666;\n",
              "  }\n",
              "\n",
              "  .colab-df-quickchart {\n",
              "    background-color: var(--bg-color);\n",
              "    border: none;\n",
              "    border-radius: 50%;\n",
              "    cursor: pointer;\n",
              "    display: none;\n",
              "    fill: var(--fill-color);\n",
              "    height: 32px;\n",
              "    padding: 0;\n",
              "    width: 32px;\n",
              "  }\n",
              "\n",
              "  .colab-df-quickchart:hover {\n",
              "    background-color: var(--hover-bg-color);\n",
              "    box-shadow: 0 1px 2px rgba(60, 64, 67, 0.3), 0 1px 3px 1px rgba(60, 64, 67, 0.15);\n",
              "    fill: var(--button-hover-fill-color);\n",
              "  }\n",
              "\n",
              "  .colab-df-quickchart-complete:disabled,\n",
              "  .colab-df-quickchart-complete:disabled:hover {\n",
              "    background-color: var(--disabled-bg-color);\n",
              "    fill: var(--disabled-fill-color);\n",
              "    box-shadow: none;\n",
              "  }\n",
              "\n",
              "  .colab-df-spinner {\n",
              "    border: 2px solid var(--fill-color);\n",
              "    border-color: transparent;\n",
              "    border-bottom-color: var(--fill-color);\n",
              "    animation:\n",
              "      spin 1s steps(1) infinite;\n",
              "  }\n",
              "\n",
              "  @keyframes spin {\n",
              "    0% {\n",
              "      border-color: transparent;\n",
              "      border-bottom-color: var(--fill-color);\n",
              "      border-left-color: var(--fill-color);\n",
              "    }\n",
              "    20% {\n",
              "      border-color: transparent;\n",
              "      border-left-color: var(--fill-color);\n",
              "      border-top-color: var(--fill-color);\n",
              "    }\n",
              "    30% {\n",
              "      border-color: transparent;\n",
              "      border-left-color: var(--fill-color);\n",
              "      border-top-color: var(--fill-color);\n",
              "      border-right-color: var(--fill-color);\n",
              "    }\n",
              "    40% {\n",
              "      border-color: transparent;\n",
              "      border-right-color: var(--fill-color);\n",
              "      border-top-color: var(--fill-color);\n",
              "    }\n",
              "    60% {\n",
              "      border-color: transparent;\n",
              "      border-right-color: var(--fill-color);\n",
              "    }\n",
              "    80% {\n",
              "      border-color: transparent;\n",
              "      border-right-color: var(--fill-color);\n",
              "      border-bottom-color: var(--fill-color);\n",
              "    }\n",
              "    90% {\n",
              "      border-color: transparent;\n",
              "      border-bottom-color: var(--fill-color);\n",
              "    }\n",
              "  }\n",
              "</style>\n",
              "\n",
              "      <script>\n",
              "        async function quickchart(key) {\n",
              "          const quickchartButtonEl =\n",
              "            document.querySelector('#' + key + ' button');\n",
              "          quickchartButtonEl.disabled = true;  // To prevent multiple clicks.\n",
              "          quickchartButtonEl.classList.add('colab-df-spinner');\n",
              "          try {\n",
              "            const charts = await google.colab.kernel.invokeFunction(\n",
              "                'suggestCharts', [key], {});\n",
              "          } catch (error) {\n",
              "            console.error('Error during call to suggestCharts:', error);\n",
              "          }\n",
              "          quickchartButtonEl.classList.remove('colab-df-spinner');\n",
              "          quickchartButtonEl.classList.add('colab-df-quickchart-complete');\n",
              "        }\n",
              "        (() => {\n",
              "          let quickchartButtonEl =\n",
              "            document.querySelector('#df-1f517924-368a-47a2-82c8-e9c364f1a5d5 button');\n",
              "          quickchartButtonEl.style.display =\n",
              "            google.colab.kernel.accessAllowed ? 'block' : 'none';\n",
              "        })();\n",
              "      </script>\n",
              "    </div>\n",
              "\n",
              "    </div>\n",
              "  </div>\n"
            ],
            "text/plain": [
              "     Origin  Destination\n",
              "ATL   31525        31521\n",
              "ORD   28257        28250\n",
              "DFW   22802        22795\n",
              "DEN   19807        19807\n",
              "CLT   19655        19654\n",
              "LAX   17875        17873\n",
              "SFO   14332        14348\n",
              "IAH   14210        14203\n",
              "LGA   13850        13850\n",
              "MSP   13349        13347\n",
              "LAS   13318        13322\n",
              "PHX   13126        13128\n",
              "DTW   12725        12724\n",
              "BOS   12223        12227\n",
              "SEA   11872        11877"
            ]
          },
          "execution_count": 19,
          "metadata": {},
          "output_type": "execute_result"
        }
      ],
      "source": [
        "\n",
        "\n",
        "\n",
        "counts.sort_values(by='Origin',ascending=False).head(15 )# Enter your code here\n",
        "\n"
      ]
    },
    {
      "cell_type": "markdown",
      "metadata": {
        "id": "ULYCQtSg3w9A"
      },
      "source": [
        "**Question**: Given all the information about a flight trip, can you predict if it would be delayed?"
      ]
    },
    {
      "cell_type": "markdown",
      "metadata": {},
      "source": [
        "# yes this dataset has capabality to predict about delay but for that we need machine learning classifications model because dataset has output target value 0/1/."
      ]
    },
    {
      "cell_type": "markdown",
      "metadata": {
        "id": "QXOtJESu3w9A"
      },
      "source": [
        "Now, assume you are traveling from San Francisco to Los Angeles on a work trip. You want to have an ideas if your flight will be delayed, given a set of features, so that you can manage your reservations in Los Angeles better. How many features from this dataset would you know before your flight?\n",
        "\n",
        "Columns such as `DepDelay`, `ArrDelay`, `CarrierDelay`, `WeatherDelay`, `NASDelay`, `SecurityDelay`, `LateAircraftDelay`, and `DivArrDelay` contain information about a delay. But this delay could have occured at the origin or destination. If there were a sudden weather delay 10 minutes before landing, this data would not be helpful in managing your Los Angeles reservations.\n",
        "\n",
        "So to simplify the problem statement, consider the following columns to predict an arrival delay:<br>\n",
        "\n",
        "`Year`, `Quarter`, `Month`, `DayofMonth`, `DayOfWeek`, `FlightDate`, `Reporting_Airline`, `Origin`, `OriginState`, `Dest`, `DestState`, `CRSDepTime`, `DepDelayMinutes`, `DepartureDelayGroups`, `Cancelled`, `Diverted`, `Distance`, `DistanceGroup`, `ArrDelay`, `ArrDelayMinutes`, `ArrDel15`, `AirTime`\n",
        "\n",
        "You will also filter the source and destination airports to be:\n",
        "- Top airports: ATL, ORD, DFW, DEN, CLT, LAX, IAH, PHX, SFO\n",
        "- Top 5 airlines: UA, OO, WN, AA, DL\n",
        "\n",
        "This should help in reducing the size of data across the CSV files to be combined."
      ]
    },
    {
      "cell_type": "markdown",
      "metadata": {
        "id": "Cc3ucaDJ3w9B"
      },
      "source": [
        "#### Combine all CSV files\n",
        "\n",
        "**Hint**:  \n",
        "First, create an empy dataframe that you will use to copy your individual dataframes from each file. Then, for each file in the `csv_files` list:\n",
        "\n",
        "1. Read the CSV file into a dataframe  \n",
        "2. Filter the columns based on the `filter_cols` variable\n",
        "\n",
        "```\n",
        "        columns = ['col1', 'col2']\n",
        "        df_filter = df[columns]\n",
        "```\n",
        "\n",
        "3. Keep only the subset_vals in each of the subset_cols. Use the `isin` Pandas function ([documentation](https://pandas.pydata.org/pandas-docs/stable/reference/api/pandas.DataFrame.isin.html)) to check if the `val` is in the dataframe column and then choose the rows that include it.\n",
        "\n",
        "```\n",
        "        df_eg[df_eg['col1'].isin('5')]\n",
        "```\n",
        "\n",
        "4. Concatenate the dataframe with the empty dataframe"
      ]
    },
    {
      "cell_type": "code",
      "execution_count": 20,
      "metadata": {
        "id": "P5wCUPJC3w9B"
      },
      "outputs": [],
      "source": [
        "def combine_csv(csv_files, filter_cols, subset_cols, subset_vals, file_name):\n",
        "    df = pd.DataFrame()\n",
        "\n",
        "    for file in csv_files:\n",
        "        try:\n",
        "\n",
        "            temp = pd.read_csv(file, usecols=filter_cols, low_memory=False)\n",
        "            for col, vals in zip(subset_cols, subset_vals):\n",
        "                temp = temp[temp[col].isin(vals)]\n",
        "            df = pd.concat([df, temp], ignore_index=True)\n",
        "        except Exception as e:\n",
        "            print(f\"Skipped file {file} due to error: {e}\")\n",
        "\n",
        "\n",
        "    df.to_csv(file_name, index=False)\n",
        "    return df\n",
        "\n"
      ]
    },
    {
      "cell_type": "code",
      "execution_count": 22,
      "metadata": {
        "id": "j8qSH28k3w9W"
      },
      "outputs": [],
      "source": [
        "base_path = \"/content/csv_data/\"\n",
        "\n",
        "\n",
        "cols = ['Year', 'Quarter', 'Month', 'DayofMonth', 'DayOfWeek', 'FlightDate',\n",
        "        'Reporting_Airline', 'Origin', 'OriginState', 'Dest', 'DestState',\n",
        "        'CRSDepTime', 'Cancelled', 'Diverted', 'Distance', 'DistanceGroup',\n",
        "        'ArrDelay', 'ArrDelayMinutes', 'ArrDel15', 'AirTime']\n",
        "\n",
        "subset_cols = ['Origin', 'Dest', 'Reporting_Airline']\n",
        "\n",
        "subset_vals = [\n",
        "    ['ATL', 'ORD', 'DFW', 'DEN', 'CLT', 'LAX', 'IAH', 'PHX', 'SFO'],\n",
        "    ['ATL', 'ORD', 'DFW', 'DEN', 'CLT', 'LAX', 'IAH', 'PHX', 'SFO'],\n",
        "    ['UA', 'OO', 'WN', 'AA', 'DL']\n",
        "]\n"
      ]
    },
    {
      "cell_type": "markdown",
      "metadata": {
        "id": "eaXSJtxV3w9X"
      },
      "source": [
        "Use the function above to merge all the different files into a single file that you can read easily.\n",
        "\n",
        "**Note**: This will take 5-7 minutes to complete."
      ]
    },
    {
      "cell_type": "code",
      "execution_count": 23,
      "metadata": {
        "colab": {
          "base_uri": "https://localhost:8080/"
        },
        "id": "Z3oMJxUt3w9Y",
        "outputId": "dec71383-e63c-4a88-e163-d125128f0916"
      },
      "outputs": [
        {
          "name": "stdout",
          "output_type": "stream",
          "text": [
            "CSVs merged successfully into /content/csv_data/combined_files.csv\n",
            "Time taken: 4.83 minutes\n"
          ]
        }
      ],
      "source": [
        "start = time.time()\n",
        "\n",
        "csv_files = [os.path.join(base_path, f) for f in os.listdir(base_path) if f.endswith(\".csv\")]\n",
        "combined_csv_filename = f\"{base_path}combined_files.csv\"\n",
        "\n",
        "df_combined = combine_csv(csv_files, cols, subset_cols, subset_vals, combined_csv_filename)\n",
        "\n",
        "print(f\"CSVs merged successfully into {combined_csv_filename}\")\n",
        "print(f\"Time taken: {round((time.time() - start)/60, 2)} minutes\")\n"
      ]
    },
    {
      "cell_type": "markdown",
      "metadata": {
        "id": "jQGH3Ilw3w9Y"
      },
      "source": [
        "#### Load dataset\n",
        "\n",
        "Load the combined dataset."
      ]
    },
    {
      "cell_type": "code",
      "execution_count": 24,
      "metadata": {
        "id": "nuaDSR753w9Y"
      },
      "outputs": [],
      "source": [
        "data = pd.read_csv(\"/content/csv_data/combined_files.csv\")# Enter your code here to read the combined csv file."
      ]
    },
    {
      "cell_type": "markdown",
      "metadata": {
        "id": "4hIwHJT23w9Y"
      },
      "source": [
        "Print the first 5 records."
      ]
    },
    {
      "cell_type": "code",
      "execution_count": 25,
      "metadata": {
        "colab": {
          "base_uri": "https://localhost:8080/",
          "height": 226
        },
        "id": "PWDl0bvl3w9Y",
        "outputId": "30fa0b78-e880-4ce0-9c1c-617afc251c0b"
      },
      "outputs": [
        {
          "data": {
            "application/vnd.google.colaboratory.intrinsic+json": {
              "type": "dataframe",
              "variable_name": "data"
            },
            "text/html": [
              "\n",
              "  <div id=\"df-fa3b249f-b796-42ea-8025-57fbad9a5a05\" class=\"colab-df-container\">\n",
              "    <div>\n",
              "<style scoped>\n",
              "    .dataframe tbody tr th:only-of-type {\n",
              "        vertical-align: middle;\n",
              "    }\n",
              "\n",
              "    .dataframe tbody tr th {\n",
              "        vertical-align: top;\n",
              "    }\n",
              "\n",
              "    .dataframe thead th {\n",
              "        text-align: right;\n",
              "    }\n",
              "</style>\n",
              "<table border=\"1\" class=\"dataframe\">\n",
              "  <thead>\n",
              "    <tr style=\"text-align: right;\">\n",
              "      <th></th>\n",
              "      <th>Year</th>\n",
              "      <th>Quarter</th>\n",
              "      <th>Month</th>\n",
              "      <th>DayofMonth</th>\n",
              "      <th>DayOfWeek</th>\n",
              "      <th>FlightDate</th>\n",
              "      <th>Reporting_Airline</th>\n",
              "      <th>Origin</th>\n",
              "      <th>OriginState</th>\n",
              "      <th>Dest</th>\n",
              "      <th>DestState</th>\n",
              "      <th>CRSDepTime</th>\n",
              "      <th>ArrDelay</th>\n",
              "      <th>ArrDelayMinutes</th>\n",
              "      <th>ArrDel15</th>\n",
              "      <th>Cancelled</th>\n",
              "      <th>Diverted</th>\n",
              "      <th>AirTime</th>\n",
              "      <th>Distance</th>\n",
              "      <th>DistanceGroup</th>\n",
              "    </tr>\n",
              "  </thead>\n",
              "  <tbody>\n",
              "    <tr>\n",
              "      <th>0</th>\n",
              "      <td>2014</td>\n",
              "      <td>3</td>\n",
              "      <td>8</td>\n",
              "      <td>1</td>\n",
              "      <td>5</td>\n",
              "      <td>2014-08-01</td>\n",
              "      <td>AA</td>\n",
              "      <td>DFW</td>\n",
              "      <td>TX</td>\n",
              "      <td>ORD</td>\n",
              "      <td>IL</td>\n",
              "      <td>545</td>\n",
              "      <td>-1.0</td>\n",
              "      <td>0.0</td>\n",
              "      <td>0.0</td>\n",
              "      <td>0.0</td>\n",
              "      <td>0.0</td>\n",
              "      <td>116.0</td>\n",
              "      <td>802.0</td>\n",
              "      <td>4</td>\n",
              "    </tr>\n",
              "    <tr>\n",
              "      <th>1</th>\n",
              "      <td>2014</td>\n",
              "      <td>3</td>\n",
              "      <td>8</td>\n",
              "      <td>2</td>\n",
              "      <td>6</td>\n",
              "      <td>2014-08-02</td>\n",
              "      <td>AA</td>\n",
              "      <td>DFW</td>\n",
              "      <td>TX</td>\n",
              "      <td>ORD</td>\n",
              "      <td>IL</td>\n",
              "      <td>545</td>\n",
              "      <td>3.0</td>\n",
              "      <td>3.0</td>\n",
              "      <td>0.0</td>\n",
              "      <td>0.0</td>\n",
              "      <td>0.0</td>\n",
              "      <td>112.0</td>\n",
              "      <td>802.0</td>\n",
              "      <td>4</td>\n",
              "    </tr>\n",
              "    <tr>\n",
              "      <th>2</th>\n",
              "      <td>2014</td>\n",
              "      <td>3</td>\n",
              "      <td>8</td>\n",
              "      <td>3</td>\n",
              "      <td>7</td>\n",
              "      <td>2014-08-03</td>\n",
              "      <td>AA</td>\n",
              "      <td>DFW</td>\n",
              "      <td>TX</td>\n",
              "      <td>ORD</td>\n",
              "      <td>IL</td>\n",
              "      <td>545</td>\n",
              "      <td>-15.0</td>\n",
              "      <td>0.0</td>\n",
              "      <td>0.0</td>\n",
              "      <td>0.0</td>\n",
              "      <td>0.0</td>\n",
              "      <td>110.0</td>\n",
              "      <td>802.0</td>\n",
              "      <td>4</td>\n",
              "    </tr>\n",
              "    <tr>\n",
              "      <th>3</th>\n",
              "      <td>2014</td>\n",
              "      <td>3</td>\n",
              "      <td>8</td>\n",
              "      <td>4</td>\n",
              "      <td>1</td>\n",
              "      <td>2014-08-04</td>\n",
              "      <td>AA</td>\n",
              "      <td>DFW</td>\n",
              "      <td>TX</td>\n",
              "      <td>ORD</td>\n",
              "      <td>IL</td>\n",
              "      <td>545</td>\n",
              "      <td>-3.0</td>\n",
              "      <td>0.0</td>\n",
              "      <td>0.0</td>\n",
              "      <td>0.0</td>\n",
              "      <td>0.0</td>\n",
              "      <td>115.0</td>\n",
              "      <td>802.0</td>\n",
              "      <td>4</td>\n",
              "    </tr>\n",
              "    <tr>\n",
              "      <th>4</th>\n",
              "      <td>2014</td>\n",
              "      <td>3</td>\n",
              "      <td>8</td>\n",
              "      <td>5</td>\n",
              "      <td>2</td>\n",
              "      <td>2014-08-05</td>\n",
              "      <td>AA</td>\n",
              "      <td>DFW</td>\n",
              "      <td>TX</td>\n",
              "      <td>ORD</td>\n",
              "      <td>IL</td>\n",
              "      <td>545</td>\n",
              "      <td>-3.0</td>\n",
              "      <td>0.0</td>\n",
              "      <td>0.0</td>\n",
              "      <td>0.0</td>\n",
              "      <td>0.0</td>\n",
              "      <td>117.0</td>\n",
              "      <td>802.0</td>\n",
              "      <td>4</td>\n",
              "    </tr>\n",
              "  </tbody>\n",
              "</table>\n",
              "</div>\n",
              "    <div class=\"colab-df-buttons\">\n",
              "\n",
              "  <div class=\"colab-df-container\">\n",
              "    <button class=\"colab-df-convert\" onclick=\"convertToInteractive('df-fa3b249f-b796-42ea-8025-57fbad9a5a05')\"\n",
              "            title=\"Convert this dataframe to an interactive table.\"\n",
              "            style=\"display:none;\">\n",
              "\n",
              "  <svg xmlns=\"http://www.w3.org/2000/svg\" height=\"24px\" viewBox=\"0 -960 960 960\">\n",
              "    <path d=\"M120-120v-720h720v720H120Zm60-500h600v-160H180v160Zm220 220h160v-160H400v160Zm0 220h160v-160H400v160ZM180-400h160v-160H180v160Zm440 0h160v-160H620v160ZM180-180h160v-160H180v160Zm440 0h160v-160H620v160Z\"/>\n",
              "  </svg>\n",
              "    </button>\n",
              "\n",
              "  <style>\n",
              "    .colab-df-container {\n",
              "      display:flex;\n",
              "      gap: 12px;\n",
              "    }\n",
              "\n",
              "    .colab-df-convert {\n",
              "      background-color: #E8F0FE;\n",
              "      border: none;\n",
              "      border-radius: 50%;\n",
              "      cursor: pointer;\n",
              "      display: none;\n",
              "      fill: #1967D2;\n",
              "      height: 32px;\n",
              "      padding: 0 0 0 0;\n",
              "      width: 32px;\n",
              "    }\n",
              "\n",
              "    .colab-df-convert:hover {\n",
              "      background-color: #E2EBFA;\n",
              "      box-shadow: 0px 1px 2px rgba(60, 64, 67, 0.3), 0px 1px 3px 1px rgba(60, 64, 67, 0.15);\n",
              "      fill: #174EA6;\n",
              "    }\n",
              "\n",
              "    .colab-df-buttons div {\n",
              "      margin-bottom: 4px;\n",
              "    }\n",
              "\n",
              "    [theme=dark] .colab-df-convert {\n",
              "      background-color: #3B4455;\n",
              "      fill: #D2E3FC;\n",
              "    }\n",
              "\n",
              "    [theme=dark] .colab-df-convert:hover {\n",
              "      background-color: #434B5C;\n",
              "      box-shadow: 0px 1px 3px 1px rgba(0, 0, 0, 0.15);\n",
              "      filter: drop-shadow(0px 1px 2px rgba(0, 0, 0, 0.3));\n",
              "      fill: #FFFFFF;\n",
              "    }\n",
              "  </style>\n",
              "\n",
              "    <script>\n",
              "      const buttonEl =\n",
              "        document.querySelector('#df-fa3b249f-b796-42ea-8025-57fbad9a5a05 button.colab-df-convert');\n",
              "      buttonEl.style.display =\n",
              "        google.colab.kernel.accessAllowed ? 'block' : 'none';\n",
              "\n",
              "      async function convertToInteractive(key) {\n",
              "        const element = document.querySelector('#df-fa3b249f-b796-42ea-8025-57fbad9a5a05');\n",
              "        const dataTable =\n",
              "          await google.colab.kernel.invokeFunction('convertToInteractive',\n",
              "                                                    [key], {});\n",
              "        if (!dataTable) return;\n",
              "\n",
              "        const docLinkHtml = 'Like what you see? Visit the ' +\n",
              "          '<a target=\"_blank\" href=https://colab.research.google.com/notebooks/data_table.ipynb>data table notebook</a>'\n",
              "          + ' to learn more about interactive tables.';\n",
              "        element.innerHTML = '';\n",
              "        dataTable['output_type'] = 'display_data';\n",
              "        await google.colab.output.renderOutput(dataTable, element);\n",
              "        const docLink = document.createElement('div');\n",
              "        docLink.innerHTML = docLinkHtml;\n",
              "        element.appendChild(docLink);\n",
              "      }\n",
              "    </script>\n",
              "  </div>\n",
              "\n",
              "\n",
              "    <div id=\"df-ea27c17b-8ab8-46e0-8f20-2a6bc6acd196\">\n",
              "      <button class=\"colab-df-quickchart\" onclick=\"quickchart('df-ea27c17b-8ab8-46e0-8f20-2a6bc6acd196')\"\n",
              "                title=\"Suggest charts\"\n",
              "                style=\"display:none;\">\n",
              "\n",
              "<svg xmlns=\"http://www.w3.org/2000/svg\" height=\"24px\"viewBox=\"0 0 24 24\"\n",
              "     width=\"24px\">\n",
              "    <g>\n",
              "        <path d=\"M19 3H5c-1.1 0-2 .9-2 2v14c0 1.1.9 2 2 2h14c1.1 0 2-.9 2-2V5c0-1.1-.9-2-2-2zM9 17H7v-7h2v7zm4 0h-2V7h2v10zm4 0h-2v-4h2v4z\"/>\n",
              "    </g>\n",
              "</svg>\n",
              "      </button>\n",
              "\n",
              "<style>\n",
              "  .colab-df-quickchart {\n",
              "      --bg-color: #E8F0FE;\n",
              "      --fill-color: #1967D2;\n",
              "      --hover-bg-color: #E2EBFA;\n",
              "      --hover-fill-color: #174EA6;\n",
              "      --disabled-fill-color: #AAA;\n",
              "      --disabled-bg-color: #DDD;\n",
              "  }\n",
              "\n",
              "  [theme=dark] .colab-df-quickchart {\n",
              "      --bg-color: #3B4455;\n",
              "      --fill-color: #D2E3FC;\n",
              "      --hover-bg-color: #434B5C;\n",
              "      --hover-fill-color: #FFFFFF;\n",
              "      --disabled-bg-color: #3B4455;\n",
              "      --disabled-fill-color: #666;\n",
              "  }\n",
              "\n",
              "  .colab-df-quickchart {\n",
              "    background-color: var(--bg-color);\n",
              "    border: none;\n",
              "    border-radius: 50%;\n",
              "    cursor: pointer;\n",
              "    display: none;\n",
              "    fill: var(--fill-color);\n",
              "    height: 32px;\n",
              "    padding: 0;\n",
              "    width: 32px;\n",
              "  }\n",
              "\n",
              "  .colab-df-quickchart:hover {\n",
              "    background-color: var(--hover-bg-color);\n",
              "    box-shadow: 0 1px 2px rgba(60, 64, 67, 0.3), 0 1px 3px 1px rgba(60, 64, 67, 0.15);\n",
              "    fill: var(--button-hover-fill-color);\n",
              "  }\n",
              "\n",
              "  .colab-df-quickchart-complete:disabled,\n",
              "  .colab-df-quickchart-complete:disabled:hover {\n",
              "    background-color: var(--disabled-bg-color);\n",
              "    fill: var(--disabled-fill-color);\n",
              "    box-shadow: none;\n",
              "  }\n",
              "\n",
              "  .colab-df-spinner {\n",
              "    border: 2px solid var(--fill-color);\n",
              "    border-color: transparent;\n",
              "    border-bottom-color: var(--fill-color);\n",
              "    animation:\n",
              "      spin 1s steps(1) infinite;\n",
              "  }\n",
              "\n",
              "  @keyframes spin {\n",
              "    0% {\n",
              "      border-color: transparent;\n",
              "      border-bottom-color: var(--fill-color);\n",
              "      border-left-color: var(--fill-color);\n",
              "    }\n",
              "    20% {\n",
              "      border-color: transparent;\n",
              "      border-left-color: var(--fill-color);\n",
              "      border-top-color: var(--fill-color);\n",
              "    }\n",
              "    30% {\n",
              "      border-color: transparent;\n",
              "      border-left-color: var(--fill-color);\n",
              "      border-top-color: var(--fill-color);\n",
              "      border-right-color: var(--fill-color);\n",
              "    }\n",
              "    40% {\n",
              "      border-color: transparent;\n",
              "      border-right-color: var(--fill-color);\n",
              "      border-top-color: var(--fill-color);\n",
              "    }\n",
              "    60% {\n",
              "      border-color: transparent;\n",
              "      border-right-color: var(--fill-color);\n",
              "    }\n",
              "    80% {\n",
              "      border-color: transparent;\n",
              "      border-right-color: var(--fill-color);\n",
              "      border-bottom-color: var(--fill-color);\n",
              "    }\n",
              "    90% {\n",
              "      border-color: transparent;\n",
              "      border-bottom-color: var(--fill-color);\n",
              "    }\n",
              "  }\n",
              "</style>\n",
              "\n",
              "      <script>\n",
              "        async function quickchart(key) {\n",
              "          const quickchartButtonEl =\n",
              "            document.querySelector('#' + key + ' button');\n",
              "          quickchartButtonEl.disabled = true;  // To prevent multiple clicks.\n",
              "          quickchartButtonEl.classList.add('colab-df-spinner');\n",
              "          try {\n",
              "            const charts = await google.colab.kernel.invokeFunction(\n",
              "                'suggestCharts', [key], {});\n",
              "          } catch (error) {\n",
              "            console.error('Error during call to suggestCharts:', error);\n",
              "          }\n",
              "          quickchartButtonEl.classList.remove('colab-df-spinner');\n",
              "          quickchartButtonEl.classList.add('colab-df-quickchart-complete');\n",
              "        }\n",
              "        (() => {\n",
              "          let quickchartButtonEl =\n",
              "            document.querySelector('#df-ea27c17b-8ab8-46e0-8f20-2a6bc6acd196 button');\n",
              "          quickchartButtonEl.style.display =\n",
              "            google.colab.kernel.accessAllowed ? 'block' : 'none';\n",
              "        })();\n",
              "      </script>\n",
              "    </div>\n",
              "\n",
              "    </div>\n",
              "  </div>\n"
            ],
            "text/plain": [
              "   Year  Quarter  Month  DayofMonth  DayOfWeek  FlightDate Reporting_Airline  \\\n",
              "0  2014        3      8           1          5  2014-08-01                AA   \n",
              "1  2014        3      8           2          6  2014-08-02                AA   \n",
              "2  2014        3      8           3          7  2014-08-03                AA   \n",
              "3  2014        3      8           4          1  2014-08-04                AA   \n",
              "4  2014        3      8           5          2  2014-08-05                AA   \n",
              "\n",
              "  Origin OriginState Dest DestState  CRSDepTime  ArrDelay  ArrDelayMinutes  \\\n",
              "0    DFW          TX  ORD        IL         545      -1.0              0.0   \n",
              "1    DFW          TX  ORD        IL         545       3.0              3.0   \n",
              "2    DFW          TX  ORD        IL         545     -15.0              0.0   \n",
              "3    DFW          TX  ORD        IL         545      -3.0              0.0   \n",
              "4    DFW          TX  ORD        IL         545      -3.0              0.0   \n",
              "\n",
              "   ArrDel15  Cancelled  Diverted  AirTime  Distance  DistanceGroup  \n",
              "0       0.0        0.0       0.0    116.0     802.0              4  \n",
              "1       0.0        0.0       0.0    112.0     802.0              4  \n",
              "2       0.0        0.0       0.0    110.0     802.0              4  \n",
              "3       0.0        0.0       0.0    115.0     802.0              4  \n",
              "4       0.0        0.0       0.0    117.0     802.0              4  "
            ]
          },
          "execution_count": 25,
          "metadata": {},
          "output_type": "execute_result"
        }
      ],
      "source": [
        "data.head()"
      ]
    },
    {
      "cell_type": "markdown",
      "metadata": {
        "id": "sSMTD4hu3w9Z"
      },
      "source": [
        "Here are some more questions to help you find out more about your dataset.\n",
        "\n",
        "**Questions**   \n",
        "1. How many rows and columns does the dataset have?   \n",
        "2. How many years are included in the dataset?   \n",
        "3. What is the date range for the dataset?   \n",
        "4. Which airlines are included in the dataset?   \n",
        "5. Which origin and destination airports are covered?"
      ]
    },
    {
      "cell_type": "code",
      "execution_count": 26,
      "metadata": {
        "colab": {
          "base_uri": "https://localhost:8080/"
        },
        "id": "A6_uEiD63w9Z",
        "outputId": "08a7daac-6646-491e-cedf-177fe83e25c7"
      },
      "outputs": [
        {
          "name": "stdout",
          "output_type": "stream",
          "text": [
            "The #rows and #columns are  1658130  and  20\n",
            "The years in this dataset are:  [np.int64(2014), np.int64(2015), np.int64(2018), np.int64(2016), np.int64(2017)]\n",
            "The months covered in this dataset are:  [np.int64(1), np.int64(2), np.int64(3), np.int64(4), np.int64(5), np.int64(6), np.int64(7), np.int64(8), np.int64(9), np.int64(10), np.int64(11), np.int64(12)]\n",
            "The date range for data is : 2014-01-01  to  2018-12-31\n",
            "The airlines covered in this dataset are:  ['AA', 'DL', 'OO', 'UA', 'WN']\n",
            "The Origin airports covered are:  ['DFW', 'IAH', 'DEN', 'PHX', 'ORD', 'SFO', 'LAX', 'ATL', 'CLT']\n",
            "The Destination airports covered are:  ['ORD', 'IAH', 'DFW', 'DEN', 'PHX', 'SFO', 'LAX', 'ATL', 'CLT']\n"
          ]
        }
      ],
      "source": [
        "print(\"The #rows and #columns are \", data.shape[0], \" and \", data.shape[1])\n",
        "print(\"The years in this dataset are: \", list(data['Year'].unique()))\n",
        "print(\"The months covered in this dataset are: \", sorted(list(data['Month'].unique())))\n",
        "print(\"The date range for data is :\" , data['FlightDate'].min(), \" to \", data['FlightDate'].max())\n",
        "print(\"The airlines covered in this dataset are: \", list(data['Reporting_Airline'].unique()))\n",
        "print(\"The Origin airports covered are: \", list(data['Origin'].unique()))\n",
        "print(\"The Destination airports covered are: \", list(data['Dest'].unique()))\n"
      ]
    },
    {
      "cell_type": "markdown",
      "metadata": {
        "id": "1yFl2maJ3w9Z"
      },
      "source": [
        "Let's define our **target column : is_delay** (1 - if arrival time delayed more than 15 minutes, 0 - otherwise). Use the `rename` method to rename the column from `ArrDel15` to `is_delay`.\n",
        "\n",
        "**Hint**: You can use the Pandas `rename` function ([documentation](https://pandas.pydata.org/pandas-docs/stable/reference/api/pandas.DataFrame.rename.html)).\n",
        "\n",
        "For example:\n",
        "```\n",
        "df.rename(columns={'col1':'column1'}, inplace=True)\n",
        "```"
      ]
    },
    {
      "cell_type": "code",
      "execution_count": 27,
      "metadata": {
        "colab": {
          "base_uri": "https://localhost:8080/"
        },
        "id": "9jCz1x6i3w9Z",
        "outputId": "a8c56ddf-842f-4e8a-94b8-0cac9d4d5ee6"
      },
      "outputs": [
        {
          "name": "stdout",
          "output_type": "stream",
          "text": [
            "Index(['Year', 'Quarter', 'Month', 'DayofMonth', 'DayOfWeek', 'FlightDate',\n",
            "       'Reporting_Airline', 'Origin', 'OriginState', 'Dest', 'DestState',\n",
            "       'CRSDepTime', 'ArrDelay', 'ArrDelayMinutes', 'is_delay', 'Cancelled',\n",
            "       'Diverted', 'AirTime', 'Distance', 'DistanceGroup'],\n",
            "      dtype='object')\n"
          ]
        }
      ],
      "source": [
        "\n",
        "data.rename(columns={'ArrDel15': 'is_delay'}, inplace=True)\n",
        "\n",
        "print(data.columns)\n"
      ]
    },
    {
      "cell_type": "markdown",
      "metadata": {
        "id": "oK98bYzW3w9Z"
      },
      "source": [
        "Look for nulls across columns. You can use the `isnull()` function ([documentation](https://pandas.pydata.org/pandas-docs/version/0.17.0/generated/pandas.isnull.html)).\n",
        "\n",
        "**Hint**: `isnull()` detects whether the particular value is null or not and gives you a boolean (True or False) in its place. Use the `sum(axis=0)` function to sum up the number of columns."
      ]
    },
    {
      "cell_type": "code",
      "execution_count": 28,
      "metadata": {
        "colab": {
          "base_uri": "https://localhost:8080/"
        },
        "id": "tuugcVIy3w9Z",
        "outputId": "095897fc-5213-41ed-bca2-347a334f9185"
      },
      "outputs": [
        {
          "name": "stdout",
          "output_type": "stream",
          "text": [
            "Number of null values in each column:\n",
            "Year                     0\n",
            "Quarter                  0\n",
            "Month                    0\n",
            "DayofMonth               0\n",
            "DayOfWeek                0\n",
            "FlightDate               0\n",
            "Reporting_Airline        0\n",
            "Origin                   0\n",
            "OriginState              0\n",
            "Dest                     0\n",
            "DestState                0\n",
            "CRSDepTime               0\n",
            "ArrDelay             22540\n",
            "ArrDelayMinutes      22540\n",
            "ArrDel15             22540\n",
            "Cancelled                0\n",
            "Diverted                 0\n",
            "AirTime              22540\n",
            "Distance                 0\n",
            "DistanceGroup            0\n",
            "dtype: int64\n"
          ]
        }
      ],
      "source": [
        "\n",
        "null_cols = df_combined.isnull().sum(axis=0)\n",
        "print(\"Number of null values in each column:\")\n",
        "print(null_cols)"
      ]
    },
    {
      "cell_type": "markdown",
      "metadata": {
        "id": "--brqKTi3w9Z"
      },
      "source": [
        "The arrival delay details and airtime are missing for 22540 out of 1658130 rows, which is 1.3%. You can either remove or impute these rows. The documentation does not mention anything about missing rows.\n",
        "\n",
        "**Hint**: Use the `~` operator to choose the values that aren't null from the `isnull()` output.\n",
        "\n",
        "For example:\n",
        "```\n",
        "null_eg = df_eg[~df_eg['column_name'].isnull()]\n",
        "```"
      ]
    },
    {
      "cell_type": "code",
      "execution_count": 29,
      "metadata": {
        "colab": {
          "base_uri": "https://localhost:8080/"
        },
        "id": "uBAJFM8t3w9a",
        "outputId": "7169ee62-7f72-4886-e0e9-84673da9abd4"
      },
      "outputs": [
        {
          "name": "stdout",
          "output_type": "stream",
          "text": [
            "Shape after removing nulls: (1635590, 20)\n"
          ]
        }
      ],
      "source": [
        "\n",
        "data= data[~data['ArrDelayMinutes'].isnull()]\n",
        "data = data[~data['AirTime'].isnull()]\n",
        "print(\"Shape after removing nulls:\", data.shape)\n"
      ]
    },
    {
      "cell_type": "markdown",
      "metadata": {
        "id": "8a-HAQ4F3w9a"
      },
      "source": [
        "Get the hour of the day in 24-hour time format from CRSDepTime."
      ]
    },
    {
      "cell_type": "code",
      "execution_count": 30,
      "metadata": {
        "id": "4Ejx7S4l3w9a"
      },
      "outputs": [],
      "source": [
        "data['DepHourofDay'] = data['CRSDepTime'] // 100\n",
        " # Enter your code here"
      ]
    },
    {
      "cell_type": "markdown",
      "metadata": {
        "id": "ciFrdpj33w9a"
      },
      "source": [
        "## **The ML problem statement**\n",
        "- Given a set of features, can you predict if a flight is going to be delayed more than 15 minutes?\n",
        "\n",
        "Yes we can predict it using machine learning models\n",
        "- Because the target variable takes only 0/1 value, you could use a classification algorithm."
      ]
    },
    {
      "cell_type": "markdown",
      "metadata": {
        "id": "F9p2iQqg3w9a"
      },
      "source": [
        "### Data exploration\n",
        "\n",
        "#### Check class delay vs. no delay\n",
        "\n",
        "**Hint**: Use a `groupby` plot ([documentation](https://pandas.pydata.org/pandas-docs/stable/reference/api/pandas.DataFrame.groupby.html)) with a `bar` plot ([documentation](https://matplotlib.org/tutorials/introductory/pyplot.html)) to plot the frequency vs. distribution of the class."
      ]
    },
    {
      "cell_type": "code",
      "execution_count": 31,
      "metadata": {
        "colab": {
          "base_uri": "https://localhost:8080/",
          "height": 490
        },
        "id": "QMXrY73d3w9a",
        "outputId": "652231fd-f5e9-4c3a-b88c-e0912f1b38c5"
      },
      "outputs": [
        {
          "data": {
            "image/png": "[encoded data removed]",
            "text/plain": [
              "<Figure size 640x480 with 1 Axes>"
            ]
          },
          "metadata": {},
          "output_type": "display_data"
        }
      ],
      "source": [
        "import matplotlib.pyplot as plt\n",
        "import seaborn as sns\n",
        "\n",
        "(data.groupby('is_delay').size() / len(data)).plot(kind='bar')\n",
        "plt.ylabel('Frequency')\n",
        "plt.title('Distribution of Delay vs No Delay')\n",
        "plt.show()"
      ]
    },
    {
      "cell_type": "markdown",
      "metadata": {
        "id": "5LruO5qq3w9a"
      },
      "source": [
        "**Question**: What can you deduce from the bar plot about the ratio of delay vs. no delay?"
      ]
    },
    {
      "cell_type": "markdown",
      "metadata": {},
      "source": [
        "According to bar plot, ratio of non-delay is more than delay. It means mostly (80%) flights are on time and 20% delayed based on this dataset. Data looks imbalanced"
      ]
    },
    {
      "cell_type": "markdown",
      "metadata": {
        "id": "lz6wLLDF3w9b"
      },
      "source": [
        "**Questions**:\n",
        "\n",
        "- Which months have the most delays?\n",
        "- What time of the day has the most delays?\n",
        "- What day of the week has the most delays?\n",
        "- Which airline has the most delays?\n",
        "- Which origin and destination airports have the most delays?\n",
        "- Is flight distance a factor in the delays?"
      ]
    },
    {
      "cell_type": "code",
      "execution_count": 32,
      "metadata": {
        "colab": {
          "base_uri": "https://localhost:8080/",
          "height": 1000
        },
        "id": "ATRTTmOp3w9b",
        "outputId": "52c5e420-1287-43de-ed66-eea8465284d1"
      },
      "outputs": [
        {
          "data": {
            "image/png": "[encoded data removed]",
            "text/plain": [
              "<Figure size 2000x2000 with 6 Axes>"
            ]
          },
          "metadata": {},
          "output_type": "display_data"
        }
      ],
      "source": [
        "viz_columns = ['Month', 'DepHourofDay', 'DayOfWeek', 'Reporting_Airline', 'Origin', 'Dest']\n",
        "fig, axes = plt.subplots(3, 2, figsize=(20,20), squeeze=False)\n",
        "# fig.autofmt_xdate(rotation=90)\n",
        "\n",
        "for idx, column in enumerate(viz_columns):\n",
        "    ax = axes[idx//2, idx%2]\n",
        "    temp = data.groupby(column)['is_delay'].value_counts(normalize=True).rename('percentage').\\\n",
        "    mul(100).reset_index().sort_values(column)\n",
        "    sns.barplot(x=column, y=\"percentage\", hue=\"is_delay\", data=temp, ax=ax)\n",
        "    plt.ylabel('% delay/no-delay')\n",
        "\n",
        "\n",
        "plt.show()"
      ]
    },
    {
      "cell_type": "code",
      "execution_count": 33,
      "metadata": {
        "colab": {
          "base_uri": "https://localhost:8080/",
          "height": 501
        },
        "id": "JQRN0qiO3w9b",
        "outputId": "88925222-cca1-4bfd-cb96-49da27b6b432"
      },
      "outputs": [
        {
          "data": {
            "image/png": "[encoded data removed]",
            "text/plain": [
              "<Figure size 500x500 with 1 Axes>"
            ]
          },
          "metadata": {},
          "output_type": "display_data"
        }
      ],
      "source": [
        "sns.lmplot( x=\"is_delay\", y=\"Distance\", data=data, fit_reg=False, hue='is_delay', legend=False)\n",
        "plt.legend(loc='center')\n",
        "plt.xlabel('is_delay')\n",
        "plt.ylabel('Distance')\n",
        "plt.show()"
      ]
    },
    {
      "cell_type": "code",
      "execution_count": null,
      "metadata": {
        "id": "KqeG8eaE3w9b"
      },
      "outputs": [],
      "source": [
        "# Based on the above figures, enter your answers to the above questions here and turn the cell type to markdow\n",
        "Q1: Which months have the most delays?\n",
        "Ans: June, July, and December has highest flight delays.\n",
        "Q2: What time of the day has the most delays?\n",
        "Ans: Afternoon and evening hours from 2:00 PM to 11 PM has most flight delays.\n",
        "Q3: What day of the week has the most delays?\n",
        "Ans: Friday has the most flight delays.\n",
        "Q4: Which airline has the most delays?\n",
        "Ans: SW(South West) Airline has most delays.\n",
        "Q5: Which origin and destination airports have the most delays?\n",
        "Ans: Orlando Internal airport has most delay at origin, while Los Angeles has more delays at destination.\n",
        "Q6: Is flight distance a factor in the delays?\n",
        "Ans: Distance is uniform for both 0 and 1. Its mean that alone distance is not important factor in delay.\n",
        "\n"
      ]
    },
    {
      "cell_type": "markdown",
      "metadata": {
        "id": "oVQ4YdoZ3w9c"
      },
      "source": [
        "### Features\n",
        "\n",
        "Look at all the columns and what their specific types are."
      ]
    },
    {
      "cell_type": "code",
      "execution_count": 34,
      "metadata": {
        "colab": {
          "base_uri": "https://localhost:8080/"
        },
        "id": "GkGK_fhs3w9c",
        "outputId": "6dfb77a1-b4d8-44e8-a00c-e76302d41e05"
      },
      "outputs": [
        {
          "data": {
            "text/plain": [
              "Index(['Year', 'Quarter', 'Month', 'DayofMonth', 'DayOfWeek', 'FlightDate',\n",
              "       'Reporting_Airline', 'Origin', 'OriginState', 'Dest', 'DestState',\n",
              "       'CRSDepTime', 'ArrDelay', 'ArrDelayMinutes', 'is_delay', 'Cancelled',\n",
              "       'Diverted', 'AirTime', 'Distance', 'DistanceGroup', 'DepHourofDay'],\n",
              "      dtype='object')"
            ]
          },
          "execution_count": 34,
          "metadata": {},
          "output_type": "execute_result"
        }
      ],
      "source": [
        "data.columns"
      ]
    },
    {
      "cell_type": "code",
      "execution_count": 35,
      "metadata": {
        "colab": {
          "base_uri": "https://localhost:8080/",
          "height": 742
        },
        "id": "Ar6VwMDL3w9c",
        "outputId": "9f230ac5-f746-460f-e54e-9ffa9c64860d"
      },
      "outputs": [
        {
          "data": {
            "text/html": [
              "<div>\n",
              "<style scoped>\n",
              "    .dataframe tbody tr th:only-of-type {\n",
              "        vertical-align: middle;\n",
              "    }\n",
              "\n",
              "    .dataframe tbody tr th {\n",
              "        vertical-align: top;\n",
              "    }\n",
              "\n",
              "    .dataframe thead th {\n",
              "        text-align: right;\n",
              "    }\n",
              "</style>\n",
              "<table border=\"1\" class=\"dataframe\">\n",
              "  <thead>\n",
              "    <tr style=\"text-align: right;\">\n",
              "      <th></th>\n",
              "      <th>0</th>\n",
              "    </tr>\n",
              "  </thead>\n",
              "  <tbody>\n",
              "    <tr>\n",
              "      <th>Year</th>\n",
              "      <td>int64</td>\n",
              "    </tr>\n",
              "    <tr>\n",
              "      <th>Quarter</th>\n",
              "      <td>int64</td>\n",
              "    </tr>\n",
              "    <tr>\n",
              "      <th>Month</th>\n",
              "      <td>int64</td>\n",
              "    </tr>\n",
              "    <tr>\n",
              "      <th>DayofMonth</th>\n",
              "      <td>int64</td>\n",
              "    </tr>\n",
              "    <tr>\n",
              "      <th>DayOfWeek</th>\n",
              "      <td>int64</td>\n",
              "    </tr>\n",
              "    <tr>\n",
              "      <th>FlightDate</th>\n",
              "      <td>object</td>\n",
              "    </tr>\n",
              "    <tr>\n",
              "      <th>Reporting_Airline</th>\n",
              "      <td>object</td>\n",
              "    </tr>\n",
              "    <tr>\n",
              "      <th>Origin</th>\n",
              "      <td>object</td>\n",
              "    </tr>\n",
              "    <tr>\n",
              "      <th>OriginState</th>\n",
              "      <td>object</td>\n",
              "    </tr>\n",
              "    <tr>\n",
              "      <th>Dest</th>\n",
              "      <td>object</td>\n",
              "    </tr>\n",
              "    <tr>\n",
              "      <th>DestState</th>\n",
              "      <td>object</td>\n",
              "    </tr>\n",
              "    <tr>\n",
              "      <th>CRSDepTime</th>\n",
              "      <td>int64</td>\n",
              "    </tr>\n",
              "    <tr>\n",
              "      <th>ArrDelay</th>\n",
              "      <td>float64</td>\n",
              "    </tr>\n",
              "    <tr>\n",
              "      <th>ArrDelayMinutes</th>\n",
              "      <td>float64</td>\n",
              "    </tr>\n",
              "    <tr>\n",
              "      <th>is_delay</th>\n",
              "      <td>float64</td>\n",
              "    </tr>\n",
              "    <tr>\n",
              "      <th>Cancelled</th>\n",
              "      <td>float64</td>\n",
              "    </tr>\n",
              "    <tr>\n",
              "      <th>Diverted</th>\n",
              "      <td>float64</td>\n",
              "    </tr>\n",
              "    <tr>\n",
              "      <th>AirTime</th>\n",
              "      <td>float64</td>\n",
              "    </tr>\n",
              "    <tr>\n",
              "      <th>Distance</th>\n",
              "      <td>float64</td>\n",
              "    </tr>\n",
              "    <tr>\n",
              "      <th>DistanceGroup</th>\n",
              "      <td>int64</td>\n",
              "    </tr>\n",
              "    <tr>\n",
              "      <th>DepHourofDay</th>\n",
              "      <td>int64</td>\n",
              "    </tr>\n",
              "  </tbody>\n",
              "</table>\n",
              "</div><br><label><b>dtype:</b> object</label>"
            ],
            "text/plain": [
              "Year                   int64\n",
              "Quarter                int64\n",
              "Month                  int64\n",
              "DayofMonth             int64\n",
              "DayOfWeek              int64\n",
              "FlightDate            object\n",
              "Reporting_Airline     object\n",
              "Origin                object\n",
              "OriginState           object\n",
              "Dest                  object\n",
              "DestState             object\n",
              "CRSDepTime             int64\n",
              "ArrDelay             float64\n",
              "ArrDelayMinutes      float64\n",
              "is_delay             float64\n",
              "Cancelled            float64\n",
              "Diverted             float64\n",
              "AirTime              float64\n",
              "Distance             float64\n",
              "DistanceGroup          int64\n",
              "DepHourofDay           int64\n",
              "dtype: object"
            ]
          },
          "execution_count": 35,
          "metadata": {},
          "output_type": "execute_result"
        }
      ],
      "source": [
        "data.dtypes"
      ]
    },
    {
      "cell_type": "markdown",
      "metadata": {
        "id": "eBQ3yrlJ3w9c"
      },
      "source": [
        "Filtering the required columns:\n",
        "- Date is redundant, because you have Year, Quarter, Month, DayofMonth, and DayOfWeek to describe the date.\n",
        "- Use Origin and Dest codes instead of OriginState and DestState.\n",
        "- Because you are just classifying whether the flight is delayed or not, you don't need TotalDelayMinutes, DepDelayMinutes, and ArrDelayMinutes.\n",
        "\n",
        "Treat DepHourofDay as a categorical variable because it doesn't have any quantitative relation with the target.\n",
        "- If you had to do a one-hot encoding of it, it would result in 23 more columns.\n",
        "- Other alternatives to handling categorical variables include hash encoding, regularized mean encoding, and bucketizing the values, among others.\n",
        "- Just split into buckets here.\n",
        "\n",
        "**Hint**: To change a column type to category, use the `astype` function ([documentation](https://pandas.pydata.org/pandas-docs/stable/reference/api/pandas.DataFrame.astype.html))."
      ]
    },
    {
      "cell_type": "code",
      "execution_count": 36,
      "metadata": {
        "colab": {
          "base_uri": "https://localhost:8080/"
        },
        "id": "mALfdatP3w9c",
        "outputId": "5cfb16b8-8210-4435-f825-285684ed1ddd"
      },
      "outputs": [
        {
          "name": "stdout",
          "output_type": "stream",
          "text": [
            "Updated data types:\n",
            "is_delay              float64\n",
            "Quarter              category\n",
            "Month                category\n",
            "DayofMonth           category\n",
            "DayOfWeek            category\n",
            "Reporting_Airline    category\n",
            "Origin               category\n",
            "Dest                 category\n",
            "Distance              float64\n",
            "DepHourofDay         category\n",
            "dtype: object\n"
          ]
        }
      ],
      "source": [
        "data_orig = data.copy()\n",
        "data = data[[ 'is_delay', 'Quarter', 'Month', 'DayofMonth', 'DayOfWeek',\n",
        "       'Reporting_Airline', 'Origin', 'Dest','Distance','DepHourofDay']]\n",
        "categorical_columns  = ['Quarter', 'Month', 'DayofMonth', 'DayOfWeek',\n",
        "       'Reporting_Airline', 'Origin', 'Dest', 'DepHourofDay']\n",
        "for c in categorical_columns:\n",
        "    data[c] = data[c].astype('category')# Enter your code here\n",
        "print(\"Updated data types:\")\n",
        "print(data.dtypes)"
      ]
    },
    {
      "cell_type": "markdown",
      "metadata": {
        "id": "esGP_Qr23w9d"
      },
      "source": [
        "To use one-hot encoding, use the Pandas `get_dummies` function for the categorical columns that you selected above. Then, you can concatenate those generated features to your original dataset using the Pandas `concat` function. For encoding categorical variables, you can also use *dummy encoding* by using a keyword `drop_first=True`. For more information on dummy encoding, see https://en.wikiversity.org/wiki/Dummy_variable_(statistics).\n",
        "\n",
        "For example:\n",
        "```\n",
        "pd.get_dummies(df[['column1','columns2']], drop_first=True)\n",
        "```"
      ]
    },
    {
      "cell_type": "code",
      "execution_count": 37,
      "metadata": {
        "id": "PC1cx4oP3w9d"
      },
      "outputs": [],
      "source": [
        "data_dummies = pd.get_dummies(data[categorical_columns], drop_first=True) # Enter your code here\n",
        "data = pd.concat([data, data_dummies], axis=1)\n",
        "data.drop(categorical_columns,axis=1, inplace=True)"
      ]
    },
    {
      "cell_type": "markdown",
      "metadata": {
        "id": "F2tw1w_63w9d"
      },
      "source": [
        "Check the length of the dataset and the new columnms."
      ]
    },
    {
      "cell_type": "code",
      "execution_count": 38,
      "metadata": {
        "colab": {
          "base_uri": "https://localhost:8080/"
        },
        "id": "DvQb1i883w9d",
        "outputId": "bbce6db9-37b4-4a93-b53e-4cd67733909b"
      },
      "outputs": [
        {
          "name": "stdout",
          "output_type": "stream",
          "text": [
            "Number of rows: 1635590\n"
          ]
        }
      ],
      "source": [
        "print(\"Number of rows:\", len(data))\n"
      ]
    },
    {
      "cell_type": "code",
      "execution_count": 39,
      "metadata": {
        "colab": {
          "base_uri": "https://localhost:8080/"
        },
        "id": "d-m10fb93w9d",
        "outputId": "5d71e871-d3e8-48a2-b976-e7a3205ac79e"
      },
      "outputs": [
        {
          "name": "stdout",
          "output_type": "stream",
          "text": [
            "Number of columns: 94\n",
            "Column names: Index(['is_delay', 'Distance', 'Quarter_2', 'Quarter_3', 'Quarter_4',\n",
            "       'Month_2', 'Month_3', 'Month_4', 'Month_5', 'Month_6', 'Month_7',\n",
            "       'Month_8', 'Month_9', 'Month_10', 'Month_11', 'Month_12',\n",
            "       'DayofMonth_2', 'DayofMonth_3', 'DayofMonth_4', 'DayofMonth_5',\n",
            "       'DayofMonth_6', 'DayofMonth_7', 'DayofMonth_8', 'DayofMonth_9',\n",
            "       'DayofMonth_10', 'DayofMonth_11', 'DayofMonth_12', 'DayofMonth_13',\n",
            "       'DayofMonth_14', 'DayofMonth_15', 'DayofMonth_16', 'DayofMonth_17',\n",
            "       'DayofMonth_18', 'DayofMonth_19', 'DayofMonth_20', 'DayofMonth_21',\n",
            "       'DayofMonth_22', 'DayofMonth_23', 'DayofMonth_24', 'DayofMonth_25',\n",
            "       'DayofMonth_26', 'DayofMonth_27', 'DayofMonth_28', 'DayofMonth_29',\n",
            "       'DayofMonth_30', 'DayofMonth_31', 'DayOfWeek_2', 'DayOfWeek_3',\n",
            "       'DayOfWeek_4', 'DayOfWeek_5', 'DayOfWeek_6', 'DayOfWeek_7',\n",
            "       'Reporting_Airline_DL', 'Reporting_Airline_OO', 'Reporting_Airline_UA',\n",
            "       'Reporting_Airline_WN', 'Origin_CLT', 'Origin_DEN', 'Origin_DFW',\n",
            "       'Origin_IAH', 'Origin_LAX', 'Origin_ORD', 'Origin_PHX', 'Origin_SFO',\n",
            "       'Dest_CLT', 'Dest_DEN', 'Dest_DFW', 'Dest_IAH', 'Dest_LAX', 'Dest_ORD',\n",
            "       'Dest_PHX', 'Dest_SFO', 'DepHourofDay_1', 'DepHourofDay_2',\n",
            "       'DepHourofDay_4', 'DepHourofDay_5', 'DepHourofDay_6', 'DepHourofDay_7',\n",
            "       'DepHourofDay_8', 'DepHourofDay_9', 'DepHourofDay_10',\n",
            "       'DepHourofDay_11', 'DepHourofDay_12', 'DepHourofDay_13',\n",
            "       'DepHourofDay_14', 'DepHourofDay_15', 'DepHourofDay_16',\n",
            "       'DepHourofDay_17', 'DepHourofDay_18', 'DepHourofDay_19',\n",
            "       'DepHourofDay_20', 'DepHourofDay_21', 'DepHourofDay_22',\n",
            "       'DepHourofDay_23'],\n",
            "      dtype='object')\n"
          ]
        }
      ],
      "source": [
        "print(\"Number of columns:\", len(data.columns))\n",
        "print(\"Column names:\", data.columns)"
      ]
    },
    {
      "cell_type": "markdown",
      "metadata": {
        "id": "PfHMwoIv3w9d"
      },
      "source": [
        "**Sample Answer:**\n",
        "```\n",
        "Index(['Distance', 'is_delay', 'Quarter_2', 'Quarter_3', 'Quarter_4',\n",
        "       'Month_2', 'Month_3', 'Month_4', 'Month_5', 'Month_6', 'Month_7',\n",
        "       'Month_8', 'Month_9', 'Month_10', 'Month_11', 'Month_12',\n",
        "       'DayofMonth_2', 'DayofMonth_3', 'DayofMonth_4', 'DayofMonth_5',\n",
        "       'DayofMonth_6', 'DayofMonth_7', 'DayofMonth_8', 'DayofMonth_9',\n",
        "       'DayofMonth_10', 'DayofMonth_11', 'DayofMonth_12', 'DayofMonth_13',\n",
        "       'DayofMonth_14', 'DayofMonth_15', 'DayofMonth_16', 'DayofMonth_17',\n",
        "       'DayofMonth_18', 'DayofMonth_19', 'DayofMonth_20', 'DayofMonth_21',\n",
        "       'DayofMonth_22', 'DayofMonth_23', 'DayofMonth_24', 'DayofMonth_25',\n",
        "       'DayofMonth_26', 'DayofMonth_27', 'DayofMonth_28', 'DayofMonth_29',\n",
        "       'DayofMonth_30', 'DayofMonth_31', 'DayOfWeek_2', 'DayOfWeek_3',\n",
        "       'DayOfWeek_4', 'DayOfWeek_5', 'DayOfWeek_6', 'DayOfWeek_7',\n",
        "       'Reporting_Airline_DL', 'Reporting_Airline_OO', 'Reporting_Airline_UA',\n",
        "       'Reporting_Airline_WN', 'Origin_CLT', 'Origin_DEN', 'Origin_DFW',\n",
        "       'Origin_IAH', 'Origin_LAX', 'Origin_ORD', 'Origin_PHX', 'Origin_SFO',\n",
        "       'Dest_CLT', 'Dest_DEN', 'Dest_DFW', 'Dest_IAH', 'Dest_LAX', 'Dest_ORD',\n",
        "       'Dest_PHX', 'Dest_SFO'],\n",
        "      dtype='object')\n",
        "```"
      ]
    },
    {
      "cell_type": "markdown",
      "metadata": {
        "id": "rdD5101t3w9d"
      },
      "source": [
        "Now you are ready to do model training. Before splitting the data, rename the column `is_delay` to `target`.\n",
        "\n",
        "**Hint**: You can use the Pandas `rename` function ([documentation](https://pandas.pydata.org/pandas-docs/stable/reference/api/pandas.DataFrame.rename.html))."
      ]
    },
    {
      "cell_type": "code",
      "execution_count": 40,
      "metadata": {
        "id": "g3gkhnx53w9e"
      },
      "outputs": [],
      "source": [
        "data.rename(columns={'is_delay': 'target'}, inplace=True)"
      ]
    },
    {
      "cell_type": "code",
      "execution_count": null,
      "metadata": {
        "colab": {
          "base_uri": "https://localhost:8080/"
        },
        "id": "qwEjwkwN3w9e",
        "outputId": "c1add457-38f0-4289-9136-744e668b6616"
      },
      "outputs": [
        {
          "name": "stdout",
          "output_type": "stream",
          "text": [
            "File saved successfully at: /content/combined_csv_v1.csv\n",
            "Shape of final dataset: (1635590, 94)\n"
          ]
        }
      ],
      "source": [
        "# write code to Save the combined csv file (combined_csv_v1.csv) to your local computer\n",
        "# note this combined file will be used in part B\n",
        "#output_path = '/content/combined_csv_v1.csv'\n",
        "#data.to_csv(output_path, index=False)\n",
        "\n",
        "#print(f\"File saved successfully at: {output_path}\")\n",
        "#print(f\"Shape of final dataset: {data.shape}\")"
      ]
    },
    {
      "cell_type": "markdown",
      "metadata": {
        "id": "yPBAVHtv3w9e"
      },
      "source": [
        "# Step 3: Model training and evaluation\n",
        "\n",
        "1. Split the data into `train_data`, and `test_data` using `sklearn.model_selection.train_test_split`.  \n",
        "2. Build a logistic regression model for the data, where training data is 80%, and test data is 20%.\n",
        "\n",
        "Use the following cells to complete these steps. Insert and delete cells where needed.\n"
      ]
    },
    {
      "cell_type": "markdown",
      "metadata": {
        "id": "hX1Yai_a3w9e"
      },
      "source": [
        "### Train test split"
      ]
    },
    {
      "cell_type": "code",
      "execution_count": 41,
      "metadata": {
        "id": "F1R7tr9BPhNa"
      },
      "outputs": [],
      "source": [
        "from sklearn.model_selection import train_test_split\n",
        "from sklearn.linear_model import LogisticRegression\n",
        "from sklearn.metrics import accuracy_score, confusion_matrix, classification_report"
      ]
    },
    {
      "cell_type": "code",
      "execution_count": 61,
      "metadata": {
        "id": "Ay8pw1AH3w9e"
      },
      "outputs": [],
      "source": [
        "# write Code here to split data into train, validate and test\n",
        "X = data.drop(columns=['target'])\n",
        "y = data['target']\n",
        "\n",
        "train_data, test_data, train_label, test_label = train_test_split(X, y, test_size=0.2, random_state=42)\n"
      ]
    },
    {
      "cell_type": "markdown",
      "metadata": {
        "id": "lFSsiX7L3w9e"
      },
      "source": [
        "### Baseline classification model"
      ]
    },
    {
      "cell_type": "code",
      "execution_count": 62,
      "metadata": {
        "colab": {
          "base_uri": "https://localhost:8080/",
          "height": 80
        },
        "id": "jK3r3u-a3w9e",
        "outputId": "b748bd7f-3b1c-4880-b036-ed81041ea62b"
      },
      "outputs": [
        {
          "data": {
            "text/html": [
              "<style>#sk-container-id-2 {\n",
              "  /* Definition of color scheme common for light and dark mode */\n",
              "  --sklearn-color-text: #000;\n",
              "  --sklearn-color-text-muted: #666;\n",
              "  --sklearn-color-line: gray;\n",
              "  /* Definition of color scheme for unfitted estimators */\n",
              "  --sklearn-color-unfitted-level-0: #fff5e6;\n",
              "  --sklearn-color-unfitted-level-1: #f6e4d2;\n",
              "  --sklearn-color-unfitted-level-2: #ffe0b3;\n",
              "  --sklearn-color-unfitted-level-3: chocolate;\n",
              "  /* Definition of color scheme for fitted estimators */\n",
              "  --sklearn-color-fitted-level-0: #f0f8ff;\n",
              "  --sklearn-color-fitted-level-1: #d4ebff;\n",
              "  --sklearn-color-fitted-level-2: #b3dbfd;\n",
              "  --sklearn-color-fitted-level-3: cornflowerblue;\n",
              "\n",
              "  /* Specific color for light theme */\n",
              "  --sklearn-color-text-on-default-background: var(--sg-text-color, var(--theme-code-foreground, var(--jp-content-font-color1, black)));\n",
              "  --sklearn-color-background: var(--sg-background-color, var(--theme-background, var(--jp-layout-color0, white)));\n",
              "  --sklearn-color-border-box: var(--sg-text-color, var(--theme-code-foreground, var(--jp-content-font-color1, black)));\n",
              "  --sklearn-color-icon: #696969;\n",
              "\n",
              "  @media (prefers-color-scheme: dark) {\n",
              "    /* Redefinition of color scheme for dark theme */\n",
              "    --sklearn-color-text-on-default-background: var(--sg-text-color, var(--theme-code-foreground, var(--jp-content-font-color1, white)));\n",
              "    --sklearn-color-background: var(--sg-background-color, var(--theme-background, var(--jp-layout-color0, #111)));\n",
              "    --sklearn-color-border-box: var(--sg-text-color, var(--theme-code-foreground, var(--jp-content-font-color1, white)));\n",
              "    --sklearn-color-icon: #878787;\n",
              "  }\n",
              "}\n",
              "\n",
              "#sk-container-id-2 {\n",
              "  color: var(--sklearn-color-text);\n",
              "}\n",
              "\n",
              "#sk-container-id-2 pre {\n",
              "  padding: 0;\n",
              "}\n",
              "\n",
              "#sk-container-id-2 input.sk-hidden--visually {\n",
              "  border: 0;\n",
              "  clip: rect(1px 1px 1px 1px);\n",
              "  clip: rect(1px, 1px, 1px, 1px);\n",
              "  height: 1px;\n",
              "  margin: -1px;\n",
              "  overflow: hidden;\n",
              "  padding: 0;\n",
              "  position: absolute;\n",
              "  width: 1px;\n",
              "}\n",
              "\n",
              "#sk-container-id-2 div.sk-dashed-wrapped {\n",
              "  border: 1px dashed var(--sklearn-color-line);\n",
              "  margin: 0 0.4em 0.5em 0.4em;\n",
              "  box-sizing: border-box;\n",
              "  padding-bottom: 0.4em;\n",
              "  background-color: var(--sklearn-color-background);\n",
              "}\n",
              "\n",
              "#sk-container-id-2 div.sk-container {\n",
              "  /* jupyter's `normalize.less` sets `[hidden] { display: none; }`\n",
              "     but bootstrap.min.css set `[hidden] { display: none !important; }`\n",
              "     so we also need the `!important` here to be able to override the\n",
              "     default hidden behavior on the sphinx rendered scikit-learn.org.\n",
              "     See: https://github.com/scikit-learn/scikit-learn/issues/21755 */\n",
              "  display: inline-block !important;\n",
              "  position: relative;\n",
              "}\n",
              "\n",
              "#sk-container-id-2 div.sk-text-repr-fallback {\n",
              "  display: none;\n",
              "}\n",
              "\n",
              "div.sk-parallel-item,\n",
              "div.sk-serial,\n",
              "div.sk-item {\n",
              "  /* draw centered vertical line to link estimators */\n",
              "  background-image: linear-gradient(var(--sklearn-color-text-on-default-background), var(--sklearn-color-text-on-default-background));\n",
              "  background-size: 2px 100%;\n",
              "  background-repeat: no-repeat;\n",
              "  background-position: center center;\n",
              "}\n",
              "\n",
              "/* Parallel-specific style estimator block */\n",
              "\n",
              "#sk-container-id-2 div.sk-parallel-item::after {\n",
              "  content: \"\";\n",
              "  width: 100%;\n",
              "  border-bottom: 2px solid var(--sklearn-color-text-on-default-background);\n",
              "  flex-grow: 1;\n",
              "}\n",
              "\n",
              "#sk-container-id-2 div.sk-parallel {\n",
              "  display: flex;\n",
              "  align-items: stretch;\n",
              "  justify-content: center;\n",
              "  background-color: var(--sklearn-color-background);\n",
              "  position: relative;\n",
              "}\n",
              "\n",
              "#sk-container-id-2 div.sk-parallel-item {\n",
              "  display: flex;\n",
              "  flex-direction: column;\n",
              "}\n",
              "\n",
              "#sk-container-id-2 div.sk-parallel-item:first-child::after {\n",
              "  align-self: flex-end;\n",
              "  width: 50%;\n",
              "}\n",
              "\n",
              "#sk-container-id-2 div.sk-parallel-item:last-child::after {\n",
              "  align-self: flex-start;\n",
              "  width: 50%;\n",
              "}\n",
              "\n",
              "#sk-container-id-2 div.sk-parallel-item:only-child::after {\n",
              "  width: 0;\n",
              "}\n",
              "\n",
              "/* Serial-specific style estimator block */\n",
              "\n",
              "#sk-container-id-2 div.sk-serial {\n",
              "  display: flex;\n",
              "  flex-direction: column;\n",
              "  align-items: center;\n",
              "  background-color: var(--sklearn-color-background);\n",
              "  padding-right: 1em;\n",
              "  padding-left: 1em;\n",
              "}\n",
              "\n",
              "\n",
              "/* Toggleable style: style used for estimator/Pipeline/ColumnTransformer box that is\n",
              "clickable and can be expanded/collapsed.\n",
              "- Pipeline and ColumnTransformer use this feature and define the default style\n",
              "- Estimators will overwrite some part of the style using the `sk-estimator` class\n",
              "*/\n",
              "\n",
              "/* Pipeline and ColumnTransformer style (default) */\n",
              "\n",
              "#sk-container-id-2 div.sk-toggleable {\n",
              "  /* Default theme specific background. It is overwritten whether we have a\n",
              "  specific estimator or a Pipeline/ColumnTransformer */\n",
              "  background-color: var(--sklearn-color-background);\n",
              "}\n",
              "\n",
              "/* Toggleable label */\n",
              "#sk-container-id-2 label.sk-toggleable__label {\n",
              "  cursor: pointer;\n",
              "  display: flex;\n",
              "  width: 100%;\n",
              "  margin-bottom: 0;\n",
              "  padding: 0.5em;\n",
              "  box-sizing: border-box;\n",
              "  text-align: center;\n",
              "  align-items: start;\n",
              "  justify-content: space-between;\n",
              "  gap: 0.5em;\n",
              "}\n",
              "\n",
              "#sk-container-id-2 label.sk-toggleable__label .caption {\n",
              "  font-size: 0.6rem;\n",
              "  font-weight: lighter;\n",
              "  color: var(--sklearn-color-text-muted);\n",
              "}\n",
              "\n",
              "#sk-container-id-2 label.sk-toggleable__label-arrow:before {\n",
              "  /* Arrow on the left of the label */\n",
              "  content: \"▸\";\n",
              "  float: left;\n",
              "  margin-right: 0.25em;\n",
              "  color: var(--sklearn-color-icon);\n",
              "}\n",
              "\n",
              "#sk-container-id-2 label.sk-toggleable__label-arrow:hover:before {\n",
              "  color: var(--sklearn-color-text);\n",
              "}\n",
              "\n",
              "/* Toggleable content - dropdown */\n",
              "\n",
              "#sk-container-id-2 div.sk-toggleable__content {\n",
              "  max-height: 0;\n",
              "  max-width: 0;\n",
              "  overflow: hidden;\n",
              "  text-align: left;\n",
              "  /* unfitted */\n",
              "  background-color: var(--sklearn-color-unfitted-level-0);\n",
              "}\n",
              "\n",
              "#sk-container-id-2 div.sk-toggleable__content.fitted {\n",
              "  /* fitted */\n",
              "  background-color: var(--sklearn-color-fitted-level-0);\n",
              "}\n",
              "\n",
              "#sk-container-id-2 div.sk-toggleable__content pre {\n",
              "  margin: 0.2em;\n",
              "  border-radius: 0.25em;\n",
              "  color: var(--sklearn-color-text);\n",
              "  /* unfitted */\n",
              "  background-color: var(--sklearn-color-unfitted-level-0);\n",
              "}\n",
              "\n",
              "#sk-container-id-2 div.sk-toggleable__content.fitted pre {\n",
              "  /* unfitted */\n",
              "  background-color: var(--sklearn-color-fitted-level-0);\n",
              "}\n",
              "\n",
              "#sk-container-id-2 input.sk-toggleable__control:checked~div.sk-toggleable__content {\n",
              "  /* Expand drop-down */\n",
              "  max-height: 200px;\n",
              "  max-width: 100%;\n",
              "  overflow: auto;\n",
              "}\n",
              "\n",
              "#sk-container-id-2 input.sk-toggleable__control:checked~label.sk-toggleable__label-arrow:before {\n",
              "  content: \"▾\";\n",
              "}\n",
              "\n",
              "/* Pipeline/ColumnTransformer-specific style */\n",
              "\n",
              "#sk-container-id-2 div.sk-label input.sk-toggleable__control:checked~label.sk-toggleable__label {\n",
              "  color: var(--sklearn-color-text);\n",
              "  background-color: var(--sklearn-color-unfitted-level-2);\n",
              "}\n",
              "\n",
              "#sk-container-id-2 div.sk-label.fitted input.sk-toggleable__control:checked~label.sk-toggleable__label {\n",
              "  background-color: var(--sklearn-color-fitted-level-2);\n",
              "}\n",
              "\n",
              "/* Estimator-specific style */\n",
              "\n",
              "/* Colorize estimator box */\n",
              "#sk-container-id-2 div.sk-estimator input.sk-toggleable__control:checked~label.sk-toggleable__label {\n",
              "  /* unfitted */\n",
              "  background-color: var(--sklearn-color-unfitted-level-2);\n",
              "}\n",
              "\n",
              "#sk-container-id-2 div.sk-estimator.fitted input.sk-toggleable__control:checked~label.sk-toggleable__label {\n",
              "  /* fitted */\n",
              "  background-color: var(--sklearn-color-fitted-level-2);\n",
              "}\n",
              "\n",
              "#sk-container-id-2 div.sk-label label.sk-toggleable__label,\n",
              "#sk-container-id-2 div.sk-label label {\n",
              "  /* The background is the default theme color */\n",
              "  color: var(--sklearn-color-text-on-default-background);\n",
              "}\n",
              "\n",
              "/* On hover, darken the color of the background */\n",
              "#sk-container-id-2 div.sk-label:hover label.sk-toggleable__label {\n",
              "  color: var(--sklearn-color-text);\n",
              "  background-color: var(--sklearn-color-unfitted-level-2);\n",
              "}\n",
              "\n",
              "/* Label box, darken color on hover, fitted */\n",
              "#sk-container-id-2 div.sk-label.fitted:hover label.sk-toggleable__label.fitted {\n",
              "  color: var(--sklearn-color-text);\n",
              "  background-color: var(--sklearn-color-fitted-level-2);\n",
              "}\n",
              "\n",
              "/* Estimator label */\n",
              "\n",
              "#sk-container-id-2 div.sk-label label {\n",
              "  font-family: monospace;\n",
              "  font-weight: bold;\n",
              "  display: inline-block;\n",
              "  line-height: 1.2em;\n",
              "}\n",
              "\n",
              "#sk-container-id-2 div.sk-label-container {\n",
              "  text-align: center;\n",
              "}\n",
              "\n",
              "/* Estimator-specific */\n",
              "#sk-container-id-2 div.sk-estimator {\n",
              "  font-family: monospace;\n",
              "  border: 1px dotted var(--sklearn-color-border-box);\n",
              "  border-radius: 0.25em;\n",
              "  box-sizing: border-box;\n",
              "  margin-bottom: 0.5em;\n",
              "  /* unfitted */\n",
              "  background-color: var(--sklearn-color-unfitted-level-0);\n",
              "}\n",
              "\n",
              "#sk-container-id-2 div.sk-estimator.fitted {\n",
              "  /* fitted */\n",
              "  background-color: var(--sklearn-color-fitted-level-0);\n",
              "}\n",
              "\n",
              "/* on hover */\n",
              "#sk-container-id-2 div.sk-estimator:hover {\n",
              "  /* unfitted */\n",
              "  background-color: var(--sklearn-color-unfitted-level-2);\n",
              "}\n",
              "\n",
              "#sk-container-id-2 div.sk-estimator.fitted:hover {\n",
              "  /* fitted */\n",
              "  background-color: var(--sklearn-color-fitted-level-2);\n",
              "}\n",
              "\n",
              "/* Specification for estimator info (e.g. \"i\" and \"?\") */\n",
              "\n",
              "/* Common style for \"i\" and \"?\" */\n",
              "\n",
              ".sk-estimator-doc-link,\n",
              "a:link.sk-estimator-doc-link,\n",
              "a:visited.sk-estimator-doc-link {\n",
              "  float: right;\n",
              "  font-size: smaller;\n",
              "  line-height: 1em;\n",
              "  font-family: monospace;\n",
              "  background-color: var(--sklearn-color-background);\n",
              "  border-radius: 1em;\n",
              "  height: 1em;\n",
              "  width: 1em;\n",
              "  text-decoration: none !important;\n",
              "  margin-left: 0.5em;\n",
              "  text-align: center;\n",
              "  /* unfitted */\n",
              "  border: var(--sklearn-color-unfitted-level-1) 1pt solid;\n",
              "  color: var(--sklearn-color-unfitted-level-1);\n",
              "}\n",
              "\n",
              ".sk-estimator-doc-link.fitted,\n",
              "a:link.sk-estimator-doc-link.fitted,\n",
              "a:visited.sk-estimator-doc-link.fitted {\n",
              "  /* fitted */\n",
              "  border: var(--sklearn-color-fitted-level-1) 1pt solid;\n",
              "  color: var(--sklearn-color-fitted-level-1);\n",
              "}\n",
              "\n",
              "/* On hover */\n",
              "div.sk-estimator:hover .sk-estimator-doc-link:hover,\n",
              ".sk-estimator-doc-link:hover,\n",
              "div.sk-label-container:hover .sk-estimator-doc-link:hover,\n",
              ".sk-estimator-doc-link:hover {\n",
              "  /* unfitted */\n",
              "  background-color: var(--sklearn-color-unfitted-level-3);\n",
              "  color: var(--sklearn-color-background);\n",
              "  text-decoration: none;\n",
              "}\n",
              "\n",
              "div.sk-estimator.fitted:hover .sk-estimator-doc-link.fitted:hover,\n",
              ".sk-estimator-doc-link.fitted:hover,\n",
              "div.sk-label-container:hover .sk-estimator-doc-link.fitted:hover,\n",
              ".sk-estimator-doc-link.fitted:hover {\n",
              "  /* fitted */\n",
              "  background-color: var(--sklearn-color-fitted-level-3);\n",
              "  color: var(--sklearn-color-background);\n",
              "  text-decoration: none;\n",
              "}\n",
              "\n",
              "/* Span, style for the box shown on hovering the info icon */\n",
              ".sk-estimator-doc-link span {\n",
              "  display: none;\n",
              "  z-index: 9999;\n",
              "  position: relative;\n",
              "  font-weight: normal;\n",
              "  right: .2ex;\n",
              "  padding: .5ex;\n",
              "  margin: .5ex;\n",
              "  width: min-content;\n",
              "  min-width: 20ex;\n",
              "  max-width: 50ex;\n",
              "  color: var(--sklearn-color-text);\n",
              "  box-shadow: 2pt 2pt 4pt #999;\n",
              "  /* unfitted */\n",
              "  background: var(--sklearn-color-unfitted-level-0);\n",
              "  border: .5pt solid var(--sklearn-color-unfitted-level-3);\n",
              "}\n",
              "\n",
              ".sk-estimator-doc-link.fitted span {\n",
              "  /* fitted */\n",
              "  background: var(--sklearn-color-fitted-level-0);\n",
              "  border: var(--sklearn-color-fitted-level-3);\n",
              "}\n",
              "\n",
              ".sk-estimator-doc-link:hover span {\n",
              "  display: block;\n",
              "}\n",
              "\n",
              "/* \"?\"-specific style due to the `<a>` HTML tag */\n",
              "\n",
              "#sk-container-id-2 a.estimator_doc_link {\n",
              "  float: right;\n",
              "  font-size: 1rem;\n",
              "  line-height: 1em;\n",
              "  font-family: monospace;\n",
              "  background-color: var(--sklearn-color-background);\n",
              "  border-radius: 1rem;\n",
              "  height: 1rem;\n",
              "  width: 1rem;\n",
              "  text-decoration: none;\n",
              "  /* unfitted */\n",
              "  color: var(--sklearn-color-unfitted-level-1);\n",
              "  border: var(--sklearn-color-unfitted-level-1) 1pt solid;\n",
              "}\n",
              "\n",
              "#sk-container-id-2 a.estimator_doc_link.fitted {\n",
              "  /* fitted */\n",
              "  border: var(--sklearn-color-fitted-level-1) 1pt solid;\n",
              "  color: var(--sklearn-color-fitted-level-1);\n",
              "}\n",
              "\n",
              "/* On hover */\n",
              "#sk-container-id-2 a.estimator_doc_link:hover {\n",
              "  /* unfitted */\n",
              "  background-color: var(--sklearn-color-unfitted-level-3);\n",
              "  color: var(--sklearn-color-background);\n",
              "  text-decoration: none;\n",
              "}\n",
              "\n",
              "#sk-container-id-2 a.estimator_doc_link.fitted:hover {\n",
              "  /* fitted */\n",
              "  background-color: var(--sklearn-color-fitted-level-3);\n",
              "}\n",
              "</style><div id=\"sk-container-id-2\" class=\"sk-top-container\"><div class=\"sk-text-repr-fallback\"><pre>LogisticRegression(max_iter=1000)</pre><b>In a Jupyter environment, please rerun this cell to show the HTML representation or trust the notebook. <br />On GitHub, the HTML representation is unable to render, please try loading this page with nbviewer.org.</b></div><div class=\"sk-container\" hidden><div class=\"sk-item\"><div class=\"sk-estimator fitted sk-toggleable\"><input class=\"sk-toggleable__control sk-hidden--visually\" id=\"sk-estimator-id-2\" type=\"checkbox\" checked><label for=\"sk-estimator-id-2\" class=\"sk-toggleable__label fitted sk-toggleable__label-arrow\"><div><div>LogisticRegression</div></div><div><a class=\"sk-estimator-doc-link fitted\" rel=\"noreferrer\" target=\"_blank\" href=\"https://scikit-learn.org/1.6/modules/generated/sklearn.linear_model.LogisticRegression.html\">?<span>Documentation for LogisticRegression</span></a><span class=\"sk-estimator-doc-link fitted\">i<span>Fitted</span></span></div></label><div class=\"sk-toggleable__content fitted\"><pre>LogisticRegression(max_iter=1000)</pre></div> </div></div></div></div>"
            ],
            "text/plain": [
              "LogisticRegression(max_iter=1000)"
            ]
          },
          "execution_count": 62,
          "metadata": {},
          "output_type": "execute_result"
        }
      ],
      "source": [
        "# <write code here>\n",
        "\n",
        "log_reg = LogisticRegression(max_iter =1000)\n",
        "\n",
        "log_reg.fit(train_data, train_label)"
      ]
    },
    {
      "cell_type": "code",
      "execution_count": 63,
      "metadata": {
        "id": "d0ihzq80PvQl"
      },
      "outputs": [],
      "source": [
        "y_pred = log_reg.predict(test_data)\n"
      ]
    },
    {
      "cell_type": "markdown",
      "metadata": {
        "id": "S5h7tu1E3w9f"
      },
      "source": [
        "## Model evaluation\n",
        "In this section, you'll evaluate your trained model on test data and report on the following metrics:\n",
        "* Confusion Matrix plot\n",
        "* Plot the ROC\n",
        "* Report statistics such as Accuracy, Percision, Recall, Sensitivity and Specificity"
      ]
    },
    {
      "cell_type": "markdown",
      "metadata": {
        "id": "yCk1tmL23w9f"
      },
      "source": [
        "To view a plot of the confusion matrix, and various scoring metrics, create a couple of functions:"
      ]
    },
    {
      "cell_type": "code",
      "execution_count": 64,
      "metadata": {
        "id": "KP0lNuAc3w9f"
      },
      "outputs": [],
      "source": [
        "\n",
        "import matplotlib.pyplot as plt\n",
        "import seaborn as sns\n",
        "from sklearn.metrics import confusion_matrix\n",
        "def plot_confusion_matrix(test_labels, target_predicted):\n",
        "    # Compute confusion matrix\n",
        "    cm = confusion_matrix(test_labels, target_predicted)\n",
        "    plt.figure(figsize=(6,4))\n",
        "    sns.heatmap(cm, annot=True, fmt='d', cmap='Blues')\n",
        "    plt.title('Confusion Matrix')\n",
        "    plt.xlabel('Predicted')\n",
        "    plt.ylabel('Actual')\n",
        "    plt.show()\n"
      ]
    },
    {
      "cell_type": "code",
      "execution_count": 65,
      "metadata": {
        "id": "mfufhD0h3w9f"
      },
      "outputs": [],
      "source": [
        "from sklearn.metrics import roc_curve, roc_auc_score\n",
        "\n",
        "def plot_roc_curve(test_labels, predicted_probabilities):\n",
        "    fpr, tpr, thresholds = roc_curve(test_labels, predicted_probabilities)\n",
        "    auc = roc_auc_score(test_labels, predicted_probabilities)\n",
        "    plt.figure(figsize=(6,4))\n",
        "    plt.plot(fpr, tpr, label=f\"AUC = {auc:.3f}\")\n",
        "    plt.plot([0, 1], [0, 1], linestyle='--', color='gray')\n",
        "    plt.title('ROC Curve')\n",
        "    plt.xlabel('False Positive Rate')\n",
        "    plt.ylabel('True Positive Rate')\n",
        "    plt.legend()\n",
        "    plt.show()"
      ]
    },
    {
      "cell_type": "markdown",
      "metadata": {
        "id": "Dj2_NA7J3w9f"
      },
      "source": [
        "To plot the confusion matrix, call the `plot_confusion_matrix` function on the `test_labels` and `target_predicted` data from your batch job:"
      ]
    },
    {
      "cell_type": "code",
      "execution_count": 66,
      "metadata": {
        "colab": {
          "base_uri": "https://localhost:8080/",
          "height": 419
        },
        "id": "Tfa7LNkB3w9f",
        "outputId": "b4053f83-cb0d-4923-b87f-87d25e17d6ce"
      },
      "outputs": [
        {
          "data": {
            "image/png": "[encoded data removed]",
            "text/plain": [
              "<Figure size 600x400 with 2 Axes>"
            ]
          },
          "metadata": {},
          "output_type": "display_data"
        }
      ],
      "source": [
        "\n",
        "plot_confusion_matrix(test_label, y_pred)"
      ]
    },
    {
      "cell_type": "markdown",
      "metadata": {
        "id": "KN-f_vDP3w9f"
      },
      "source": [
        "To print statistics and plot an ROC curve, call the `plot_roc` function on the `test_labels` and `target_predicted` data from your batch job:"
      ]
    },
    {
      "cell_type": "code",
      "execution_count": 68,
      "metadata": {
        "colab": {
          "base_uri": "https://localhost:8080/",
          "height": 492
        },
        "id": "KvapvGYG3w9g",
        "outputId": "390c0404-308f-4b09-b3ef-d1ef4236cf6d"
      },
      "outputs": [
        {
          "data": {
            "image/png": "[encoded data removed]",
            "text/plain": [
              "<Figure size 600x400 with 1 Axes>"
            ]
          },
          "metadata": {},
          "output_type": "display_data"
        },
        {
          "name": "stdout",
          "output_type": "stream",
          "text": [
            "Accuracy     : 0.790\n",
            "Precision    : 0.575\n",
            "Recall (Sensitivity): 0.004\n",
            "Specificity  : 0.999\n"
          ]
        }
      ],
      "source": [
        "from sklearn.metrics import accuracy_score, precision_score, recall_score, auc\n",
        "\n",
        "y_pred = log_reg.predict(test_data)\n",
        "y_prob = log_reg.predict_proba(test_data)[:, 1]\n",
        "\n",
        "# Plot ROC curve\n",
        "plot_roc_curve(test_label, y_prob)\n",
        "\n",
        "# Metrics\n",
        "accuracy = accuracy_score(test_label, y_pred)\n",
        "precision = precision_score(test_label, y_pred)\n",
        "recall = recall_score(test_label, y_pred)  # also known as sensitivity\n",
        "tn, fp, fn, tp = confusion_matrix(test_label, y_pred).ravel()\n",
        "specificity = tn / (tn + fp)\n",
        "\n",
        "print(f\"Accuracy     : {accuracy:.3f}\")\n",
        "print(f\"Precision    : {precision:.3f}\")\n",
        "print(f\"Recall (Sensitivity): {recall:.3f}\")\n",
        "print(f\"Specificity  : {specificity:.3f}\")\n"
      ]
    },
    {
      "cell_type": "markdown",
      "metadata": {
        "id": "u06WvFTu3w9g"
      },
      "source": [
        "### Key questions to consider:\n",
        "1. How does your model's performance on the test set compare to the training set? What can you deduce from this comparison?\n",
        "\n",
        "Answer:\n",
        "2. Are there obvious differences between the outcomes of metrics like accuracy, precision, and recall? If so, why might you be seeing those differences?\n",
        "\n",
        "3. Is the outcome for the metric(s) you consider most important sufficient for what you need from a business standpoint? If not, what are some things you might change in your next iteration (in the feature engineering section, which is coming up next)?\n",
        "\n",
        "Use the cells below to answer these and other questions. Insert and delete cells where needed."
      ]
    },
    {
      "cell_type": "markdown",
      "metadata": {
        "id": "2t_Lqo-B3w9g"
      },
      "source": [
        "\n",
        "**Question**: What can you summarize from the confusion matrix?\n"
      ]
    },
    {
      "cell_type": "markdown",
      "metadata": {
        "id": "HnooikWTokJr"
      },
      "source": [
        "```\n",
        "\n",
        "According to confusion matrix, the model shows significant bias in predicting class 1 which shows actual delays due to class imbalance represented by bar chart above. The model correctly classified 258,390 classes. Model is more better on predicting no delays due to more representation of non-delays class.\n",
        "Model predicted almost 68495 incorrectly, they were actual delays but model predicted them as no delay.\n",
        "\n",
        "```"
      ]
    },
    {
      "cell_type": "markdown",
      "metadata": {
        "id": "Nwo8Ku1X3w9g"
      },
      "source": [
        "-# Step 4: Deployment\n",
        "\n",
        "1. In this step you are required to push your source code and requirements file to a GitHub repository without the data files. Please use the Git commands to complete this task\n",
        "2- Create a “readme.md” markdown file that describes the code of this repository and how to run it and what the user would expect if got the code running.\n",
        "\n",
        "In the cell below provide the link of the pushed repository on your GitHub account, and ensure it is public.\n"
      ]
    },
    {
      "cell_type": "code",
      "execution_count": null,
      "metadata": {
        "id": "IOo2FEXd3w9g"
      },
      "outputs": [],
      "source": [
        "\n",
        "\n"
      ]
    },
    {
      "cell_type": "markdown",
      "metadata": {
        "id": "q_Ke64753w9g"
      },
      "source": [
        "# Iteration II"
      ]
    },
    {
      "cell_type": "markdown",
      "metadata": {
        "id": "HZqF9M3W3w9h"
      },
      "source": [
        "# Step 5: Feature engineering\n",
        "\n",
        "You've now gone through one iteration of training and evaluating your model. Given that the outcome you reached for your model the first time probably wasn't sufficient for solving your business problem, what are some things you could change about your data to possibly improve model performance?\n",
        "\n",
        "### Key questions to consider:\n",
        "1. How might the balance of your two main classes (delay and no delay) impact model performance?\n",
        "2. Do you have any features that are correlated?\n",
        "3. Are there feature reduction techniques you could perform at this stage that might have a positive impact on model performance?\n",
        "4. Can you think of adding some more data/datasets?\n",
        "4. After performing some feature engineering, how does your model performance compare to the first iteration?\n",
        "\n",
        "Use the cells below to perform specific feature engineering techniques (per the questions above) that you think could improve your model performance. Insert and delete cells where needed.\n",
        "\n",
        "\n",
        "Before you start, think about why the precision and recall are around 80% while the accuracy is 99%."
      ]
    },
    {
      "cell_type": "markdown",
      "metadata": {
        "id": "lBA0akIy3w9h"
      },
      "source": [
        "#### Add more features\n",
        "\n",
        "1. Holidays\n",
        "2. Weather"
      ]
    },
    {
      "cell_type": "markdown",
      "metadata": {
        "id": "2-tk7Ybd3w9h"
      },
      "source": [
        "Because the list of holidays from 2014 to 2018 is known, you can create an indicator variable **is_holiday** to mark these.\n",
        "The hypothesis is that airplane delays could be higher during holidays compared to the rest of the days. Add a boolean variable `is_holiday` that includes the holidays for the years 2014-2018."
      ]
    },
    {
      "cell_type": "code",
      "execution_count": 69,
      "metadata": {
        "id": "S-IKQEXh3w9h"
      },
      "outputs": [],
      "source": [
        "# Source: http://www.calendarpedia.com/holidays/federal-holidays-2014.html\n",
        "\n",
        "holidays_14 = ['2014-01-01',  '2014-01-20', '2014-02-17', '2014-05-26', '2014-07-04', '2014-09-01', '2014-10-13', '2014-11-11', '2014-11-27', '2014-12-25' ]\n",
        "holidays_15 = ['2015-01-01',  '2015-01-19', '2015-02-16', '2015-05-25', '2015-06-03', '2015-07-04', '2015-09-07', '2015-10-12', '2015-11-11', '2015-11-26', '2015-12-25']\n",
        "holidays_16 = ['2016-01-01',  '2016-01-18', '2016-02-15', '2016-05-30', '2016-07-04', '2016-09-05', '2016-10-10', '2016-11-11', '2016-11-24', '2016-12-25', '2016-12-26']\n",
        "holidays_17 = ['2017-01-02', '2017-01-16', '2017-02-20', '2017-05-29' , '2017-07-04', '2017-09-04' ,'2017-10-09', '2017-11-10', '2017-11-23', '2017-12-25']\n",
        "holidays_18 = ['2018-01-01', '2018-01-15', '2018-02-19', '2018-05-28' , '2018-07-04', '2018-09-03' ,'2018-10-08', '2018-11-12','2018-11-22', '2018-12-25']\n",
        "holidays = holidays_14+ holidays_15+ holidays_16 + holidays_17+ holidays_18\n",
        "\n",
        "### Add indicator variable for holidays\n",
        "# Convert FlightDate to datetime if not already\n",
        "data_orig['FlightDate'] = pd.to_datetime(data_orig['FlightDate'])\n",
        "\n",
        "data_orig['is_holiday'] = data_orig['FlightDate'].dt.strftime('%Y-%m-%d').isin(holidays).astype(int)"
      ]
    },
    {
      "cell_type": "markdown",
      "metadata": {
        "id": "Mhka5xDk3w9h"
      },
      "source": [
        "Weather data was fetched from [this link](https://www.ncei.noaa.gov/access/services/data/v1?dataset=daily-summaries&stations=USW00023174,USW00012960,USW00003017,USW00094846,USW00013874,USW00023234,USW00003927,USW00023183,USW00013881&dataTypes=AWND,PRCP,SNOW,SNWD,TAVG,TMIN,TMAX&startDate=2014-01-01&endDate=2018-12-31).\n",
        "<br>\n",
        "\n",
        "This dataset has information on wind speed, precipitation, snow, and temperature for cities by their airport codes.\n",
        "\n",
        "**Question**: Could bad weather due to rains, heavy winds, or snow lead to airplane delay? Let's check!"
      ]
    },
    {
      "cell_type": "code",
      "execution_count": null,
      "metadata": {
        "id": "fn5oeQbb3w9h",
        "scrolled": true
      },
      "outputs": [],
      "source": [
        "# download data from the link above and place it into the data folder"
      ]
    },
    {
      "cell_type": "markdown",
      "metadata": {
        "id": "ibYgi9X13w9h"
      },
      "source": [
        "Import weather data prepared for the airport codes in our dataset. Use the stations and airports below for the analysis, and create a new column called `airport` that maps the weather station to the airport name."
      ]
    },
    {
      "cell_type": "code",
      "execution_count": 70,
      "metadata": {
        "id": "ZAR_BPhb3w9h"
      },
      "outputs": [],
      "source": [
        "weather = pd.read_csv(\"/content/daily-summaries-2025-10-26T11-25-11.csv\") # Enter your code here to read 'daily-summaries.csv' file\n",
        "station = ['USW00023174','USW00012960','USW00003017','USW00094846',\n",
        "           'USW00013874','USW00023234','USW00003927','USW00023183','USW00013881']\n",
        "airports = ['LAX', 'IAH', 'DEN', 'ORD', 'ATL', 'SFO', 'DFW', 'PHX', 'CLT']\n",
        "\n",
        "station_map = dict(zip(station, airports))\n",
        "# Map the station codes to airport codes\n",
        "weather['airport'] = weather['STATION'].map(station_map)"
      ]
    },
    {
      "cell_type": "markdown",
      "metadata": {
        "id": "16hX6LYQ3w9i"
      },
      "source": [
        "Create another column called `MONTH` from the `DATE` column."
      ]
    },
    {
      "cell_type": "code",
      "execution_count": 71,
      "metadata": {
        "colab": {
          "base_uri": "https://localhost:8080/",
          "height": 206
        },
        "id": "HTm40OSc3w9i",
        "outputId": "ff68b8ed-063a-4fb0-e462-51e2afdbd150",
        "scrolled": true
      },
      "outputs": [
        {
          "data": {
            "application/vnd.google.colaboratory.intrinsic+json": {
              "summary": "{\n  \"name\": \"weather\",\n  \"rows\": 16434,\n  \"fields\": [\n    {\n      \"column\": \"STATION\",\n      \"properties\": {\n        \"dtype\": \"category\",\n        \"num_unique_values\": 9,\n        \"samples\": [\n          \"USW00023183\",\n          \"USW00012960\",\n          \"USW00023234\"\n        ],\n        \"semantic_type\": \"\",\n        \"description\": \"\"\n      }\n    },\n    {\n      \"column\": \"DATE\",\n      \"properties\": {\n        \"dtype\": \"object\",\n        \"num_unique_values\": 1826,\n        \"samples\": [\n          \"2016-09-25\",\n          \"2018-02-27\",\n          \"2014-10-26\"\n        ],\n        \"semantic_type\": \"\",\n        \"description\": \"\"\n      }\n    },\n    {\n      \"column\": \"AWND\",\n      \"properties\": {\n        \"dtype\": \"number\",\n        \"std\": 16,\n        \"min\": 4,\n        \"max\": 123,\n        \"num_unique_values\": 110,\n        \"samples\": [\n          82,\n          14,\n          25\n        ],\n        \"semantic_type\": \"\",\n        \"description\": \"\"\n      }\n    },\n    {\n      \"column\": \"PRCP\",\n      \"properties\": {\n        \"dtype\": \"number\",\n        \"std\": 91,\n        \"min\": 0,\n        \"max\": 4082,\n        \"num_unique_values\": 269,\n        \"samples\": [\n          48,\n          236,\n          41\n        ],\n        \"semantic_type\": \"\",\n        \"description\": \"\"\n      }\n    },\n    {\n      \"column\": \"SNOW\",\n      \"properties\": {\n        \"dtype\": \"number\",\n        \"std\": 10.612414202147935,\n        \"min\": 0.0,\n        \"max\": 411.0,\n        \"num_unique_values\": 60,\n        \"samples\": [\n          0.0,\n          5.0,\n          333.0\n        ],\n        \"semantic_type\": \"\",\n        \"description\": \"\"\n      }\n    },\n    {\n      \"column\": \"SNWD\",\n      \"properties\": {\n        \"dtype\": \"number\",\n        \"std\": 23.419737198856144,\n        \"min\": 0.0,\n        \"max\": 460.0,\n        \"num_unique_values\": 21,\n        \"samples\": [\n          0.0,\n          410.0,\n          460.0\n        ],\n        \"semantic_type\": \"\",\n        \"description\": \"\"\n      }\n    },\n    {\n      \"column\": \"TAVG\",\n      \"properties\": {\n        \"dtype\": \"number\",\n        \"std\": 91.08853195910427,\n        \"min\": -222.0,\n        \"max\": 407.0,\n        \"num_unique_values\": 565,\n        \"samples\": [\n          371.0,\n          398.0,\n          92.0\n        ],\n        \"semantic_type\": \"\",\n        \"description\": \"\"\n      }\n    },\n    {\n      \"column\": \"TMAX\",\n      \"properties\": {\n        \"dtype\": \"number\",\n        \"std\": 96.41022223071077,\n        \"min\": -188.0,\n        \"max\": 483.0,\n        \"num_unique_values\": 120,\n        \"samples\": [\n          128.0,\n          122.0,\n          206.0\n        ],\n        \"semantic_type\": \"\",\n        \"description\": \"\"\n      }\n    },\n    {\n      \"column\": \"TMIN\",\n      \"properties\": {\n        \"dtype\": \"number\",\n        \"std\": 93.24943486554122,\n        \"min\": -282.0,\n        \"max\": 350.0,\n        \"num_unique_values\": 113,\n        \"samples\": [\n          -282.0,\n          94.0,\n          -5.0\n        ],\n        \"semantic_type\": \"\",\n        \"description\": \"\"\n      }\n    },\n    {\n      \"column\": \"airport\",\n      \"properties\": {\n        \"dtype\": \"category\",\n        \"num_unique_values\": 9,\n        \"samples\": [\n          \"PHX\",\n          \"IAH\",\n          \"SFO\"\n        ],\n        \"semantic_type\": \"\",\n        \"description\": \"\"\n      }\n    },\n    {\n      \"column\": \"MONTH\",\n      \"properties\": {\n        \"dtype\": \"category\",\n        \"num_unique_values\": 12,\n        \"samples\": [\n          \"11\",\n          \"10\",\n          \"01\"\n        ],\n        \"semantic_type\": \"\",\n        \"description\": \"\"\n      }\n    }\n  ]\n}",
              "type": "dataframe",
              "variable_name": "weather"
            },
            "text/html": [
              "\n",
              "  <div id=\"df-a74b2214-91a1-4672-8714-e04e40f98097\" class=\"colab-df-container\">\n",
              "    <div>\n",
              "<style scoped>\n",
              "    .dataframe tbody tr th:only-of-type {\n",
              "        vertical-align: middle;\n",
              "    }\n",
              "\n",
              "    .dataframe tbody tr th {\n",
              "        vertical-align: top;\n",
              "    }\n",
              "\n",
              "    .dataframe thead th {\n",
              "        text-align: right;\n",
              "    }\n",
              "</style>\n",
              "<table border=\"1\" class=\"dataframe\">\n",
              "  <thead>\n",
              "    <tr style=\"text-align: right;\">\n",
              "      <th></th>\n",
              "      <th>STATION</th>\n",
              "      <th>DATE</th>\n",
              "      <th>AWND</th>\n",
              "      <th>PRCP</th>\n",
              "      <th>SNOW</th>\n",
              "      <th>SNWD</th>\n",
              "      <th>TAVG</th>\n",
              "      <th>TMAX</th>\n",
              "      <th>TMIN</th>\n",
              "      <th>airport</th>\n",
              "      <th>MONTH</th>\n",
              "    </tr>\n",
              "  </thead>\n",
              "  <tbody>\n",
              "    <tr>\n",
              "      <th>0</th>\n",
              "      <td>USW00023174</td>\n",
              "      <td>2014-01-01</td>\n",
              "      <td>16</td>\n",
              "      <td>0</td>\n",
              "      <td>NaN</td>\n",
              "      <td>NaN</td>\n",
              "      <td>131.0</td>\n",
              "      <td>178.0</td>\n",
              "      <td>78.0</td>\n",
              "      <td>LAX</td>\n",
              "      <td>01</td>\n",
              "    </tr>\n",
              "    <tr>\n",
              "      <th>1</th>\n",
              "      <td>USW00023174</td>\n",
              "      <td>2014-01-02</td>\n",
              "      <td>22</td>\n",
              "      <td>0</td>\n",
              "      <td>NaN</td>\n",
              "      <td>NaN</td>\n",
              "      <td>159.0</td>\n",
              "      <td>256.0</td>\n",
              "      <td>100.0</td>\n",
              "      <td>LAX</td>\n",
              "      <td>01</td>\n",
              "    </tr>\n",
              "    <tr>\n",
              "      <th>2</th>\n",
              "      <td>USW00023174</td>\n",
              "      <td>2014-01-03</td>\n",
              "      <td>17</td>\n",
              "      <td>0</td>\n",
              "      <td>NaN</td>\n",
              "      <td>NaN</td>\n",
              "      <td>140.0</td>\n",
              "      <td>178.0</td>\n",
              "      <td>83.0</td>\n",
              "      <td>LAX</td>\n",
              "      <td>01</td>\n",
              "    </tr>\n",
              "    <tr>\n",
              "      <th>3</th>\n",
              "      <td>USW00023174</td>\n",
              "      <td>2014-01-04</td>\n",
              "      <td>18</td>\n",
              "      <td>0</td>\n",
              "      <td>NaN</td>\n",
              "      <td>NaN</td>\n",
              "      <td>136.0</td>\n",
              "      <td>183.0</td>\n",
              "      <td>100.0</td>\n",
              "      <td>LAX</td>\n",
              "      <td>01</td>\n",
              "    </tr>\n",
              "    <tr>\n",
              "      <th>4</th>\n",
              "      <td>USW00023174</td>\n",
              "      <td>2014-01-05</td>\n",
              "      <td>18</td>\n",
              "      <td>0</td>\n",
              "      <td>NaN</td>\n",
              "      <td>NaN</td>\n",
              "      <td>151.0</td>\n",
              "      <td>244.0</td>\n",
              "      <td>83.0</td>\n",
              "      <td>LAX</td>\n",
              "      <td>01</td>\n",
              "    </tr>\n",
              "  </tbody>\n",
              "</table>\n",
              "</div>\n",
              "    <div class=\"colab-df-buttons\">\n",
              "\n",
              "  <div class=\"colab-df-container\">\n",
              "    <button class=\"colab-df-convert\" onclick=\"convertToInteractive('df-a74b2214-91a1-4672-8714-e04e40f98097')\"\n",
              "            title=\"Convert this dataframe to an interactive table.\"\n",
              "            style=\"display:none;\">\n",
              "\n",
              "  <svg xmlns=\"http://www.w3.org/2000/svg\" height=\"24px\" viewBox=\"0 -960 960 960\">\n",
              "    <path d=\"M120-120v-720h720v720H120Zm60-500h600v-160H180v160Zm220 220h160v-160H400v160Zm0 220h160v-160H400v160ZM180-400h160v-160H180v160Zm440 0h160v-160H620v160ZM180-180h160v-160H180v160Zm440 0h160v-160H620v160Z\"/>\n",
              "  </svg>\n",
              "    </button>\n",
              "\n",
              "  <style>\n",
              "    .colab-df-container {\n",
              "      display:flex;\n",
              "      gap: 12px;\n",
              "    }\n",
              "\n",
              "    .colab-df-convert {\n",
              "      background-color: #E8F0FE;\n",
              "      border: none;\n",
              "      border-radius: 50%;\n",
              "      cursor: pointer;\n",
              "      display: none;\n",
              "      fill: #1967D2;\n",
              "      height: 32px;\n",
              "      padding: 0 0 0 0;\n",
              "      width: 32px;\n",
              "    }\n",
              "\n",
              "    .colab-df-convert:hover {\n",
              "      background-color: #E2EBFA;\n",
              "      box-shadow: 0px 1px 2px rgba(60, 64, 67, 0.3), 0px 1px 3px 1px rgba(60, 64, 67, 0.15);\n",
              "      fill: #174EA6;\n",
              "    }\n",
              "\n",
              "    .colab-df-buttons div {\n",
              "      margin-bottom: 4px;\n",
              "    }\n",
              "\n",
              "    [theme=dark] .colab-df-convert {\n",
              "      background-color: #3B4455;\n",
              "      fill: #D2E3FC;\n",
              "    }\n",
              "\n",
              "    [theme=dark] .colab-df-convert:hover {\n",
              "      background-color: #434B5C;\n",
              "      box-shadow: 0px 1px 3px 1px rgba(0, 0, 0, 0.15);\n",
              "      filter: drop-shadow(0px 1px 2px rgba(0, 0, 0, 0.3));\n",
              "      fill: #FFFFFF;\n",
              "    }\n",
              "  </style>\n",
              "\n",
              "    <script>\n",
              "      const buttonEl =\n",
              "        document.querySelector('#df-a74b2214-91a1-4672-8714-e04e40f98097 button.colab-df-convert');\n",
              "      buttonEl.style.display =\n",
              "        google.colab.kernel.accessAllowed ? 'block' : 'none';\n",
              "\n",
              "      async function convertToInteractive(key) {\n",
              "        const element = document.querySelector('#df-a74b2214-91a1-4672-8714-e04e40f98097');\n",
              "        const dataTable =\n",
              "          await google.colab.kernel.invokeFunction('convertToInteractive',\n",
              "                                                    [key], {});\n",
              "        if (!dataTable) return;\n",
              "\n",
              "        const docLinkHtml = 'Like what you see? Visit the ' +\n",
              "          '<a target=\"_blank\" href=https://colab.research.google.com/notebooks/data_table.ipynb>data table notebook</a>'\n",
              "          + ' to learn more about interactive tables.';\n",
              "        element.innerHTML = '';\n",
              "        dataTable['output_type'] = 'display_data';\n",
              "        await google.colab.output.renderOutput(dataTable, element);\n",
              "        const docLink = document.createElement('div');\n",
              "        docLink.innerHTML = docLinkHtml;\n",
              "        element.appendChild(docLink);\n",
              "      }\n",
              "    </script>\n",
              "  </div>\n",
              "\n",
              "\n",
              "    <div id=\"df-9b33b295-8194-4d5d-94c3-382a07b54715\">\n",
              "      <button class=\"colab-df-quickchart\" onclick=\"quickchart('df-9b33b295-8194-4d5d-94c3-382a07b54715')\"\n",
              "                title=\"Suggest charts\"\n",
              "                style=\"display:none;\">\n",
              "\n",
              "<svg xmlns=\"http://www.w3.org/2000/svg\" height=\"24px\"viewBox=\"0 0 24 24\"\n",
              "     width=\"24px\">\n",
              "    <g>\n",
              "        <path d=\"M19 3H5c-1.1 0-2 .9-2 2v14c0 1.1.9 2 2 2h14c1.1 0 2-.9 2-2V5c0-1.1-.9-2-2-2zM9 17H7v-7h2v7zm4 0h-2V7h2v10zm4 0h-2v-4h2v4z\"/>\n",
              "    </g>\n",
              "</svg>\n",
              "      </button>\n",
              "\n",
              "<style>\n",
              "  .colab-df-quickchart {\n",
              "      --bg-color: #E8F0FE;\n",
              "      --fill-color: #1967D2;\n",
              "      --hover-bg-color: #E2EBFA;\n",
              "      --hover-fill-color: #174EA6;\n",
              "      --disabled-fill-color: #AAA;\n",
              "      --disabled-bg-color: #DDD;\n",
              "  }\n",
              "\n",
              "  [theme=dark] .colab-df-quickchart {\n",
              "      --bg-color: #3B4455;\n",
              "      --fill-color: #D2E3FC;\n",
              "      --hover-bg-color: #434B5C;\n",
              "      --hover-fill-color: #FFFFFF;\n",
              "      --disabled-bg-color: #3B4455;\n",
              "      --disabled-fill-color: #666;\n",
              "  }\n",
              "\n",
              "  .colab-df-quickchart {\n",
              "    background-color: var(--bg-color);\n",
              "    border: none;\n",
              "    border-radius: 50%;\n",
              "    cursor: pointer;\n",
              "    display: none;\n",
              "    fill: var(--fill-color);\n",
              "    height: 32px;\n",
              "    padding: 0;\n",
              "    width: 32px;\n",
              "  }\n",
              "\n",
              "  .colab-df-quickchart:hover {\n",
              "    background-color: var(--hover-bg-color);\n",
              "    box-shadow: 0 1px 2px rgba(60, 64, 67, 0.3), 0 1px 3px 1px rgba(60, 64, 67, 0.15);\n",
              "    fill: var(--button-hover-fill-color);\n",
              "  }\n",
              "\n",
              "  .colab-df-quickchart-complete:disabled,\n",
              "  .colab-df-quickchart-complete:disabled:hover {\n",
              "    background-color: var(--disabled-bg-color);\n",
              "    fill: var(--disabled-fill-color);\n",
              "    box-shadow: none;\n",
              "  }\n",
              "\n",
              "  .colab-df-spinner {\n",
              "    border: 2px solid var(--fill-color);\n",
              "    border-color: transparent;\n",
              "    border-bottom-color: var(--fill-color);\n",
              "    animation:\n",
              "      spin 1s steps(1) infinite;\n",
              "  }\n",
              "\n",
              "  @keyframes spin {\n",
              "    0% {\n",
              "      border-color: transparent;\n",
              "      border-bottom-color: var(--fill-color);\n",
              "      border-left-color: var(--fill-color);\n",
              "    }\n",
              "    20% {\n",
              "      border-color: transparent;\n",
              "      border-left-color: var(--fill-color);\n",
              "      border-top-color: var(--fill-color);\n",
              "    }\n",
              "    30% {\n",
              "      border-color: transparent;\n",
              "      border-left-color: var(--fill-color);\n",
              "      border-top-color: var(--fill-color);\n",
              "      border-right-color: var(--fill-color);\n",
              "    }\n",
              "    40% {\n",
              "      border-color: transparent;\n",
              "      border-right-color: var(--fill-color);\n",
              "      border-top-color: var(--fill-color);\n",
              "    }\n",
              "    60% {\n",
              "      border-color: transparent;\n",
              "      border-right-color: var(--fill-color);\n",
              "    }\n",
              "    80% {\n",
              "      border-color: transparent;\n",
              "      border-right-color: var(--fill-color);\n",
              "      border-bottom-color: var(--fill-color);\n",
              "    }\n",
              "    90% {\n",
              "      border-color: transparent;\n",
              "      border-bottom-color: var(--fill-color);\n",
              "    }\n",
              "  }\n",
              "</style>\n",
              "\n",
              "      <script>\n",
              "        async function quickchart(key) {\n",
              "          const quickchartButtonEl =\n",
              "            document.querySelector('#' + key + ' button');\n",
              "          quickchartButtonEl.disabled = true;  // To prevent multiple clicks.\n",
              "          quickchartButtonEl.classList.add('colab-df-spinner');\n",
              "          try {\n",
              "            const charts = await google.colab.kernel.invokeFunction(\n",
              "                'suggestCharts', [key], {});\n",
              "          } catch (error) {\n",
              "            console.error('Error during call to suggestCharts:', error);\n",
              "          }\n",
              "          quickchartButtonEl.classList.remove('colab-df-spinner');\n",
              "          quickchartButtonEl.classList.add('colab-df-quickchart-complete');\n",
              "        }\n",
              "        (() => {\n",
              "          let quickchartButtonEl =\n",
              "            document.querySelector('#df-9b33b295-8194-4d5d-94c3-382a07b54715 button');\n",
              "          quickchartButtonEl.style.display =\n",
              "            google.colab.kernel.accessAllowed ? 'block' : 'none';\n",
              "        })();\n",
              "      </script>\n",
              "    </div>\n",
              "\n",
              "    </div>\n",
              "  </div>\n"
            ],
            "text/plain": [
              "       STATION        DATE  AWND  PRCP  SNOW  SNWD   TAVG   TMAX   TMIN  \\\n",
              "0  USW00023174  2014-01-01    16     0   NaN   NaN  131.0  178.0   78.0   \n",
              "1  USW00023174  2014-01-02    22     0   NaN   NaN  159.0  256.0  100.0   \n",
              "2  USW00023174  2014-01-03    17     0   NaN   NaN  140.0  178.0   83.0   \n",
              "3  USW00023174  2014-01-04    18     0   NaN   NaN  136.0  183.0  100.0   \n",
              "4  USW00023174  2014-01-05    18     0   NaN   NaN  151.0  244.0   83.0   \n",
              "\n",
              "  airport MONTH  \n",
              "0     LAX    01  \n",
              "1     LAX    01  \n",
              "2     LAX    01  \n",
              "3     LAX    01  \n",
              "4     LAX    01  "
            ]
          },
          "execution_count": 71,
          "metadata": {},
          "output_type": "execute_result"
        }
      ],
      "source": [
        "# Convert DATE to string and extract month\n",
        "weather['MONTH'] = weather['DATE'].astype(str).apply(lambda x: x.split('-')[1])\n",
        "weather.head()"
      ]
    },
    {
      "cell_type": "markdown",
      "metadata": {
        "id": "VWNgtrAM3w9i"
      },
      "source": [
        "### Sample output\n",
        "```\n",
        "  STATION     DATE      AWND PRCP SNOW SNWD TAVG TMAX  TMIN airport MONTH\n",
        "0 USW00023174 2014-01-01 16   0   NaN  NaN 131.0 178.0 78.0  LAX    01\n",
        "1 USW00023174 2014-01-02 22   0   NaN  NaN 159.0 256.0 100.0 LAX    01\n",
        "2 USW00023174 2014-01-03 17   0   NaN  NaN 140.0 178.0 83.0  LAX    01\n",
        "3 USW00023174 2014-01-04 18   0   NaN  NaN 136.0 183.0 100.0 LAX    01\n",
        "4 USW00023174 2014-01-05 18   0   NaN  NaN 151.0 244.0 83.0  LAX    01\n",
        "```"
      ]
    },
    {
      "cell_type": "markdown",
      "metadata": {
        "id": "GTmfEMGC3w9i"
      },
      "source": [
        "Analyze and handle the `SNOW` and `SNWD` columns for missing values using `fillna()`. Use the `isna()` function to check the missing values for all the columns."
      ]
    },
    {
      "cell_type": "code",
      "execution_count": 72,
      "metadata": {
        "colab": {
          "base_uri": "https://localhost:8080/",
          "height": 429
        },
        "id": "E8lYzpt13w9i",
        "outputId": "7ccfb979-d044-44cd-dbb1-2e75a65f3c96",
        "scrolled": true
      },
      "outputs": [
        {
          "data": {
            "text/html": [
              "<div>\n",
              "<style scoped>\n",
              "    .dataframe tbody tr th:only-of-type {\n",
              "        vertical-align: middle;\n",
              "    }\n",
              "\n",
              "    .dataframe tbody tr th {\n",
              "        vertical-align: top;\n",
              "    }\n",
              "\n",
              "    .dataframe thead th {\n",
              "        text-align: right;\n",
              "    }\n",
              "</style>\n",
              "<table border=\"1\" class=\"dataframe\">\n",
              "  <thead>\n",
              "    <tr style=\"text-align: right;\">\n",
              "      <th></th>\n",
              "      <th>0</th>\n",
              "    </tr>\n",
              "  </thead>\n",
              "  <tbody>\n",
              "    <tr>\n",
              "      <th>STATION</th>\n",
              "      <td>0</td>\n",
              "    </tr>\n",
              "    <tr>\n",
              "      <th>DATE</th>\n",
              "      <td>0</td>\n",
              "    </tr>\n",
              "    <tr>\n",
              "      <th>AWND</th>\n",
              "      <td>0</td>\n",
              "    </tr>\n",
              "    <tr>\n",
              "      <th>PRCP</th>\n",
              "      <td>0</td>\n",
              "    </tr>\n",
              "    <tr>\n",
              "      <th>SNOW</th>\n",
              "      <td>0</td>\n",
              "    </tr>\n",
              "    <tr>\n",
              "      <th>SNWD</th>\n",
              "      <td>0</td>\n",
              "    </tr>\n",
              "    <tr>\n",
              "      <th>TAVG</th>\n",
              "      <td>62</td>\n",
              "    </tr>\n",
              "    <tr>\n",
              "      <th>TMAX</th>\n",
              "      <td>20</td>\n",
              "    </tr>\n",
              "    <tr>\n",
              "      <th>TMIN</th>\n",
              "      <td>20</td>\n",
              "    </tr>\n",
              "    <tr>\n",
              "      <th>airport</th>\n",
              "      <td>0</td>\n",
              "    </tr>\n",
              "    <tr>\n",
              "      <th>MONTH</th>\n",
              "      <td>0</td>\n",
              "    </tr>\n",
              "  </tbody>\n",
              "</table>\n",
              "</div><br><label><b>dtype:</b> int64</label>"
            ],
            "text/plain": [
              "STATION     0\n",
              "DATE        0\n",
              "AWND        0\n",
              "PRCP        0\n",
              "SNOW        0\n",
              "SNWD        0\n",
              "TAVG       62\n",
              "TMAX       20\n",
              "TMIN       20\n",
              "airport     0\n",
              "MONTH       0\n",
              "dtype: int64"
            ]
          },
          "execution_count": 72,
          "metadata": {},
          "output_type": "execute_result"
        }
      ],
      "source": [
        "weather.SNOW.fillna(0, inplace=True)\n",
        "weather.SNWD.fillna(0, inplace=True)\n",
        "\n",
        "# Check missing values across all columns\n",
        "weather.isna().sum()"
      ]
    },
    {
      "cell_type": "markdown",
      "metadata": {
        "id": "T5Cex2Ln3w9j"
      },
      "source": [
        "**Question**: Print the index of the rows that have missing values for TAVG, TMAX, TMIN.\n",
        "\n",
        "**Hint**: Use the `isna()` function to find the rows that are missing, and then use the list on the idx variable to get the index."
      ]
    },
    {
      "cell_type": "code",
      "execution_count": 73,
      "metadata": {
        "colab": {
          "base_uri": "https://localhost:8080/"
        },
        "id": "OvGUQB5C3w9l",
        "outputId": "99109eab-7996-4b4c-85f6-f8c10b6086b4"
      },
      "outputs": [
        {
          "data": {
            "text/plain": [
              "array([ 3956,  3957,  3958,  3959,  3960,  3961,  3962,  3963,  3964,\n",
              "        3965,  3966,  3967,  3968,  3969,  3970,  3971,  3972,  3973,\n",
              "        3974,  3975,  3976,  3977,  3978,  3979,  3980,  3981,  3982,\n",
              "        3983,  3984,  3985,  4017,  4018,  4019,  4020,  4021,  4022,\n",
              "        4023,  4024,  4025,  4026,  4027,  4028,  4029,  4030,  4031,\n",
              "        4032,  4033,  4034,  4035,  4036,  4037,  4038,  4039,  4040,\n",
              "        4041,  4042,  4043,  4044,  4045,  4046,  4047, 13420])"
            ]
          },
          "execution_count": 73,
          "metadata": {},
          "output_type": "execute_result"
        }
      ],
      "source": [
        "idx = np.array([i for i in range(len(weather))])\n",
        "TAVG_idx = idx[weather['TAVG'].isna()]\n",
        "TMAX_idx = idx[weather['TMAX'].isna()]\n",
        "TMIN_idx = idx[weather['TMIN'].isna()]\n",
        "TAVG_idx"
      ]
    },
    {
      "cell_type": "markdown",
      "metadata": {
        "id": "GNnKhW7W3w9p"
      },
      "source": [
        "### Sample output\n",
        "\n",
        "```\n",
        "array([ 3956,  3957,  3958,  3959,  3960,  3961,  3962,  3963,  3964,\n",
        "        3965,  3966,  3967,  3968,  3969,  3970,  3971,  3972,  3973,\n",
        "        3974,  3975,  3976,  3977,  3978,  3979,  3980,  3981,  3982,\n",
        "        3983,  3984,  3985,  4017,  4018,  4019,  4020,  4021,  4022,\n",
        "        4023,  4024,  4025,  4026,  4027,  4028,  4029,  4030,  4031,\n",
        "        4032,  4033,  4034,  4035,  4036,  4037,  4038,  4039,  4040,\n",
        "        4041,  4042,  4043,  4044,  4045,  4046,  4047, 13420])\n",
        "```"
      ]
    },
    {
      "cell_type": "markdown",
      "metadata": {
        "id": "9pkWz_Z43w9p"
      },
      "source": [
        "You can replace the missing TAVG, TMAX, and TMIN with the average value for a particular station/airport. Because the consecutive rows of TAVG_idx are missing, replacing with a previous value would not be possible. Instead, replace it with the mean. Use the `groupby` function to aggregate the variables with a mean value."
      ]
    },
    {
      "cell_type": "code",
      "execution_count": 74,
      "metadata": {
        "colab": {
          "base_uri": "https://localhost:8080/",
          "height": 112
        },
        "id": "l3HG9pJD3w9q",
        "outputId": "fd12915c-e23f-46da-e90b-5043cf1cc0ee"
      },
      "outputs": [
        {
          "data": {
            "application/vnd.google.colaboratory.intrinsic+json": {
              "summary": "{\n  \"name\": \"weather_impute\",\n  \"rows\": 108,\n  \"fields\": [\n    {\n      \"column\": \"STATION\",\n      \"properties\": {\n        \"dtype\": \"category\",\n        \"num_unique_values\": 9,\n        \"samples\": [\n          \"USW00023234\",\n          \"USW00003927\",\n          \"USW00023174\"\n        ],\n        \"semantic_type\": \"\",\n        \"description\": \"\"\n      }\n    },\n    {\n      \"column\": \"MONTH\",\n      \"properties\": {\n        \"dtype\": \"category\",\n        \"num_unique_values\": 12,\n        \"samples\": [\n          \"11\",\n          \"10\",\n          \"01\"\n        ],\n        \"semantic_type\": \"\",\n        \"description\": \"\"\n      }\n    },\n    {\n      \"column\": \"TAVG\",\n      \"properties\": {\n        \"dtype\": \"number\",\n        \"std\": 83.03241965952708,\n        \"min\": -46.92903225806452,\n        \"max\": 355.10967741935485,\n        \"num_unique_values\": 108,\n        \"samples\": [\n          347.58666666666664,\n          52.75833333333333,\n          132.58064516129033\n        ],\n        \"semantic_type\": \"\",\n        \"description\": \"\"\n      }\n    },\n    {\n      \"column\": \"TMAX\",\n      \"properties\": {\n        \"dtype\": \"number\",\n        \"std\": 84.59661609415612,\n        \"min\": -8.612903225806452,\n        \"max\": 415.741935483871,\n        \"num_unique_values\": 108,\n        \"samples\": [\n          414.38,\n          126.08666666666667,\n          206.4967741935484\n        ],\n        \"semantic_type\": \"\",\n        \"description\": \"\"\n      }\n    },\n    {\n      \"column\": \"TMIN\",\n      \"properties\": {\n        \"dtype\": \"number\",\n        \"std\": 84.73980779080841,\n        \"min\": -87.69032258064516,\n        \"max\": 294.94193548387096,\n        \"num_unique_values\": 108,\n        \"samples\": [\n          272.26,\n          -30.14,\n          65.28387096774193\n        ],\n        \"semantic_type\": \"\",\n        \"description\": \"\"\n      }\n    }\n  ]\n}",
              "type": "dataframe",
              "variable_name": "weather_impute"
            },
            "text/html": [
              "\n",
              "  <div id=\"df-cdef725c-582a-4121-8a50-c68d875a6a30\" class=\"colab-df-container\">\n",
              "    <div>\n",
              "<style scoped>\n",
              "    .dataframe tbody tr th:only-of-type {\n",
              "        vertical-align: middle;\n",
              "    }\n",
              "\n",
              "    .dataframe tbody tr th {\n",
              "        vertical-align: top;\n",
              "    }\n",
              "\n",
              "    .dataframe thead th {\n",
              "        text-align: right;\n",
              "    }\n",
              "</style>\n",
              "<table border=\"1\" class=\"dataframe\">\n",
              "  <thead>\n",
              "    <tr style=\"text-align: right;\">\n",
              "      <th></th>\n",
              "      <th>STATION</th>\n",
              "      <th>MONTH</th>\n",
              "      <th>TAVG</th>\n",
              "      <th>TMAX</th>\n",
              "      <th>TMIN</th>\n",
              "    </tr>\n",
              "  </thead>\n",
              "  <tbody>\n",
              "    <tr>\n",
              "      <th>0</th>\n",
              "      <td>USW00003017</td>\n",
              "      <td>01</td>\n",
              "      <td>-2.741935</td>\n",
              "      <td>74.000000</td>\n",
              "      <td>-69.858065</td>\n",
              "    </tr>\n",
              "    <tr>\n",
              "      <th>1</th>\n",
              "      <td>USW00003017</td>\n",
              "      <td>02</td>\n",
              "      <td>11.219858</td>\n",
              "      <td>88.553191</td>\n",
              "      <td>-65.035461</td>\n",
              "    </tr>\n",
              "  </tbody>\n",
              "</table>\n",
              "</div>\n",
              "    <div class=\"colab-df-buttons\">\n",
              "\n",
              "  <div class=\"colab-df-container\">\n",
              "    <button class=\"colab-df-convert\" onclick=\"convertToInteractive('df-cdef725c-582a-4121-8a50-c68d875a6a30')\"\n",
              "            title=\"Convert this dataframe to an interactive table.\"\n",
              "            style=\"display:none;\">\n",
              "\n",
              "  <svg xmlns=\"http://www.w3.org/2000/svg\" height=\"24px\" viewBox=\"0 -960 960 960\">\n",
              "    <path d=\"M120-120v-720h720v720H120Zm60-500h600v-160H180v160Zm220 220h160v-160H400v160Zm0 220h160v-160H400v160ZM180-400h160v-160H180v160Zm440 0h160v-160H620v160ZM180-180h160v-160H180v160Zm440 0h160v-160H620v160Z\"/>\n",
              "  </svg>\n",
              "    </button>\n",
              "\n",
              "  <style>\n",
              "    .colab-df-container {\n",
              "      display:flex;\n",
              "      gap: 12px;\n",
              "    }\n",
              "\n",
              "    .colab-df-convert {\n",
              "      background-color: #E8F0FE;\n",
              "      border: none;\n",
              "      border-radius: 50%;\n",
              "      cursor: pointer;\n",
              "      display: none;\n",
              "      fill: #1967D2;\n",
              "      height: 32px;\n",
              "      padding: 0 0 0 0;\n",
              "      width: 32px;\n",
              "    }\n",
              "\n",
              "    .colab-df-convert:hover {\n",
              "      background-color: #E2EBFA;\n",
              "      box-shadow: 0px 1px 2px rgba(60, 64, 67, 0.3), 0px 1px 3px 1px rgba(60, 64, 67, 0.15);\n",
              "      fill: #174EA6;\n",
              "    }\n",
              "\n",
              "    .colab-df-buttons div {\n",
              "      margin-bottom: 4px;\n",
              "    }\n",
              "\n",
              "    [theme=dark] .colab-df-convert {\n",
              "      background-color: #3B4455;\n",
              "      fill: #D2E3FC;\n",
              "    }\n",
              "\n",
              "    [theme=dark] .colab-df-convert:hover {\n",
              "      background-color: #434B5C;\n",
              "      box-shadow: 0px 1px 3px 1px rgba(0, 0, 0, 0.15);\n",
              "      filter: drop-shadow(0px 1px 2px rgba(0, 0, 0, 0.3));\n",
              "      fill: #FFFFFF;\n",
              "    }\n",
              "  </style>\n",
              "\n",
              "    <script>\n",
              "      const buttonEl =\n",
              "        document.querySelector('#df-cdef725c-582a-4121-8a50-c68d875a6a30 button.colab-df-convert');\n",
              "      buttonEl.style.display =\n",
              "        google.colab.kernel.accessAllowed ? 'block' : 'none';\n",
              "\n",
              "      async function convertToInteractive(key) {\n",
              "        const element = document.querySelector('#df-cdef725c-582a-4121-8a50-c68d875a6a30');\n",
              "        const dataTable =\n",
              "          await google.colab.kernel.invokeFunction('convertToInteractive',\n",
              "                                                    [key], {});\n",
              "        if (!dataTable) return;\n",
              "\n",
              "        const docLinkHtml = 'Like what you see? Visit the ' +\n",
              "          '<a target=\"_blank\" href=https://colab.research.google.com/notebooks/data_table.ipynb>data table notebook</a>'\n",
              "          + ' to learn more about interactive tables.';\n",
              "        element.innerHTML = '';\n",
              "        dataTable['output_type'] = 'display_data';\n",
              "        await google.colab.output.renderOutput(dataTable, element);\n",
              "        const docLink = document.createElement('div');\n",
              "        docLink.innerHTML = docLinkHtml;\n",
              "        element.appendChild(docLink);\n",
              "      }\n",
              "    </script>\n",
              "  </div>\n",
              "\n",
              "\n",
              "    <div id=\"df-765cbc05-dea4-46a1-b7d1-f98e1302796b\">\n",
              "      <button class=\"colab-df-quickchart\" onclick=\"quickchart('df-765cbc05-dea4-46a1-b7d1-f98e1302796b')\"\n",
              "                title=\"Suggest charts\"\n",
              "                style=\"display:none;\">\n",
              "\n",
              "<svg xmlns=\"http://www.w3.org/2000/svg\" height=\"24px\"viewBox=\"0 0 24 24\"\n",
              "     width=\"24px\">\n",
              "    <g>\n",
              "        <path d=\"M19 3H5c-1.1 0-2 .9-2 2v14c0 1.1.9 2 2 2h14c1.1 0 2-.9 2-2V5c0-1.1-.9-2-2-2zM9 17H7v-7h2v7zm4 0h-2V7h2v10zm4 0h-2v-4h2v4z\"/>\n",
              "    </g>\n",
              "</svg>\n",
              "      </button>\n",
              "\n",
              "<style>\n",
              "  .colab-df-quickchart {\n",
              "      --bg-color: #E8F0FE;\n",
              "      --fill-color: #1967D2;\n",
              "      --hover-bg-color: #E2EBFA;\n",
              "      --hover-fill-color: #174EA6;\n",
              "      --disabled-fill-color: #AAA;\n",
              "      --disabled-bg-color: #DDD;\n",
              "  }\n",
              "\n",
              "  [theme=dark] .colab-df-quickchart {\n",
              "      --bg-color: #3B4455;\n",
              "      --fill-color: #D2E3FC;\n",
              "      --hover-bg-color: #434B5C;\n",
              "      --hover-fill-color: #FFFFFF;\n",
              "      --disabled-bg-color: #3B4455;\n",
              "      --disabled-fill-color: #666;\n",
              "  }\n",
              "\n",
              "  .colab-df-quickchart {\n",
              "    background-color: var(--bg-color);\n",
              "    border: none;\n",
              "    border-radius: 50%;\n",
              "    cursor: pointer;\n",
              "    display: none;\n",
              "    fill: var(--fill-color);\n",
              "    height: 32px;\n",
              "    padding: 0;\n",
              "    width: 32px;\n",
              "  }\n",
              "\n",
              "  .colab-df-quickchart:hover {\n",
              "    background-color: var(--hover-bg-color);\n",
              "    box-shadow: 0 1px 2px rgba(60, 64, 67, 0.3), 0 1px 3px 1px rgba(60, 64, 67, 0.15);\n",
              "    fill: var(--button-hover-fill-color);\n",
              "  }\n",
              "\n",
              "  .colab-df-quickchart-complete:disabled,\n",
              "  .colab-df-quickchart-complete:disabled:hover {\n",
              "    background-color: var(--disabled-bg-color);\n",
              "    fill: var(--disabled-fill-color);\n",
              "    box-shadow: none;\n",
              "  }\n",
              "\n",
              "  .colab-df-spinner {\n",
              "    border: 2px solid var(--fill-color);\n",
              "    border-color: transparent;\n",
              "    border-bottom-color: var(--fill-color);\n",
              "    animation:\n",
              "      spin 1s steps(1) infinite;\n",
              "  }\n",
              "\n",
              "  @keyframes spin {\n",
              "    0% {\n",
              "      border-color: transparent;\n",
              "      border-bottom-color: var(--fill-color);\n",
              "      border-left-color: var(--fill-color);\n",
              "    }\n",
              "    20% {\n",
              "      border-color: transparent;\n",
              "      border-left-color: var(--fill-color);\n",
              "      border-top-color: var(--fill-color);\n",
              "    }\n",
              "    30% {\n",
              "      border-color: transparent;\n",
              "      border-left-color: var(--fill-color);\n",
              "      border-top-color: var(--fill-color);\n",
              "      border-right-color: var(--fill-color);\n",
              "    }\n",
              "    40% {\n",
              "      border-color: transparent;\n",
              "      border-right-color: var(--fill-color);\n",
              "      border-top-color: var(--fill-color);\n",
              "    }\n",
              "    60% {\n",
              "      border-color: transparent;\n",
              "      border-right-color: var(--fill-color);\n",
              "    }\n",
              "    80% {\n",
              "      border-color: transparent;\n",
              "      border-right-color: var(--fill-color);\n",
              "      border-bottom-color: var(--fill-color);\n",
              "    }\n",
              "    90% {\n",
              "      border-color: transparent;\n",
              "      border-bottom-color: var(--fill-color);\n",
              "    }\n",
              "  }\n",
              "</style>\n",
              "\n",
              "      <script>\n",
              "        async function quickchart(key) {\n",
              "          const quickchartButtonEl =\n",
              "            document.querySelector('#' + key + ' button');\n",
              "          quickchartButtonEl.disabled = true;  // To prevent multiple clicks.\n",
              "          quickchartButtonEl.classList.add('colab-df-spinner');\n",
              "          try {\n",
              "            const charts = await google.colab.kernel.invokeFunction(\n",
              "                'suggestCharts', [key], {});\n",
              "          } catch (error) {\n",
              "            console.error('Error during call to suggestCharts:', error);\n",
              "          }\n",
              "          quickchartButtonEl.classList.remove('colab-df-spinner');\n",
              "          quickchartButtonEl.classList.add('colab-df-quickchart-complete');\n",
              "        }\n",
              "        (() => {\n",
              "          let quickchartButtonEl =\n",
              "            document.querySelector('#df-765cbc05-dea4-46a1-b7d1-f98e1302796b button');\n",
              "          quickchartButtonEl.style.display =\n",
              "            google.colab.kernel.accessAllowed ? 'block' : 'none';\n",
              "        })();\n",
              "      </script>\n",
              "    </div>\n",
              "\n",
              "    </div>\n",
              "  </div>\n"
            ],
            "text/plain": [
              "       STATION MONTH       TAVG       TMAX       TMIN\n",
              "0  USW00003017    01  -2.741935  74.000000 -69.858065\n",
              "1  USW00003017    02  11.219858  88.553191 -65.035461"
            ]
          },
          "execution_count": 74,
          "metadata": {},
          "output_type": "execute_result"
        }
      ],
      "source": [
        "weather_impute = weather.groupby(['STATION', 'MONTH']).agg({\n",
        "    'TAVG': 'mean',\n",
        "    'TMAX': 'mean',\n",
        "    'TMIN': 'mean'\n",
        "}).reset_index()\n",
        "weather_impute.head(2)"
      ]
    },
    {
      "cell_type": "markdown",
      "metadata": {
        "id": "p4zUyHRQ3w9q"
      },
      "source": [
        "Merge the mean data with the weather data."
      ]
    },
    {
      "cell_type": "code",
      "execution_count": 75,
      "metadata": {
        "id": "r2x3WIIR3w9q"
      },
      "outputs": [],
      "source": [
        "### get the yesterday's data\n",
        "weather = pd.merge(weather, weather_impute,  how='left', left_on=['MONTH','STATION'], right_on = ['MONTH','STATION'])\\\n",
        ".rename(columns = {'TAVG_y':'TAVG_AVG',\n",
        "                   'TMAX_y':'TMAX_AVG',\n",
        "                   'TMIN_y':'TMIN_AVG',\n",
        "                   'TAVG_x':'TAVG',\n",
        "                   'TMAX_x':'TMAX',\n",
        "                   'TMIN_x':'TMIN'})"
      ]
    },
    {
      "cell_type": "markdown",
      "metadata": {
        "id": "fs0CO0PI3w9q"
      },
      "source": [
        "Check for missing values again."
      ]
    },
    {
      "cell_type": "code",
      "execution_count": 76,
      "metadata": {
        "colab": {
          "base_uri": "https://localhost:8080/",
          "height": 523
        },
        "id": "GvbTOt7R3w9q",
        "outputId": "d7a7660b-0cb6-49e7-9f63-c08b8eb4fb9d"
      },
      "outputs": [
        {
          "data": {
            "text/html": [
              "<div>\n",
              "<style scoped>\n",
              "    .dataframe tbody tr th:only-of-type {\n",
              "        vertical-align: middle;\n",
              "    }\n",
              "\n",
              "    .dataframe tbody tr th {\n",
              "        vertical-align: top;\n",
              "    }\n",
              "\n",
              "    .dataframe thead th {\n",
              "        text-align: right;\n",
              "    }\n",
              "</style>\n",
              "<table border=\"1\" class=\"dataframe\">\n",
              "  <thead>\n",
              "    <tr style=\"text-align: right;\">\n",
              "      <th></th>\n",
              "      <th>0</th>\n",
              "    </tr>\n",
              "  </thead>\n",
              "  <tbody>\n",
              "    <tr>\n",
              "      <th>STATION</th>\n",
              "      <td>0</td>\n",
              "    </tr>\n",
              "    <tr>\n",
              "      <th>DATE</th>\n",
              "      <td>0</td>\n",
              "    </tr>\n",
              "    <tr>\n",
              "      <th>AWND</th>\n",
              "      <td>0</td>\n",
              "    </tr>\n",
              "    <tr>\n",
              "      <th>PRCP</th>\n",
              "      <td>0</td>\n",
              "    </tr>\n",
              "    <tr>\n",
              "      <th>SNOW</th>\n",
              "      <td>0</td>\n",
              "    </tr>\n",
              "    <tr>\n",
              "      <th>SNWD</th>\n",
              "      <td>0</td>\n",
              "    </tr>\n",
              "    <tr>\n",
              "      <th>TAVG</th>\n",
              "      <td>0</td>\n",
              "    </tr>\n",
              "    <tr>\n",
              "      <th>TMAX</th>\n",
              "      <td>0</td>\n",
              "    </tr>\n",
              "    <tr>\n",
              "      <th>TMIN</th>\n",
              "      <td>0</td>\n",
              "    </tr>\n",
              "    <tr>\n",
              "      <th>airport</th>\n",
              "      <td>0</td>\n",
              "    </tr>\n",
              "    <tr>\n",
              "      <th>MONTH</th>\n",
              "      <td>0</td>\n",
              "    </tr>\n",
              "    <tr>\n",
              "      <th>TAVG_AVG</th>\n",
              "      <td>0</td>\n",
              "    </tr>\n",
              "    <tr>\n",
              "      <th>TMAX_AVG</th>\n",
              "      <td>0</td>\n",
              "    </tr>\n",
              "    <tr>\n",
              "      <th>TMIN_AVG</th>\n",
              "      <td>0</td>\n",
              "    </tr>\n",
              "  </tbody>\n",
              "</table>\n",
              "</div><br><label><b>dtype:</b> int64</label>"
            ],
            "text/plain": [
              "STATION     0\n",
              "DATE        0\n",
              "AWND        0\n",
              "PRCP        0\n",
              "SNOW        0\n",
              "SNWD        0\n",
              "TAVG        0\n",
              "TMAX        0\n",
              "TMIN        0\n",
              "airport     0\n",
              "MONTH       0\n",
              "TAVG_AVG    0\n",
              "TMAX_AVG    0\n",
              "TMIN_AVG    0\n",
              "dtype: int64"
            ]
          },
          "execution_count": 76,
          "metadata": {},
          "output_type": "execute_result"
        }
      ],
      "source": [
        "weather.TAVG[TAVG_idx] = weather.TAVG_AVG[TAVG_idx]\n",
        "weather.TMAX[TMAX_idx] = weather.TMAX_AVG[TMAX_idx]\n",
        "weather.TMIN[TMIN_idx] = weather.TMIN_AVG[TMIN_idx]\n",
        "weather.isna().sum()"
      ]
    },
    {
      "cell_type": "markdown",
      "metadata": {
        "id": "fYEUdlPw3w9r"
      },
      "source": [
        "Drop `STATION,MONTH,TAVG_AVG,TMAX_AVG,TMIN_AVG,TMAX,TMIN,SNWD` from the dataset"
      ]
    },
    {
      "cell_type": "code",
      "execution_count": 77,
      "metadata": {
        "id": "VfSKCtDO3w9r"
      },
      "outputs": [],
      "source": [
        "weather.drop(columns=['STATION','MONTH','TAVG_AVG', 'TMAX_AVG', 'TMIN_AVG', 'TMAX' ,'TMIN', 'SNWD'],inplace=True)"
      ]
    },
    {
      "cell_type": "markdown",
      "metadata": {
        "id": "f8SdIRgr3w9r"
      },
      "source": [
        "Add the origin and destination weather conditions to the dataset."
      ]
    },
    {
      "cell_type": "code",
      "execution_count": 79,
      "metadata": {
        "id": "uXBaTEynpJsD"
      },
      "outputs": [],
      "source": [
        "data_orig['FlightDate'] = pd.to_datetime(data_orig['FlightDate'], errors='coerce')\n",
        "weather['DATE'] = pd.to_datetime(weather['DATE'], errors='coerce')"
      ]
    },
    {
      "cell_type": "code",
      "execution_count": 80,
      "metadata": {
        "id": "VK5s7eQQ3w9r"
      },
      "outputs": [],
      "source": [
        "\n",
        "data_orig = pd.merge(\n",
        "    data_orig, weather,\n",
        "    how='left',\n",
        "    left_on=['FlightDate', 'Origin'],\n",
        "    right_on=['DATE', 'airport']\n",
        ").rename(columns={\n",
        "    'AWND': 'AWND_O',\n",
        "    'PRCP': 'PRCP_O',\n",
        "    'TAVG': 'TAVG_O',\n",
        "    'SNOW': 'SNOW_O'\n",
        "}).drop(columns=['DATE', 'airport'])\n",
        "\n",
        "# Add destination weather\n",
        "data_orig = pd.merge(\n",
        "    data_orig, weather,\n",
        "    how='left',\n",
        "    left_on=['FlightDate', 'Dest'],\n",
        "    right_on=['DATE', 'airport']\n",
        ").rename(columns={\n",
        "    'AWND': 'AWND_D',\n",
        "    'PRCP': 'PRCP_D',\n",
        "    'TAVG': 'TAVG_D',\n",
        "    'SNOW': 'SNOW_D'\n",
        "}).drop(columns=['DATE', 'airport'])\n",
        "\n"
      ]
    },
    {
      "cell_type": "markdown",
      "metadata": {
        "id": "fjTQ9P_Q3w9r"
      },
      "source": [
        "**Note**: It is always a good practice to check nulls/NAs after joins."
      ]
    },
    {
      "cell_type": "code",
      "execution_count": 81,
      "metadata": {
        "colab": {
          "base_uri": "https://localhost:8080/"
        },
        "id": "E3FcdEML3w9s",
        "outputId": "065036f0-9f66-4486-8b71-8ad5c94b4602"
      },
      "outputs": [
        {
          "data": {
            "text/plain": [
              "0"
            ]
          },
          "execution_count": 81,
          "metadata": {},
          "output_type": "execute_result"
        }
      ],
      "source": [
        "sum(data.isna().any())"
      ]
    },
    {
      "cell_type": "code",
      "execution_count": 82,
      "metadata": {
        "colab": {
          "base_uri": "https://localhost:8080/"
        },
        "id": "syd3BQRV3w9s",
        "outputId": "69ab3d14-f2c9-4fcb-fb1e-e68f766e61bd"
      },
      "outputs": [
        {
          "data": {
            "text/plain": [
              "Index(['Year', 'Quarter', 'Month', 'DayofMonth', 'DayOfWeek', 'FlightDate',\n",
              "       'Reporting_Airline', 'Origin', 'OriginState', 'Dest', 'DestState',\n",
              "       'CRSDepTime', 'ArrDelay', 'ArrDelayMinutes', 'is_delay', 'Cancelled',\n",
              "       'Diverted', 'AirTime', 'Distance', 'DistanceGroup', 'DepHourofDay',\n",
              "       'is_holiday', 'AWND_O', 'PRCP_O', 'SNOW_O', 'TAVG_O', 'AWND_D',\n",
              "       'PRCP_D', 'SNOW_D', 'TAVG_D'],\n",
              "      dtype='object')"
            ]
          },
          "execution_count": 82,
          "metadata": {},
          "output_type": "execute_result"
        }
      ],
      "source": [
        "data_orig.columns"
      ]
    },
    {
      "cell_type": "markdown",
      "metadata": {
        "id": "I-iWL8tB3w9s"
      },
      "source": [
        "Convert the categorical data into numerical data using one-hot encoding."
      ]
    },
    {
      "cell_type": "code",
      "execution_count": 85,
      "metadata": {
        "id": "5mH_Pkpo3w9s"
      },
      "outputs": [],
      "source": [
        "data = data_orig.copy()\n",
        "data = data[['is_delay', 'Year', 'Quarter', 'Month', 'DayofMonth', 'DayOfWeek',\n",
        "       'Reporting_Airline', 'Origin', 'Dest','Distance','DepHourofDay','is_holiday', 'AWND_O', 'PRCP_O',\n",
        "       'TAVG_O', 'AWND_D', 'PRCP_D', 'TAVG_D', 'SNOW_O', 'SNOW_D']]\n",
        "\n",
        "\n",
        "categorical_columns  = ['Year', 'Quarter', 'Month', 'DayofMonth', 'DayOfWeek',\n",
        "       'Reporting_Airline', 'Origin', 'Dest', 'is_holiday']\n",
        "for c in categorical_columns:\n",
        "    data[c] = data[c].astype('category')"
      ]
    },
    {
      "cell_type": "code",
      "execution_count": 86,
      "metadata": {
        "id": "GwU5hBgD3w9t"
      },
      "outputs": [],
      "source": [
        "data_dummies = pd.get_dummies(data[categorical_columns], drop_first=True)"
      ]
    },
    {
      "cell_type": "code",
      "execution_count": 87,
      "metadata": {
        "id": "7QaO6oSfaqjQ"
      },
      "outputs": [],
      "source": [
        "numeric_columns = ['Distance', 'AWND_O', 'PRCP_O', 'TAVG_O', 'AWND_D', 'PRCP_D', 'TAVG_D', 'SNOW_O', 'SNOW_D']\n",
        "data = pd.concat([data[['is_delay'] + numeric_columns], data_dummies], axis=1)"
      ]
    },
    {
      "cell_type": "code",
      "execution_count": null,
      "metadata": {
        "id": "g_OkQfikZ4zU"
      },
      "outputs": [],
      "source": [
        "\n"
      ]
    },
    {
      "cell_type": "markdown",
      "metadata": {
        "id": "7LwzOubA3w9t"
      },
      "source": [
        "### Sample code\n",
        "\n",
        "```\n",
        "data_dummies = pd.get_dummies(data[['Year', 'Quarter', 'Month', 'DayofMonth', 'DayOfWeek', 'Reporting_Airline', 'Origin', 'Dest', 'is_holiday']], drop_first=True)\n",
        "data = pd.concat([data, data_dummies], axis = 1)\n",
        "categorical_columns.remove('is_delay')\n",
        "data.drop(categorical_columns,axis=1, inplace=True)\n",
        "```"
      ]
    },
    {
      "cell_type": "markdown",
      "metadata": {
        "id": "GgMGBzP53w9t"
      },
      "source": [
        "Check the new columns."
      ]
    },
    {
      "cell_type": "code",
      "execution_count": 88,
      "metadata": {
        "colab": {
          "base_uri": "https://localhost:8080/"
        },
        "id": "-WlUarqq3w9t",
        "outputId": "2ebd845a-1325-4637-af94-4cfa35791a68"
      },
      "outputs": [
        {
          "data": {
            "text/plain": [
              "Index(['is_delay', 'Distance', 'AWND_O', 'PRCP_O', 'TAVG_O', 'AWND_D',\n",
              "       'PRCP_D', 'TAVG_D', 'SNOW_O', 'SNOW_D', 'Year_2015', 'Year_2016',\n",
              "       'Year_2017', 'Year_2018', 'Quarter_2', 'Quarter_3', 'Quarter_4',\n",
              "       'Month_2', 'Month_3', 'Month_4', 'Month_5', 'Month_6', 'Month_7',\n",
              "       'Month_8', 'Month_9', 'Month_10', 'Month_11', 'Month_12',\n",
              "       'DayofMonth_2', 'DayofMonth_3', 'DayofMonth_4', 'DayofMonth_5',\n",
              "       'DayofMonth_6', 'DayofMonth_7', 'DayofMonth_8', 'DayofMonth_9',\n",
              "       'DayofMonth_10', 'DayofMonth_11', 'DayofMonth_12', 'DayofMonth_13',\n",
              "       'DayofMonth_14', 'DayofMonth_15', 'DayofMonth_16', 'DayofMonth_17',\n",
              "       'DayofMonth_18', 'DayofMonth_19', 'DayofMonth_20', 'DayofMonth_21',\n",
              "       'DayofMonth_22', 'DayofMonth_23', 'DayofMonth_24', 'DayofMonth_25',\n",
              "       'DayofMonth_26', 'DayofMonth_27', 'DayofMonth_28', 'DayofMonth_29',\n",
              "       'DayofMonth_30', 'DayofMonth_31', 'DayOfWeek_2', 'DayOfWeek_3',\n",
              "       'DayOfWeek_4', 'DayOfWeek_5', 'DayOfWeek_6', 'DayOfWeek_7',\n",
              "       'Reporting_Airline_DL', 'Reporting_Airline_OO', 'Reporting_Airline_UA',\n",
              "       'Reporting_Airline_WN', 'Origin_CLT', 'Origin_DEN', 'Origin_DFW',\n",
              "       'Origin_IAH', 'Origin_LAX', 'Origin_ORD', 'Origin_PHX', 'Origin_SFO',\n",
              "       'Dest_CLT', 'Dest_DEN', 'Dest_DFW', 'Dest_IAH', 'Dest_LAX', 'Dest_ORD',\n",
              "       'Dest_PHX', 'Dest_SFO', 'is_holiday_1'],\n",
              "      dtype='object')"
            ]
          },
          "execution_count": 88,
          "metadata": {},
          "output_type": "execute_result"
        }
      ],
      "source": [
        "data.columns"
      ]
    },
    {
      "cell_type": "markdown",
      "metadata": {
        "id": "_6-Hp7Mq3w9t"
      },
      "source": [
        "### Sample output\n",
        "\n",
        "```\n",
        "Index(['Distance', 'DepHourofDay', 'is_delay', 'AWND_O', 'PRCP_O', 'TAVG_O',\n",
        "       'AWND_D', 'PRCP_D', 'TAVG_D', 'SNOW_O', 'SNOW_D', 'Year_2015',\n",
        "       'Year_2016', 'Year_2017', 'Year_2018', 'Quarter_2', 'Quarter_3',\n",
        "       'Quarter_4', 'Month_2', 'Month_3', 'Month_4', 'Month_5', 'Month_6',\n",
        "       'Month_7', 'Month_8', 'Month_9', 'Month_10', 'Month_11', 'Month_12',\n",
        "       'DayofMonth_2', 'DayofMonth_3', 'DayofMonth_4', 'DayofMonth_5',\n",
        "       'DayofMonth_6', 'DayofMonth_7', 'DayofMonth_8', 'DayofMonth_9',\n",
        "       'DayofMonth_10', 'DayofMonth_11', 'DayofMonth_12', 'DayofMonth_13',\n",
        "       'DayofMonth_14', 'DayofMonth_15', 'DayofMonth_16', 'DayofMonth_17',\n",
        "       'DayofMonth_18', 'DayofMonth_19', 'DayofMonth_20', 'DayofMonth_21',\n",
        "       'DayofMonth_22', 'DayofMonth_23', 'DayofMonth_24', 'DayofMonth_25',\n",
        "       'DayofMonth_26', 'DayofMonth_27', 'DayofMonth_28', 'DayofMonth_29',\n",
        "       'DayofMonth_30', 'DayofMonth_31', 'DayOfWeek_2', 'DayOfWeek_3',\n",
        "       'DayOfWeek_4', 'DayOfWeek_5', 'DayOfWeek_6', 'DayOfWeek_7',\n",
        "       'Reporting_Airline_DL', 'Reporting_Airline_OO', 'Reporting_Airline_UA',\n",
        "       'Reporting_Airline_WN', 'Origin_CLT', 'Origin_DEN', 'Origin_DFW',\n",
        "       'Origin_IAH', 'Origin_LAX', 'Origin_ORD', 'Origin_PHX', 'Origin_SFO',\n",
        "       'Dest_CLT', 'Dest_DEN', 'Dest_DFW', 'Dest_IAH', 'Dest_LAX', 'Dest_ORD',\n",
        "       'Dest_PHX', 'Dest_SFO', 'is_holiday_1'],\n",
        "      dtype='object')\n",
        "```"
      ]
    },
    {
      "cell_type": "markdown",
      "metadata": {
        "id": "xcv-z5nA3w9t"
      },
      "source": [
        "Rename the `is_delay` column to `target` again. Use the same code as before."
      ]
    },
    {
      "cell_type": "code",
      "execution_count": 89,
      "metadata": {
        "id": "e2wRNmfF3w9u"
      },
      "outputs": [],
      "source": [
        "data.rename(columns={'is_delay': 'target'}, inplace=True)# Enter your code here"
      ]
    },
    {
      "cell_type": "code",
      "execution_count": 90,
      "metadata": {
        "id": "WmpCQU633w9u"
      },
      "outputs": [],
      "source": [
        "# write code to Save the new combined csv file (combined_csv_v2.csv) to your local computer\n",
        "# note this combined file will be also used in part B\n",
        "\n",
        "data.to_csv('combined_csv_v2.csv', index=False)\n",
        "#print(\"File saved as combined_csv_v2.csv\")"
      ]
    },
    {
      "cell_type": "markdown",
      "metadata": {
        "id": "ai55TvqH3w9u"
      },
      "source": [
        "Create the training and testing sets again."
      ]
    },
    {
      "cell_type": "code",
      "execution_count": 91,
      "metadata": {
        "id": "xKQ3rZsH3w9u"
      },
      "outputs": [],
      "source": [
        "# Enter your code here\n",
        "X = data.drop('target', axis=1)\n",
        "y = data['target']\n",
        "\n",
        "X_train, X_test, y_train, y_test = train_test_split(\n",
        "    X, y, test_size=0.2, random_state=42, stratify=y\n",
        ")"
      ]
    },
    {
      "cell_type": "markdown",
      "metadata": {
        "id": "cFqg6FxP3w9u"
      },
      "source": [
        "### New baseline classifier\n",
        "\n",
        "Now, see if these new features add any predictive power to the model."
      ]
    },
    {
      "cell_type": "code",
      "execution_count": 92,
      "metadata": {
        "id": "A986haKr3w9u"
      },
      "outputs": [],
      "source": [
        "\n",
        "classifier2 = LogisticRegression(max_iter=1000, solver='lbfgs')"
      ]
    },
    {
      "cell_type": "code",
      "execution_count": 93,
      "metadata": {
        "id": "IOzzYLZR3w9v"
      },
      "outputs": [],
      "source": [
        "\n",
        "classifier2.fit(X_train, y_train)\n",
        "\n",
        "y_pred = classifier2.predict(X_test)\n",
        "y_prob = classifier2.predict_proba(X_test)[:, 1]"
      ]
    },
    {
      "cell_type": "markdown",
      "metadata": {
        "id": "1zccFOde3w9v"
      },
      "source": [
        "Perform the evaluaion as you have done with the previous model and plot/show the same metrics"
      ]
    },
    {
      "cell_type": "code",
      "execution_count": 94,
      "metadata": {
        "id": "Gual3ZgeYF3x"
      },
      "outputs": [],
      "source": [
        "from sklearn import metrics\n",
        "def plot_confusion_matrix(test_labels, target_predicted):\n",
        "    cm = metrics.confusion_matrix(test_labels, target_predicted)\n",
        "    sns.heatmap(cm, annot=True, fmt='d', cmap='Blues', cbar=False)\n",
        "    plt.xlabel('Predicted')\n",
        "    plt.ylabel('Actual')\n",
        "    plt.title('Confusion Matrix')\n",
        "    plt.show()\n",
        "\n",
        "def plot_roc(test_labels, target_predicted_probs):\n",
        "    fpr, tpr, thresholds = metrics.roc_curve(test_labels, target_predicted_probs)\n",
        "    auc = metrics.roc_auc_score(test_labels, target_predicted_probs)\n",
        "\n",
        "    plt.plot(fpr, tpr, label=f'AUC = {auc:.2f}')\n",
        "    plt.plot([0, 1], [0, 1], linestyle='--', color='gray')\n",
        "    plt.title('ROC Curve')\n",
        "    plt.xlabel('False Positive Rate')\n",
        "    plt.ylabel('True Positive Rate')\n",
        "    plt.legend()\n",
        "    plt.show()\n",
        "\n",
        "    accuracy = metrics.accuracy_score(test_labels, y_pred)\n",
        "    precision = metrics.precision_score(test_labels, y_pred)\n",
        "    recall = metrics.recall_score(test_labels, y_pred)\n",
        "    sensitivity = recall\n",
        "    specificity = metrics.recall_score(test_labels, y_pred, pos_label=0)\n",
        "\n",
        "    print(f\"Accuracy: {accuracy:.3f}\")\n",
        "    print(f\"Precision: {precision:.3f}\")\n",
        "    print(f\"Recall (Sensitivity): {recall:.3f}\")\n",
        "    print(f\"Specificity: {specificity:.3f}\")\n",
        "    print(f\"AUC: {auc:.3f}\")"
      ]
    },
    {
      "cell_type": "code",
      "execution_count": 95,
      "metadata": {
        "colab": {
          "base_uri": "https://localhost:8080/",
          "height": 1000
        },
        "id": "4mkhBOiuYGf4",
        "outputId": "3efc029e-63e2-4037-80a6-f56baea46a65"
      },
      "outputs": [
        {
          "data": {
            "image/png": "[encoded data removed]",
            "text/plain": [
              "<Figure size 640x480 with 1 Axes>"
            ]
          },
          "metadata": {},
          "output_type": "display_data"
        },
        {
          "data": {
            "image/png": "[encoded data removed]",
            "text/plain": [
              "<Figure size 640x480 with 1 Axes>"
            ]
          },
          "metadata": {},
          "output_type": "display_data"
        },
        {
          "name": "stdout",
          "output_type": "stream",
          "text": [
            "Accuracy: 0.791\n",
            "Precision: 0.537\n",
            "Recall (Sensitivity): 0.039\n",
            "Specificity: 0.991\n",
            "AUC: 0.653\n"
          ]
        }
      ],
      "source": [
        "plot_confusion_matrix(y_test, y_pred)\n",
        "plot_roc(y_test, y_prob)"
      ]
    },
    {
      "cell_type": "markdown",
      "metadata": {
        "id": "oIHoXulc3w9v"
      },
      "source": [
        "Question: did you notice a difference by adding the extra data on the results?"
      ]
    },
    {
      "cell_type": "markdown",
      "metadata": {
        "id": "PQa4ADCKeULy"
      },
      "source": [
        "# Enter answer here and turn the cell type into markdown\n",
        "\n",
        "```\n",
        " Yes there is notable positive difference in results after adding extra data to predict flight delays. Recall score jumps from 0.4% to 3.8% is very significant as compared to previous. Extra data addition hepled model to predict delays more effeciently but there is still need lot of improvement by using any class balance technique or resampling.\n",
        "\n",
        "## initial accuracy without extra data\n",
        "\n",
        "Accuracy     : 0.790\n",
        "Precision    : 0.575\n",
        "Recall (Sensitivity): 0.004\n",
        "Specificity  : 0.999\n",
        "Auc: 0.64\n",
        "\n",
        "## Now after adding extra data:\n",
        "Accuracy: 0.791\n",
        "Precision: 0.539\n",
        "Recall (Sensitivity): 0.038\n",
        "Specificity: 0.991\n",
        "AUC: 0.654\n",
        "```\n"
      ]
    },
    {
      "cell_type": "markdown",
      "metadata": {
        "id": "61gVJ1z93w9v"
      },
      "source": [
        "# Step 6: Using Tableau\n",
        "\n",
        "Use Tableau to load the combined_csv_v2.csv file and build a dashboard that show your understanding of the data and business problem.\n",
        "### what to do:\n",
        "1. Load the data into Tableau and build the dashboard\n",
        "2. Share the dashboard on your Tableau public account\n",
        "3. Copy the link of the shared dashboard below\n",
        "\n",
        "Note: The dashboard needs to be self explainable to others, so make it simple and add only the features that you feel heighlight the main question(s) of the prblem statement."
      ]
    },
    {
      "cell_type": "code",
      "execution_count": null,
      "metadata": {
        "id": "LvuPYOA93w9v"
      },
      "outputs": [],
      "source": [
        "https://public.tableau.com/views/Flight_Delay_17616541834790/Dashboard1?:language=en-US&:sid=&:redirect=auth&:display_count=n&:origin=viz_share_link\n"
      ]
    },
    {
      "cell_type": "markdown",
      "metadata": {
        "id": "R1vxeyRQ3w9w"
      },
      "source": [
        "## Conclusion\n",
        "\n",
        "You've now gone through at least a couple iterations of training and evaluating your model. It's time to wrap up this project and reflect on what you've learned and what types of steps you might take moving forward (assuming you had more time). Use the cell below to answer some of these and other relevant questions:\n",
        "\n",
        "1. Does your model performance meet your business goal? If not, what are some things you'd like to do differently if you had more time for tuning?\n",
        "2. To what extent did your model improve as you made changes to your dataset? What types of techniques did you employ throughout this project that you felt yielded the greatest improvements in your model?\n",
        "3. What were some of the biggest challenges you encountered throughout this project?\n",
        "4. What were the three most important things you learned about machine learning while completing this project?"
      ]
    },
    {
      "cell_type": "markdown",
      "metadata": {
        "id": "5egblRwtv93C"
      },
      "source": [
        "# write your answers here\n",
        "\n",
        "```\n",
        "Q1: Does your model performance meet your business goal? If not, what are some things you'd like to do differently if you had more time for tuning?\n",
        "Ans: Although the performance is up to the mark even after doing features engineering, one-hot encoding, removing irrelevant features etc , only 4% increase in recall scores. First of all i will do data balancing and resampling technique because data is highly imbalanced. Secondly hyper parameter tunning and feature engineering such as (weather_severity, airport congestion etc.) to improve results.\n",
        "Q2:To what extent did your model improve as you made changes to your dataset? What types of techniques did you employ throughout this project that you felt yielded the greatest improvements in your model?\n",
        "Ans: After adding external weather-related data, model area under the curve scores improved from 0.63 to 0.65, and recall from 0.4% to 3%. Most impactful techniqyes are feature engineering, one hot encoding and removing non-impactful features.\n",
        "Q3: What were some of the biggest challenges you encountered throughout this project?\n",
        "Ans: Biggest challenge is a size of dataset that i encountered throughout project.\n",
        "Q4: What were the three most important things you learned about machine learning while completing this project?\n",
        "Ans: How to handele large dataset\n",
        "2: Impact of data imbalancing on recall\n",
        "3: Data Modelling  and Feature engineering\n",
        "\n",
        "```"
      ]
    }
  ],
  "metadata": {
    "colab": {
      "provenance": []
    },
    "kernelspec": {
      "display_name": "Python 3",
      "language": "python",
      "name": "python3"
    },
    "language_info": {
      "codemirror_mode": {
        "name": "ipython",
        "version": 3
      },
      "file_extension": ".py",
      "mimetype": "text/x-python",
      "name": "python",
      "nbconvert_exporter": "python",
      "pygments_lexer": "ipython3",
      "version": "3.8.8"
    }
  },
  "nbformat": 4,
  "nbformat_minor": 0
}
